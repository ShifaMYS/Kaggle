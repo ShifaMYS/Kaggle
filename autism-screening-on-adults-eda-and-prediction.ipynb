{
 "cells": [
  {
   "cell_type": "markdown",
   "execution_count": null,
   "metadata": {
    "papermill": {
     "duration": 0.012127,
     "end_time": "2020-08-24T08:47:45.428359",
     "exception": false,
     "start_time": "2020-08-24T08:47:45.416232",
     "status": "completed"
    },
    "tags": []
   },
   "source": [
    "In this notebook I am going to perform EDA and binary classification using catboost classifier.\n",
    "\n",
    "**EDA:**\n",
    "\n",
    "* Finding correlation between categorical features and target using swarmplots.\n",
    "* Distribution plot for age.\n",
    "* Plot of top countries participated in survey.\n",
    "\n",
    "**Classification:**\n",
    "\n",
    "Classification using catboost classifier.\n",
    "\n",
    "Why catboost?\n",
    "* Because we don't need to preprocess categorical features for using catboost.\n",
    "* Handle class imbalance using class weights."
   ]
  },
  {
   "cell_type": "markdown",
   "execution_count": null,
   "metadata": {
    "papermill": {
     "duration": 0.011227,
     "end_time": "2020-08-24T08:47:45.449564",
     "exception": false,
     "start_time": "2020-08-24T08:47:45.438337",
     "status": "completed"
    },
    "tags": []
   },
   "source": [
    "**Let's import all required packages**"
   ]
  },
  {
   "cell_type": "code",
   "execution_count": 1,
   "metadata": {
    "_cell_guid": "b1076dfc-b9ad-4769-8c92-a6c4dae69d19",
    "_uuid": "8f2839f25d086af736a60e9eeb907d3b93b6e0e5",
    "execution": {
     "iopub.execute_input": "2020-08-24T08:47:45.480603Z",
     "iopub.status.busy": "2020-08-24T08:47:45.479505Z",
     "iopub.status.idle": "2020-08-24T08:47:46.755907Z",
     "shell.execute_reply": "2020-08-24T08:47:46.755049Z"
    },
    "papermill": {
     "duration": 1.296816,
     "end_time": "2020-08-24T08:47:46.756043",
     "exception": false,
     "start_time": "2020-08-24T08:47:45.459227",
     "status": "completed"
    },
    "tags": []
   },
   "outputs": [],
   "source": [
    "import pandas as pd\n",
    "import numpy as np\n",
    "import matplotlib.pyplot as plt\n",
    "import seaborn as sns\n",
    "from sklearn import preprocessing\n",
    "from sklearn .metrics import accuracy_score, f1_score\n",
    "from sklearn.model_selection import train_test_split\n",
    "from catboost import CatBoostClassifier\n",
    "\n",
    "seed = 143\n",
    "np.random.seed(seed)\n",
    "\n",
    "%matplotlib inline"
   ]
  },
  {
   "cell_type": "markdown",
   "execution_count": null,
   "metadata": {
    "papermill": {
     "duration": 0.009811,
     "end_time": "2020-08-24T08:47:46.776063",
     "exception": false,
     "start_time": "2020-08-24T08:47:46.766252",
     "status": "completed"
    },
    "tags": []
   },
   "source": [
    "Load the data"
   ]
  },
  {
   "cell_type": "code",
   "execution_count": 2,
   "metadata": {
    "_cell_guid": "79c7e3d0-c299-4dcb-8224-4455121ee9b0",
    "_uuid": "d629ff2d2480ee46fbb7e2d37f6b5fab8052498a",
    "execution": {
     "iopub.execute_input": "2020-08-24T08:47:46.804572Z",
     "iopub.status.busy": "2020-08-24T08:47:46.803776Z",
     "iopub.status.idle": "2020-08-24T08:47:46.819953Z",
     "shell.execute_reply": "2020-08-24T08:47:46.819177Z"
    },
    "papermill": {
     "duration": 0.034292,
     "end_time": "2020-08-24T08:47:46.820102",
     "exception": false,
     "start_time": "2020-08-24T08:47:46.785810",
     "status": "completed"
    },
    "tags": []
   },
   "outputs": [],
   "source": [
    "df = pd.read_csv('../input/autism-screening-on-adults/autism_screening.csv')"
   ]
  },
  {
   "cell_type": "code",
   "execution_count": 3,
   "metadata": {
    "execution": {
     "iopub.execute_input": "2020-08-24T08:47:46.848144Z",
     "iopub.status.busy": "2020-08-24T08:47:46.847145Z",
     "iopub.status.idle": "2020-08-24T08:47:46.851481Z",
     "shell.execute_reply": "2020-08-24T08:47:46.852045Z"
    },
    "papermill": {
     "duration": 0.021985,
     "end_time": "2020-08-24T08:47:46.852224",
     "exception": false,
     "start_time": "2020-08-24T08:47:46.830239",
     "status": "completed"
    },
    "tags": []
   },
   "outputs": [
    {
     "data": {
      "text/plain": [
       "704"
      ]
     },
     "execution_count": 3,
     "metadata": {},
     "output_type": "execute_result"
    }
   ],
   "source": [
    "len(df)"
   ]
  },
  {
   "cell_type": "markdown",
   "execution_count": null,
   "metadata": {
    "papermill": {
     "duration": 0.009747,
     "end_time": "2020-08-24T08:47:46.872147",
     "exception": false,
     "start_time": "2020-08-24T08:47:46.862400",
     "status": "completed"
    },
    "tags": []
   },
   "source": [
    "Glimpse the data"
   ]
  },
  {
   "cell_type": "code",
   "execution_count": 4,
   "metadata": {
    "execution": {
     "iopub.execute_input": "2020-08-24T08:47:46.919514Z",
     "iopub.status.busy": "2020-08-24T08:47:46.918675Z",
     "iopub.status.idle": "2020-08-24T08:47:46.935114Z",
     "shell.execute_reply": "2020-08-24T08:47:46.934490Z"
    },
    "papermill": {
     "duration": 0.053106,
     "end_time": "2020-08-24T08:47:46.935248",
     "exception": false,
     "start_time": "2020-08-24T08:47:46.882142",
     "status": "completed"
    },
    "tags": []
   },
   "outputs": [
    {
     "data": {
      "text/html": [
       "<div>\n",
       "<style scoped>\n",
       "    .dataframe tbody tr th:only-of-type {\n",
       "        vertical-align: middle;\n",
       "    }\n",
       "\n",
       "    .dataframe tbody tr th {\n",
       "        vertical-align: top;\n",
       "    }\n",
       "\n",
       "    .dataframe thead th {\n",
       "        text-align: right;\n",
       "    }\n",
       "</style>\n",
       "<table border=\"1\" class=\"dataframe\">\n",
       "  <thead>\n",
       "    <tr style=\"text-align: right;\">\n",
       "      <th></th>\n",
       "      <th>A1_Score</th>\n",
       "      <th>A2_Score</th>\n",
       "      <th>A3_Score</th>\n",
       "      <th>A4_Score</th>\n",
       "      <th>A5_Score</th>\n",
       "      <th>A6_Score</th>\n",
       "      <th>A7_Score</th>\n",
       "      <th>A8_Score</th>\n",
       "      <th>A9_Score</th>\n",
       "      <th>A10_Score</th>\n",
       "      <th>...</th>\n",
       "      <th>gender</th>\n",
       "      <th>ethnicity</th>\n",
       "      <th>jundice</th>\n",
       "      <th>austim</th>\n",
       "      <th>contry_of_res</th>\n",
       "      <th>used_app_before</th>\n",
       "      <th>result</th>\n",
       "      <th>age_desc</th>\n",
       "      <th>relation</th>\n",
       "      <th>Class/ASD</th>\n",
       "    </tr>\n",
       "  </thead>\n",
       "  <tbody>\n",
       "    <tr>\n",
       "      <th>0</th>\n",
       "      <td>1</td>\n",
       "      <td>1</td>\n",
       "      <td>1</td>\n",
       "      <td>1</td>\n",
       "      <td>0</td>\n",
       "      <td>0</td>\n",
       "      <td>1</td>\n",
       "      <td>1</td>\n",
       "      <td>0</td>\n",
       "      <td>0</td>\n",
       "      <td>...</td>\n",
       "      <td>f</td>\n",
       "      <td>White-European</td>\n",
       "      <td>no</td>\n",
       "      <td>no</td>\n",
       "      <td>United States</td>\n",
       "      <td>no</td>\n",
       "      <td>6.0</td>\n",
       "      <td>18 and more</td>\n",
       "      <td>Self</td>\n",
       "      <td>NO</td>\n",
       "    </tr>\n",
       "    <tr>\n",
       "      <th>1</th>\n",
       "      <td>1</td>\n",
       "      <td>1</td>\n",
       "      <td>0</td>\n",
       "      <td>1</td>\n",
       "      <td>0</td>\n",
       "      <td>0</td>\n",
       "      <td>0</td>\n",
       "      <td>1</td>\n",
       "      <td>0</td>\n",
       "      <td>1</td>\n",
       "      <td>...</td>\n",
       "      <td>m</td>\n",
       "      <td>Latino</td>\n",
       "      <td>no</td>\n",
       "      <td>yes</td>\n",
       "      <td>Brazil</td>\n",
       "      <td>no</td>\n",
       "      <td>5.0</td>\n",
       "      <td>18 and more</td>\n",
       "      <td>Self</td>\n",
       "      <td>NO</td>\n",
       "    </tr>\n",
       "    <tr>\n",
       "      <th>2</th>\n",
       "      <td>1</td>\n",
       "      <td>1</td>\n",
       "      <td>0</td>\n",
       "      <td>1</td>\n",
       "      <td>1</td>\n",
       "      <td>0</td>\n",
       "      <td>1</td>\n",
       "      <td>1</td>\n",
       "      <td>1</td>\n",
       "      <td>1</td>\n",
       "      <td>...</td>\n",
       "      <td>m</td>\n",
       "      <td>Latino</td>\n",
       "      <td>yes</td>\n",
       "      <td>yes</td>\n",
       "      <td>Spain</td>\n",
       "      <td>no</td>\n",
       "      <td>8.0</td>\n",
       "      <td>18 and more</td>\n",
       "      <td>Parent</td>\n",
       "      <td>YES</td>\n",
       "    </tr>\n",
       "    <tr>\n",
       "      <th>3</th>\n",
       "      <td>1</td>\n",
       "      <td>1</td>\n",
       "      <td>0</td>\n",
       "      <td>1</td>\n",
       "      <td>0</td>\n",
       "      <td>0</td>\n",
       "      <td>1</td>\n",
       "      <td>1</td>\n",
       "      <td>0</td>\n",
       "      <td>1</td>\n",
       "      <td>...</td>\n",
       "      <td>f</td>\n",
       "      <td>White-European</td>\n",
       "      <td>no</td>\n",
       "      <td>yes</td>\n",
       "      <td>United States</td>\n",
       "      <td>no</td>\n",
       "      <td>6.0</td>\n",
       "      <td>18 and more</td>\n",
       "      <td>Self</td>\n",
       "      <td>NO</td>\n",
       "    </tr>\n",
       "    <tr>\n",
       "      <th>4</th>\n",
       "      <td>1</td>\n",
       "      <td>0</td>\n",
       "      <td>0</td>\n",
       "      <td>0</td>\n",
       "      <td>0</td>\n",
       "      <td>0</td>\n",
       "      <td>0</td>\n",
       "      <td>1</td>\n",
       "      <td>0</td>\n",
       "      <td>0</td>\n",
       "      <td>...</td>\n",
       "      <td>f</td>\n",
       "      <td>?</td>\n",
       "      <td>no</td>\n",
       "      <td>no</td>\n",
       "      <td>Egypt</td>\n",
       "      <td>no</td>\n",
       "      <td>2.0</td>\n",
       "      <td>18 and more</td>\n",
       "      <td>?</td>\n",
       "      <td>NO</td>\n",
       "    </tr>\n",
       "  </tbody>\n",
       "</table>\n",
       "<p>5 rows × 21 columns</p>\n",
       "</div>"
      ],
      "text/plain": [
       "   A1_Score  A2_Score  A3_Score  A4_Score  A5_Score  A6_Score  A7_Score  \\\n",
       "0         1         1         1         1         0         0         1   \n",
       "1         1         1         0         1         0         0         0   \n",
       "2         1         1         0         1         1         0         1   \n",
       "3         1         1         0         1         0         0         1   \n",
       "4         1         0         0         0         0         0         0   \n",
       "\n",
       "   A8_Score  A9_Score  A10_Score  ...  gender       ethnicity jundice austim  \\\n",
       "0         1         0          0  ...       f  White-European      no     no   \n",
       "1         1         0          1  ...       m          Latino      no    yes   \n",
       "2         1         1          1  ...       m          Latino     yes    yes   \n",
       "3         1         0          1  ...       f  White-European      no    yes   \n",
       "4         1         0          0  ...       f               ?      no     no   \n",
       "\n",
       "   contry_of_res used_app_before result     age_desc relation Class/ASD  \n",
       "0  United States              no    6.0  18 and more     Self        NO  \n",
       "1         Brazil              no    5.0  18 and more     Self        NO  \n",
       "2          Spain              no    8.0  18 and more   Parent       YES  \n",
       "3  United States              no    6.0  18 and more     Self        NO  \n",
       "4          Egypt              no    2.0  18 and more        ?        NO  \n",
       "\n",
       "[5 rows x 21 columns]"
      ]
     },
     "execution_count": 4,
     "metadata": {},
     "output_type": "execute_result"
    }
   ],
   "source": [
    "df.head()"
   ]
  },
  {
   "cell_type": "code",
   "execution_count": 5,
   "metadata": {
    "execution": {
     "iopub.execute_input": "2020-08-24T08:47:46.963256Z",
     "iopub.status.busy": "2020-08-24T08:47:46.962381Z",
     "iopub.status.idle": "2020-08-24T08:47:46.967418Z",
     "shell.execute_reply": "2020-08-24T08:47:46.966730Z"
    },
    "papermill": {
     "duration": 0.02127,
     "end_time": "2020-08-24T08:47:46.967545",
     "exception": false,
     "start_time": "2020-08-24T08:47:46.946275",
     "status": "completed"
    },
    "tags": []
   },
   "outputs": [
    {
     "data": {
      "text/plain": [
       "Index(['A1_Score', 'A2_Score', 'A3_Score', 'A4_Score', 'A5_Score', 'A6_Score',\n",
       "       'A7_Score', 'A8_Score', 'A9_Score', 'A10_Score', 'age', 'gender',\n",
       "       'ethnicity', 'jundice', 'austim', 'contry_of_res', 'used_app_before',\n",
       "       'result', 'age_desc', 'relation', 'Class/ASD'],\n",
       "      dtype='object')"
      ]
     },
     "execution_count": 5,
     "metadata": {},
     "output_type": "execute_result"
    }
   ],
   "source": [
    "df.columns"
   ]
  },
  {
   "cell_type": "markdown",
   "execution_count": null,
   "metadata": {
    "papermill": {
     "duration": 0.010336,
     "end_time": "2020-08-24T08:47:46.988753",
     "exception": false,
     "start_time": "2020-08-24T08:47:46.978417",
     "status": "completed"
    },
    "tags": []
   },
   "source": [
    "## EDA"
   ]
  },
  {
   "cell_type": "code",
   "execution_count": 6,
   "metadata": {
    "execution": {
     "iopub.execute_input": "2020-08-24T08:47:47.016041Z",
     "iopub.status.busy": "2020-08-24T08:47:47.015165Z",
     "iopub.status.idle": "2020-08-24T08:47:47.032997Z",
     "shell.execute_reply": "2020-08-24T08:47:47.032358Z"
    },
    "papermill": {
     "duration": 0.033675,
     "end_time": "2020-08-24T08:47:47.033144",
     "exception": false,
     "start_time": "2020-08-24T08:47:46.999469",
     "status": "completed"
    },
    "tags": []
   },
   "outputs": [
    {
     "data": {
      "text/plain": [
       "A1_Score            2\n",
       "A2_Score            2\n",
       "A3_Score            2\n",
       "A4_Score            2\n",
       "A5_Score            2\n",
       "A6_Score            2\n",
       "A7_Score            2\n",
       "A8_Score            2\n",
       "A9_Score            2\n",
       "A10_Score           2\n",
       "age                46\n",
       "gender              2\n",
       "ethnicity          12\n",
       "jundice             2\n",
       "austim              2\n",
       "contry_of_res      67\n",
       "used_app_before     2\n",
       "result             11\n",
       "age_desc            1\n",
       "relation            6\n",
       "Class/ASD           2\n",
       "dtype: int64"
      ]
     },
     "execution_count": 6,
     "metadata": {},
     "output_type": "execute_result"
    }
   ],
   "source": [
    "df.nunique()"
   ]
  },
  {
   "cell_type": "markdown",
   "execution_count": null,
   "metadata": {
    "papermill": {
     "duration": 0.010642,
     "end_time": "2020-08-24T08:47:47.055052",
     "exception": false,
     "start_time": "2020-08-24T08:47:47.044410",
     "status": "completed"
    },
    "tags": []
   },
   "source": [
    "By looking at unique values for columns we can say that, all are categorical columns.\n",
    "\n",
    "Since column 'age_desc' has just one value throughout the data, we can drop it."
   ]
  },
  {
   "cell_type": "code",
   "execution_count": 7,
   "metadata": {
    "execution": {
     "iopub.execute_input": "2020-08-24T08:47:47.086668Z",
     "iopub.status.busy": "2020-08-24T08:47:47.085555Z",
     "iopub.status.idle": "2020-08-24T08:47:47.088730Z",
     "shell.execute_reply": "2020-08-24T08:47:47.089360Z"
    },
    "papermill": {
     "duration": 0.023502,
     "end_time": "2020-08-24T08:47:47.089540",
     "exception": false,
     "start_time": "2020-08-24T08:47:47.066038",
     "status": "completed"
    },
    "tags": []
   },
   "outputs": [],
   "source": [
    "df.drop(columns=['age_desc'], inplace=True)"
   ]
  },
  {
   "cell_type": "markdown",
   "execution_count": null,
   "metadata": {
    "papermill": {
     "duration": 0.01078,
     "end_time": "2020-08-24T08:47:47.112108",
     "exception": false,
     "start_time": "2020-08-24T08:47:47.101328",
     "status": "completed"
    },
    "tags": []
   },
   "source": [
    "Let's check for null values in data"
   ]
  },
  {
   "cell_type": "code",
   "execution_count": 8,
   "metadata": {
    "execution": {
     "iopub.execute_input": "2020-08-24T08:47:47.144388Z",
     "iopub.status.busy": "2020-08-24T08:47:47.143405Z",
     "iopub.status.idle": "2020-08-24T08:47:47.148629Z",
     "shell.execute_reply": "2020-08-24T08:47:47.147962Z"
    },
    "papermill": {
     "duration": 0.025709,
     "end_time": "2020-08-24T08:47:47.148763",
     "exception": false,
     "start_time": "2020-08-24T08:47:47.123054",
     "status": "completed"
    },
    "tags": []
   },
   "outputs": [
    {
     "data": {
      "text/plain": [
       "A1_Score           0\n",
       "A2_Score           0\n",
       "A3_Score           0\n",
       "A4_Score           0\n",
       "A5_Score           0\n",
       "A6_Score           0\n",
       "A7_Score           0\n",
       "A8_Score           0\n",
       "A9_Score           0\n",
       "A10_Score          0\n",
       "age                2\n",
       "gender             0\n",
       "ethnicity          0\n",
       "jundice            0\n",
       "austim             0\n",
       "contry_of_res      0\n",
       "used_app_before    0\n",
       "result             0\n",
       "relation           0\n",
       "Class/ASD          0\n",
       "dtype: int64"
      ]
     },
     "execution_count": 8,
     "metadata": {},
     "output_type": "execute_result"
    }
   ],
   "source": [
    "df.isnull().sum()"
   ]
  },
  {
   "cell_type": "markdown",
   "execution_count": null,
   "metadata": {
    "papermill": {
     "duration": 0.010929,
     "end_time": "2020-08-24T08:47:47.171197",
     "exception": false,
     "start_time": "2020-08-24T08:47:47.160268",
     "status": "completed"
    },
    "tags": []
   },
   "source": [
    "Age column has 2 nan values, let's replace them with 0."
   ]
  },
  {
   "cell_type": "code",
   "execution_count": 9,
   "metadata": {
    "execution": {
     "iopub.execute_input": "2020-08-24T08:47:47.201052Z",
     "iopub.status.busy": "2020-08-24T08:47:47.200216Z",
     "iopub.status.idle": "2020-08-24T08:47:47.203764Z",
     "shell.execute_reply": "2020-08-24T08:47:47.203003Z"
    },
    "papermill": {
     "duration": 0.020822,
     "end_time": "2020-08-24T08:47:47.203885",
     "exception": false,
     "start_time": "2020-08-24T08:47:47.183063",
     "status": "completed"
    },
    "tags": []
   },
   "outputs": [],
   "source": [
    "df['age'].fillna(0, inplace=True)"
   ]
  },
  {
   "cell_type": "markdown",
   "execution_count": null,
   "metadata": {
    "papermill": {
     "duration": 0.012618,
     "end_time": "2020-08-24T08:47:47.227739",
     "exception": false,
     "start_time": "2020-08-24T08:47:47.215121",
     "status": "completed"
    },
    "tags": []
   },
   "source": [
    "Let's encode target class labels YES and NO with 0 and 1 respectively."
   ]
  },
  {
   "cell_type": "code",
   "execution_count": 10,
   "metadata": {
    "execution": {
     "iopub.execute_input": "2020-08-24T08:47:47.259731Z",
     "iopub.status.busy": "2020-08-24T08:47:47.258791Z",
     "iopub.status.idle": "2020-08-24T08:47:47.261512Z",
     "shell.execute_reply": "2020-08-24T08:47:47.262047Z"
    },
    "papermill": {
     "duration": 0.022923,
     "end_time": "2020-08-24T08:47:47.262235",
     "exception": false,
     "start_time": "2020-08-24T08:47:47.239312",
     "status": "completed"
    },
    "tags": []
   },
   "outputs": [],
   "source": [
    "df['Class/ASD'] = df['Class/ASD'].apply(lambda x: int(x == 'YES'))"
   ]
  },
  {
   "cell_type": "markdown",
   "execution_count": null,
   "metadata": {
    "papermill": {
     "duration": 0.011124,
     "end_time": "2020-08-24T08:47:47.284988",
     "exception": false,
     "start_time": "2020-08-24T08:47:47.273864",
     "status": "completed"
    },
    "tags": []
   },
   "source": [
    "Let's plot individual categorical columns agaist target to see how they are related."
   ]
  },
  {
   "cell_type": "code",
   "execution_count": 11,
   "metadata": {
    "execution": {
     "iopub.execute_input": "2020-08-24T08:47:47.316806Z",
     "iopub.status.busy": "2020-08-24T08:47:47.316006Z",
     "iopub.status.idle": "2020-08-24T08:47:49.305272Z",
     "shell.execute_reply": "2020-08-24T08:47:49.305832Z"
    },
    "papermill": {
     "duration": 2.00921,
     "end_time": "2020-08-24T08:47:49.306005",
     "exception": false,
     "start_time": "2020-08-24T08:47:47.296795",
     "status": "completed"
    },
    "tags": []
   },
   "outputs": [
    {
     "data": {
      "text/plain": [
       "<matplotlib.axes._subplots.AxesSubplot at 0x7fde65ca8d90>"
      ]
     },
     "execution_count": 11,
     "metadata": {},
     "output_type": "execute_result"
    },
    {
     "data": {
      "image/png": "[encoded data removed]",
      "text/plain": [
       "<Figure size 432x288 with 1 Axes>"
      ]
     },
     "metadata": {
      "needs_background": "light"
     },
     "output_type": "display_data"
    }
   ],
   "source": [
    "sns.swarmplot(x='Class/ASD', y='result', data=df)"
   ]
  },
  {
   "cell_type": "markdown",
   "execution_count": null,
   "metadata": {
    "papermill": {
     "duration": 0.011499,
     "end_time": "2020-08-24T08:47:49.329666",
     "exception": false,
     "start_time": "2020-08-24T08:47:49.318167",
     "status": "completed"
    },
    "tags": []
   },
   "source": [
    "We can clearly see from above plot that, result is highly correlated with Class/ASD. There is clear separation between class 0 and 1.\n",
    "\n",
    "Observations:\n",
    "\n",
    "if \n",
    "* result > 6 , Class/ASD = 1\n",
    "* otherwise, Class/ASD = 0\n"
   ]
  },
  {
   "cell_type": "code",
   "execution_count": 12,
   "metadata": {
    "execution": {
     "iopub.execute_input": "2020-08-24T08:47:49.364917Z",
     "iopub.status.busy": "2020-08-24T08:47:49.364097Z",
     "iopub.status.idle": "2020-08-24T08:47:49.638815Z",
     "shell.execute_reply": "2020-08-24T08:47:49.638014Z"
    },
    "papermill": {
     "duration": 0.297655,
     "end_time": "2020-08-24T08:47:49.638943",
     "exception": false,
     "start_time": "2020-08-24T08:47:49.341288",
     "status": "completed"
    },
    "tags": []
   },
   "outputs": [
    {
     "data": {
      "text/plain": [
       "<matplotlib.axes._subplots.AxesSubplot at 0x7fde65af5350>"
      ]
     },
     "execution_count": 12,
     "metadata": {},
     "output_type": "execute_result"
    },
    {
     "data": {
      "image/png": "[encoded data removed]",
      "text/plain": [
       "<Figure size 432x288 with 1 Axes>"
      ]
     },
     "metadata": {
      "needs_background": "light"
     },
     "output_type": "display_data"
    }
   ],
   "source": [
    "sns.distplot(df['age'])"
   ]
  },
  {
   "cell_type": "markdown",
   "execution_count": null,
   "metadata": {
    "papermill": {
     "duration": 0.012073,
     "end_time": "2020-08-24T08:47:49.671008",
     "exception": false,
     "start_time": "2020-08-24T08:47:49.658935",
     "status": "completed"
    },
    "tags": []
   },
   "source": [
    "From above plot we can say that, average age of candidates is somewhere around 25-30."
   ]
  },
  {
   "cell_type": "code",
   "execution_count": 13,
   "metadata": {
    "execution": {
     "iopub.execute_input": "2020-08-24T08:47:49.709328Z",
     "iopub.status.busy": "2020-08-24T08:47:49.703281Z",
     "iopub.status.idle": "2020-08-24T08:48:25.488373Z",
     "shell.execute_reply": "2020-08-24T08:48:25.488977Z"
    },
    "papermill": {
     "duration": 35.805854,
     "end_time": "2020-08-24T08:48:25.489234",
     "exception": false,
     "start_time": "2020-08-24T08:47:49.683380",
     "status": "completed"
    },
    "tags": []
   },
   "outputs": [
    {
     "data": {
      "image/png": "[encoded data removed]",
      "text/plain": [
       "<Figure size 432x288 with 1 Axes>"
      ]
     },
     "metadata": {
      "needs_background": "light"
     },
     "output_type": "display_data"
    },
    {
     "data": {
      "image/png": "[encoded data removed]",
      "text/plain": [
       "<Figure size 432x288 with 1 Axes>"
      ]
     },
     "metadata": {
      "needs_background": "light"
     },
     "output_type": "display_data"
    },
    {
     "data": {
      "image/png": "[encoded data removed]",
      "text/plain": [
       "<Figure size 432x288 with 1 Axes>"
      ]
     },
     "metadata": {
      "needs_background": "light"
     },
     "output_type": "display_data"
    },
    {
     "data": {
      "image/png": "[encoded data removed]",
      "text/plain": [
       "<Figure size 432x288 with 1 Axes>"
      ]
     },
     "metadata": {
      "needs_background": "light"
     },
     "output_type": "display_data"
    }
   ],
   "source": [
    "cols = ['gender','jundice','austim','used_app_before']\n",
    "for i in cols:\n",
    "    sns.swarmplot(x='Class/ASD', y=i, data=df)\n",
    "    plt.show()"
   ]
  },
  {
   "cell_type": "markdown",
   "execution_count": null,
   "metadata": {
    "papermill": {
     "duration": 0.013023,
     "end_time": "2020-08-24T08:48:25.515562",
     "exception": false,
     "start_time": "2020-08-24T08:48:25.502539",
     "status": "completed"
    },
    "tags": []
   },
   "source": [
    "From above plots we can say that, no columns from above list shows correlation with target class. There is no clear separation of classes."
   ]
  },
  {
   "cell_type": "markdown",
   "execution_count": null,
   "metadata": {
    "papermill": {
     "duration": 0.012803,
     "end_time": "2020-08-24T08:48:25.541819",
     "exception": false,
     "start_time": "2020-08-24T08:48:25.529016",
     "status": "completed"
    },
    "tags": []
   },
   "source": [
    "Let's plot top 15 countries participated in survey based on their count."
   ]
  },
  {
   "cell_type": "code",
   "execution_count": 14,
   "metadata": {
    "execution": {
     "iopub.execute_input": "2020-08-24T08:48:25.583498Z",
     "iopub.status.busy": "2020-08-24T08:48:25.582580Z",
     "iopub.status.idle": "2020-08-24T08:48:25.845144Z",
     "shell.execute_reply": "2020-08-24T08:48:25.844177Z"
    },
    "papermill": {
     "duration": 0.290395,
     "end_time": "2020-08-24T08:48:25.845294",
     "exception": false,
     "start_time": "2020-08-24T08:48:25.554899",
     "status": "completed"
    },
    "tags": []
   },
   "outputs": [
    {
     "data": {
      "image/png": "[encoded data removed]",
      "text/plain": [
       "<Figure size 432x288 with 1 Axes>"
      ]
     },
     "metadata": {
      "needs_background": "light"
     },
     "output_type": "display_data"
    }
   ],
   "source": [
    "fig = sns.barplot(y=df['contry_of_res'].value_counts().index[:15], x=df['contry_of_res'].value_counts().values[:15], data=df)\n",
    "fig.set(xlabel='Count', ylabel='Country')\n",
    "plt.show()"
   ]
  },
  {
   "cell_type": "markdown",
   "execution_count": null,
   "metadata": {
    "papermill": {
     "duration": 0.013933,
     "end_time": "2020-08-24T08:48:25.873833",
     "exception": false,
     "start_time": "2020-08-24T08:48:25.859900",
     "status": "completed"
    },
    "tags": []
   },
   "source": [
    "## Prediction"
   ]
  },
  {
   "cell_type": "code",
   "execution_count": 15,
   "metadata": {
    "execution": {
     "iopub.execute_input": "2020-08-24T08:48:25.911069Z",
     "iopub.status.busy": "2020-08-24T08:48:25.909967Z",
     "iopub.status.idle": "2020-08-24T08:48:25.913988Z",
     "shell.execute_reply": "2020-08-24T08:48:25.914582Z"
    },
    "papermill": {
     "duration": 0.026995,
     "end_time": "2020-08-24T08:48:25.914745",
     "exception": false,
     "start_time": "2020-08-24T08:48:25.887750",
     "status": "completed"
    },
    "tags": []
   },
   "outputs": [
    {
     "data": {
      "text/plain": [
       "0    515\n",
       "1    189\n",
       "Name: Class/ASD, dtype: int64"
      ]
     },
     "execution_count": 15,
     "metadata": {},
     "output_type": "execute_result"
    }
   ],
   "source": [
    "df['Class/ASD'].value_counts()"
   ]
  },
  {
   "cell_type": "markdown",
   "execution_count": null,
   "metadata": {
    "papermill": {
     "duration": 0.013746,
     "end_time": "2020-08-24T08:48:25.943002",
     "exception": false,
     "start_time": "2020-08-24T08:48:25.929256",
     "status": "completed"
    },
    "tags": []
   },
   "source": [
    "There is a class imbalance problem. We will handle this by specifying class_weights in classifier later.\n",
    "\n",
    "Before jumping into building a classifier, let's shuffle the data and split it into train and test sets."
   ]
  },
  {
   "cell_type": "code",
   "execution_count": 16,
   "metadata": {
    "execution": {
     "iopub.execute_input": "2020-08-24T08:48:25.986388Z",
     "iopub.status.busy": "2020-08-24T08:48:25.980951Z",
     "iopub.status.idle": "2020-08-24T08:48:25.990345Z",
     "shell.execute_reply": "2020-08-24T08:48:25.989521Z"
    },
    "papermill": {
     "duration": 0.032622,
     "end_time": "2020-08-24T08:48:25.990485",
     "exception": false,
     "start_time": "2020-08-24T08:48:25.957863",
     "status": "completed"
    },
    "tags": []
   },
   "outputs": [],
   "source": [
    "df = df.sample(frac=1, random_state=seed)\n",
    "train_x,test_x,train_y,test_y = train_test_split(df.drop(columns=['Class/ASD']), df['Class/ASD'], test_size=0.2, random_state=seed)"
   ]
  },
  {
   "cell_type": "markdown",
   "execution_count": null,
   "metadata": {
    "papermill": {
     "duration": 0.014412,
     "end_time": "2020-08-24T08:48:26.019665",
     "exception": false,
     "start_time": "2020-08-24T08:48:26.005253",
     "status": "completed"
    },
    "tags": []
   },
   "source": [
    "Let's build the classifier."
   ]
  },
  {
   "cell_type": "code",
   "execution_count": 17,
   "metadata": {
    "execution": {
     "iopub.execute_input": "2020-08-24T08:48:26.079014Z",
     "iopub.status.busy": "2020-08-24T08:48:26.064965Z",
     "iopub.status.idle": "2020-08-24T08:48:26.207673Z",
     "shell.execute_reply": "2020-08-24T08:48:26.206856Z"
    },
    "papermill": {
     "duration": 0.173843,
     "end_time": "2020-08-24T08:48:26.207866",
     "exception": false,
     "start_time": "2020-08-24T08:48:26.034023",
     "status": "completed"
    },
    "tags": []
   },
   "outputs": [
    {
     "name": "stdout",
     "output_type": "stream",
     "text": [
      "Learning rate set to 0.5\n",
      "0:\tlearn: 0.3389700\ttotal: 54.1ms\tremaining: 487ms\n",
      "5:\tlearn: 0.0399998\ttotal: 59.1ms\tremaining: 39.4ms\n",
      "9:\tlearn: 0.0134532\ttotal: 62.5ms\tremaining: 0us\n"
     ]
    },
    {
     "data": {
      "text/plain": [
       "<catboost.core.CatBoostClassifier at 0x7fde65a86c90>"
      ]
     },
     "execution_count": 17,
     "metadata": {},
     "output_type": "execute_result"
    }
   ],
   "source": [
    "cat_features = [i for i in df.columns if i not in ['Class/ASD', 'age', 'result']]\n",
    "\n",
    "clf = CatBoostClassifier(\n",
    "    iterations=10,\n",
    "    verbose=5,\n",
    "    class_weights = [1,2]\n",
    ")\n",
    "\n",
    "clf.fit(\n",
    "    train_x, train_y ,\n",
    "    cat_features=cat_features,\n",
    ")"
   ]
  },
  {
   "cell_type": "code",
   "execution_count": 18,
   "metadata": {
    "execution": {
     "iopub.execute_input": "2020-08-24T08:48:26.246815Z",
     "iopub.status.busy": "2020-08-24T08:48:26.245752Z",
     "iopub.status.idle": "2020-08-24T08:48:26.250900Z",
     "shell.execute_reply": "2020-08-24T08:48:26.250221Z"
    },
    "papermill": {
     "duration": 0.028317,
     "end_time": "2020-08-24T08:48:26.251023",
     "exception": false,
     "start_time": "2020-08-24T08:48:26.222706",
     "status": "completed"
    },
    "tags": []
   },
   "outputs": [],
   "source": [
    "pred_y = clf.predict(test_x)"
   ]
  },
  {
   "cell_type": "code",
   "execution_count": 19,
   "metadata": {
    "execution": {
     "iopub.execute_input": "2020-08-24T08:48:26.289286Z",
     "iopub.status.busy": "2020-08-24T08:48:26.288296Z",
     "iopub.status.idle": "2020-08-24T08:48:26.293228Z",
     "shell.execute_reply": "2020-08-24T08:48:26.292624Z"
    },
    "papermill": {
     "duration": 0.02715,
     "end_time": "2020-08-24T08:48:26.293401",
     "exception": false,
     "start_time": "2020-08-24T08:48:26.266251",
     "status": "completed"
    },
    "tags": []
   },
   "outputs": [
    {
     "data": {
      "text/plain": [
       "1.0"
      ]
     },
     "execution_count": 19,
     "metadata": {},
     "output_type": "execute_result"
    }
   ],
   "source": [
    "accuracy_score(pred_y, test_y)"
   ]
  },
  {
   "cell_type": "code",
   "execution_count": 20,
   "metadata": {
    "execution": {
     "iopub.execute_input": "2020-08-24T08:48:26.329875Z",
     "iopub.status.busy": "2020-08-24T08:48:26.328869Z",
     "iopub.status.idle": "2020-08-24T08:48:26.334466Z",
     "shell.execute_reply": "2020-08-24T08:48:26.333735Z"
    },
    "papermill": {
     "duration": 0.026681,
     "end_time": "2020-08-24T08:48:26.334591",
     "exception": false,
     "start_time": "2020-08-24T08:48:26.307910",
     "status": "completed"
    },
    "tags": []
   },
   "outputs": [
    {
     "data": {
      "text/plain": [
       "1.0"
      ]
     },
     "execution_count": 20,
     "metadata": {},
     "output_type": "execute_result"
    }
   ],
   "source": [
    "f1_score(pred_y, test_y)"
   ]
  },
  {
   "cell_type": "markdown",
   "execution_count": null,
   "metadata": {
    "papermill": {
     "duration": 0.0144,
     "end_time": "2020-08-24T08:48:26.363741",
     "exception": false,
     "start_time": "2020-08-24T08:48:26.349341",
     "status": "completed"
    },
    "tags": []
   },
   "source": [
    "Perfect f1 score of 1!!\n",
    "\n",
    "Let's find the feature importance."
   ]
  },
  {
   "cell_type": "code",
   "execution_count": 21,
   "metadata": {
    "execution": {
     "iopub.execute_input": "2020-08-24T08:48:26.398563Z",
     "iopub.status.busy": "2020-08-24T08:48:26.397726Z",
     "iopub.status.idle": "2020-08-24T08:48:26.404444Z",
     "shell.execute_reply": "2020-08-24T08:48:26.403695Z"
    },
    "papermill": {
     "duration": 0.026278,
     "end_time": "2020-08-24T08:48:26.404570",
     "exception": false,
     "start_time": "2020-08-24T08:48:26.378292",
     "status": "completed"
    },
    "tags": []
   },
   "outputs": [
    {
     "data": {
      "text/plain": [
       "array([0.00000000e+00, 0.00000000e+00, 0.00000000e+00, 0.00000000e+00,\n",
       "       0.00000000e+00, 2.77220305e-01, 0.00000000e+00, 0.00000000e+00,\n",
       "       0.00000000e+00, 0.00000000e+00, 5.40209465e-01, 2.84794559e-02,\n",
       "       1.20042722e+00, 0.00000000e+00, 3.36738108e-01, 0.00000000e+00,\n",
       "       2.11070044e-01, 9.69314029e+01, 4.74452510e-01])"
      ]
     },
     "execution_count": 21,
     "metadata": {},
     "output_type": "execute_result"
    }
   ],
   "source": [
    "clf.get_feature_importance()"
   ]
  },
  {
   "cell_type": "code",
   "execution_count": null,
   "metadata": {
    "papermill": {
     "duration": 0.014464,
     "end_time": "2020-08-24T08:48:26.433856",
     "exception": false,
     "start_time": "2020-08-24T08:48:26.419392",
     "status": "completed"
    },
    "tags": []
   },
   "outputs": [],
   "source": []
  }
 ],
 "metadata": {
  "kernelspec": {
   "display_name": "Python 3",
   "language": "python",
   "name": "python3"
  },
  "language_info": {
   "codemirror_mode": {
    "name": "ipython",
    "version": 3
   },
   "file_extension": ".py",
   "mimetype": "text/x-python",
   "name": "python",
   "nbconvert_exporter": "python",
   "pygments_lexer": "ipython3",
   "version": "3.7.6"
  },
  "papermill": {
   "duration": 45.809714,
   "end_time": "2020-08-24T08:48:26.557585",
   "environment_variables": {},
   "exception": null,
   "input_path": "__notebook__.ipynb",
   "output_path": "__notebook__.ipynb",
   "parameters": {},
   "start_time": "2020-08-24T08:47:40.747871",
   "version": "2.1.0"
  }
 },
 "nbformat": 4,
 "nbformat_minor": 4
}
