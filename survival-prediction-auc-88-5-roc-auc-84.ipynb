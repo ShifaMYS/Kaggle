{
 "cells": [
  {
   "cell_type": "markdown",
   "execution_count": null,
   "metadata": {
    "papermill": {
     "duration": 0.008436,
     "end_time": "2020-08-23T10:44:51.346749",
     "exception": false,
     "start_time": "2020-08-23T10:44:51.338313",
     "status": "completed"
    },
    "tags": []
   },
   "source": [
    "# Estonia Survival Prediction\n",
    "\n",
    "In this notebook I have performed EDA using plotly and survival prediction using ensemble model.\n",
    "\n",
    "### Survival Prediction:\n",
    "\n",
    "There is a class imbalance problem in data, I have used ensembled stack of RandomForestClassifier, SVC, GradientBoostingClassifier and LogisticRegressionClassifier with class weights to solve the problem.\n",
    "\n"
   ]
  },
  {
   "cell_type": "code",
   "execution_count": 1,
   "metadata": {
    "execution": {
     "iopub.execute_input": "2020-08-23T10:44:51.374440Z",
     "iopub.status.busy": "2020-08-23T10:44:51.373748Z",
     "iopub.status.idle": "2020-08-23T10:44:53.970938Z",
     "shell.execute_reply": "2020-08-23T10:44:53.970323Z"
    },
    "papermill": {
     "duration": 2.617258,
     "end_time": "2020-08-23T10:44:53.971069",
     "exception": false,
     "start_time": "2020-08-23T10:44:51.353811",
     "status": "completed"
    },
    "tags": []
   },
   "outputs": [],
   "source": [
    "import pandas as pd\n",
    "import numpy as np\n",
    "import matplotlib.pyplot as plt\n",
    "import seaborn as sns\n",
    "import plotly.express as px\n",
    "import plotly.graph_objects as go\n",
    "from sklearn import preprocessing\n",
    "from sklearn.ensemble import RandomForestClassifier, GradientBoostingClassifier\n",
    "from sklearn.metrics import accuracy_score, roc_auc_score, roc_curve, f1_score, confusion_matrix\n",
    "from sklearn.model_selection import train_test_split, cross_val_score, RepeatedStratifiedKFold\n",
    "from sklearn.linear_model import LogisticRegression\n",
    "from sklearn.ensemble import VotingClassifier\n",
    "from sklearn.svm import SVC\n",
    "import math\n",
    "\n",
    "plt.style.use('seaborn')\n",
    "seed = 6467\n",
    "np.random.seed(seed)\n",
    "\n",
    "%matplotlib inline"
   ]
  },
  {
   "cell_type": "code",
   "execution_count": 2,
   "metadata": {
    "_cell_guid": "79c7e3d0-c299-4dcb-8224-4455121ee9b0",
    "_uuid": "d629ff2d2480ee46fbb7e2d37f6b5fab8052498a",
    "execution": {
     "iopub.execute_input": "2020-08-23T10:44:53.995764Z",
     "iopub.status.busy": "2020-08-23T10:44:53.994941Z",
     "iopub.status.idle": "2020-08-23T10:44:54.010080Z",
     "shell.execute_reply": "2020-08-23T10:44:54.009384Z"
    },
    "papermill": {
     "duration": 0.03143,
     "end_time": "2020-08-23T10:44:54.010200",
     "exception": false,
     "start_time": "2020-08-23T10:44:53.978770",
     "status": "completed"
    },
    "tags": []
   },
   "outputs": [],
   "source": [
    "df = pd.read_csv('../input/passenger-list-for-the-estonia-ferry-disaster/estonia-passenger-list.csv')"
   ]
  },
  {
   "cell_type": "code",
   "execution_count": 3,
   "metadata": {
    "execution": {
     "iopub.execute_input": "2020-08-23T10:44:54.041847Z",
     "iopub.status.busy": "2020-08-23T10:44:54.041163Z",
     "iopub.status.idle": "2020-08-23T10:44:54.052673Z",
     "shell.execute_reply": "2020-08-23T10:44:54.052118Z"
    },
    "papermill": {
     "duration": 0.035601,
     "end_time": "2020-08-23T10:44:54.052781",
     "exception": false,
     "start_time": "2020-08-23T10:44:54.017180",
     "status": "completed"
    },
    "tags": []
   },
   "outputs": [
    {
     "data": {
      "text/html": [
       "<div>\n",
       "<style scoped>\n",
       "    .dataframe tbody tr th:only-of-type {\n",
       "        vertical-align: middle;\n",
       "    }\n",
       "\n",
       "    .dataframe tbody tr th {\n",
       "        vertical-align: top;\n",
       "    }\n",
       "\n",
       "    .dataframe thead th {\n",
       "        text-align: right;\n",
       "    }\n",
       "</style>\n",
       "<table border=\"1\" class=\"dataframe\">\n",
       "  <thead>\n",
       "    <tr style=\"text-align: right;\">\n",
       "      <th></th>\n",
       "      <th>PassengerId</th>\n",
       "      <th>Country</th>\n",
       "      <th>Firstname</th>\n",
       "      <th>Lastname</th>\n",
       "      <th>Sex</th>\n",
       "      <th>Age</th>\n",
       "      <th>Category</th>\n",
       "      <th>Survived</th>\n",
       "    </tr>\n",
       "  </thead>\n",
       "  <tbody>\n",
       "    <tr>\n",
       "      <th>0</th>\n",
       "      <td>1</td>\n",
       "      <td>Sweden</td>\n",
       "      <td>ARVID KALLE</td>\n",
       "      <td>AADLI</td>\n",
       "      <td>M</td>\n",
       "      <td>62</td>\n",
       "      <td>P</td>\n",
       "      <td>0</td>\n",
       "    </tr>\n",
       "    <tr>\n",
       "      <th>1</th>\n",
       "      <td>2</td>\n",
       "      <td>Estonia</td>\n",
       "      <td>LEA</td>\n",
       "      <td>AALISTE</td>\n",
       "      <td>F</td>\n",
       "      <td>22</td>\n",
       "      <td>C</td>\n",
       "      <td>0</td>\n",
       "    </tr>\n",
       "    <tr>\n",
       "      <th>2</th>\n",
       "      <td>3</td>\n",
       "      <td>Estonia</td>\n",
       "      <td>AIRI</td>\n",
       "      <td>AAVASTE</td>\n",
       "      <td>F</td>\n",
       "      <td>21</td>\n",
       "      <td>C</td>\n",
       "      <td>0</td>\n",
       "    </tr>\n",
       "    <tr>\n",
       "      <th>3</th>\n",
       "      <td>4</td>\n",
       "      <td>Sweden</td>\n",
       "      <td>JURI</td>\n",
       "      <td>AAVIK</td>\n",
       "      <td>M</td>\n",
       "      <td>53</td>\n",
       "      <td>C</td>\n",
       "      <td>0</td>\n",
       "    </tr>\n",
       "    <tr>\n",
       "      <th>4</th>\n",
       "      <td>5</td>\n",
       "      <td>Sweden</td>\n",
       "      <td>BRITTA ELISABET</td>\n",
       "      <td>AHLSTROM</td>\n",
       "      <td>F</td>\n",
       "      <td>55</td>\n",
       "      <td>P</td>\n",
       "      <td>0</td>\n",
       "    </tr>\n",
       "  </tbody>\n",
       "</table>\n",
       "</div>"
      ],
      "text/plain": [
       "   PassengerId  Country        Firstname  Lastname Sex  Age Category  Survived\n",
       "0            1   Sweden      ARVID KALLE     AADLI   M   62        P         0\n",
       "1            2  Estonia              LEA   AALISTE   F   22        C         0\n",
       "2            3  Estonia             AIRI   AAVASTE   F   21        C         0\n",
       "3            4   Sweden             JURI     AAVIK   M   53        C         0\n",
       "4            5   Sweden  BRITTA ELISABET  AHLSTROM   F   55        P         0"
      ]
     },
     "execution_count": 3,
     "metadata": {},
     "output_type": "execute_result"
    }
   ],
   "source": [
    "df.head()"
   ]
  },
  {
   "cell_type": "markdown",
   "execution_count": null,
   "metadata": {
    "papermill": {
     "duration": 0.006613,
     "end_time": "2020-08-23T10:44:54.067700",
     "exception": false,
     "start_time": "2020-08-23T10:44:54.061087",
     "status": "completed"
    },
    "tags": []
   },
   "source": [
    "PassengerId, Firstname and Lastname are not going to help in prediction, let's drop them."
   ]
  },
  {
   "cell_type": "code",
   "execution_count": 4,
   "metadata": {
    "execution": {
     "iopub.execute_input": "2020-08-23T10:44:54.091232Z",
     "iopub.status.busy": "2020-08-23T10:44:54.090561Z",
     "iopub.status.idle": "2020-08-23T10:44:54.094693Z",
     "shell.execute_reply": "2020-08-23T10:44:54.094142Z"
    },
    "papermill": {
     "duration": 0.020076,
     "end_time": "2020-08-23T10:44:54.094802",
     "exception": false,
     "start_time": "2020-08-23T10:44:54.074726",
     "status": "completed"
    },
    "tags": []
   },
   "outputs": [
    {
     "data": {
      "text/plain": [
       "989"
      ]
     },
     "execution_count": 4,
     "metadata": {},
     "output_type": "execute_result"
    }
   ],
   "source": [
    "df.drop(columns = ['PassengerId','Firstname','Lastname'], inplace=True)\n",
    "len(df)"
   ]
  },
  {
   "cell_type": "markdown",
   "execution_count": null,
   "metadata": {
    "papermill": {
     "duration": 0.006874,
     "end_time": "2020-08-23T10:44:54.109278",
     "exception": false,
     "start_time": "2020-08-23T10:44:54.102404",
     "status": "completed"
    },
    "tags": []
   },
   "source": [
    "## EDA\n",
    "\n",
    "Let's check for null values and unique values count for each feature."
   ]
  },
  {
   "cell_type": "code",
   "execution_count": 5,
   "metadata": {
    "execution": {
     "iopub.execute_input": "2020-08-23T10:44:54.131898Z",
     "iopub.status.busy": "2020-08-23T10:44:54.131102Z",
     "iopub.status.idle": "2020-08-23T10:44:54.136827Z",
     "shell.execute_reply": "2020-08-23T10:44:54.136280Z"
    },
    "papermill": {
     "duration": 0.020398,
     "end_time": "2020-08-23T10:44:54.136942",
     "exception": false,
     "start_time": "2020-08-23T10:44:54.116544",
     "status": "completed"
    },
    "tags": []
   },
   "outputs": [
    {
     "data": {
      "text/plain": [
       "Country     0\n",
       "Sex         0\n",
       "Age         0\n",
       "Category    0\n",
       "Survived    0\n",
       "dtype: int64"
      ]
     },
     "execution_count": 5,
     "metadata": {},
     "output_type": "execute_result"
    }
   ],
   "source": [
    "df.isnull().sum()"
   ]
  },
  {
   "cell_type": "code",
   "execution_count": 6,
   "metadata": {
    "execution": {
     "iopub.execute_input": "2020-08-23T10:44:54.156905Z",
     "iopub.status.busy": "2020-08-23T10:44:54.156224Z",
     "iopub.status.idle": "2020-08-23T10:44:54.168720Z",
     "shell.execute_reply": "2020-08-23T10:44:54.167980Z"
    },
    "papermill": {
     "duration": 0.024477,
     "end_time": "2020-08-23T10:44:54.168863",
     "exception": false,
     "start_time": "2020-08-23T10:44:54.144386",
     "status": "completed"
    },
    "tags": []
   },
   "outputs": [
    {
     "data": {
      "text/plain": [
       "Country     16\n",
       "Sex          2\n",
       "Age         78\n",
       "Category     2\n",
       "Survived     2\n",
       "dtype: int64"
      ]
     },
     "execution_count": 6,
     "metadata": {},
     "output_type": "execute_result"
    }
   ],
   "source": [
    "df.nunique()"
   ]
  },
  {
   "cell_type": "markdown",
   "execution_count": null,
   "metadata": {
    "papermill": {
     "duration": 0.011382,
     "end_time": "2020-08-23T10:44:54.192249",
     "exception": false,
     "start_time": "2020-08-23T10:44:54.180867",
     "status": "completed"
    },
    "tags": []
   },
   "source": [
    "Looks like except Age other columns are categorical.\n",
    "\n",
    "Let's plot the data."
   ]
  },
  {
   "cell_type": "code",
   "execution_count": 7,
   "metadata": {
    "execution": {
     "iopub.execute_input": "2020-08-23T10:44:54.220832Z",
     "iopub.status.busy": "2020-08-23T10:44:54.220148Z",
     "iopub.status.idle": "2020-08-23T10:44:55.360635Z",
     "shell.execute_reply": "2020-08-23T10:44:55.361137Z"
    },
    "papermill": {
     "duration": 1.157629,
     "end_time": "2020-08-23T10:44:55.361297",
     "exception": false,
     "start_time": "2020-08-23T10:44:54.203668",
     "status": "completed"
    },
    "tags": []
   },
   "outputs": [
    {
     "data": {
      "text/html": [
       "        <script type=\"text/javascript\">\n",
       "        window.PlotlyConfig = {MathJaxConfig: 'local'};\n",
       "        if (window.MathJax) {MathJax.Hub.Config({SVG: {font: \"STIX-Web\"}});}\n",
       "        if (typeof require !== 'undefined') {\n",
       "        require.undef(\"plotly\");\n",
       "        requirejs.config({\n",
       "            paths: {\n",
       "                'plotly': ['https://cdn.plot.ly/plotly-latest.min']\n",
       "            }\n",
       "        });\n",
       "        require(['plotly'], function(Plotly) {\n",
       "            window._Plotly = Plotly;\n",
       "        });\n",
       "        }\n",
       "        </script>\n",
       "        "
      ]
     },
     "metadata": {},
     "output_type": "display_data"
    },
    {
     "data": {
      "text/html": [
       "<div>\n",
       "        \n",
       "        \n",
       "            <div id=\"0158c5b0-5dcc-4570-8bac-0cfa3ed368ae\" class=\"plotly-graph-div\" style=\"height:525px; width:100%;\"></div>\n",
       "            <script type=\"text/javascript\">\n",
       "                require([\"plotly\"], function(Plotly) {\n",
       "                    window.PLOTLYENV=window.PLOTLYENV || {};\n",
       "                    \n",
       "                if (document.getElementById(\"0158c5b0-5dcc-4570-8bac-0cfa3ed368ae\")) {\n",
       "                    Plotly.newPlot(\n",
       "                        '0158c5b0-5dcc-4570-8bac-0cfa3ed368ae',\n",
       "                        [{\"alignmentgroup\": \"True\", \"bingroup\": \"x\", \"hovertemplate\": \"Sex=M<br>Age=%{x}<br>count=%{y}<extra></extra>\", \"legendgroup\": \"M\", \"marker\": {\"color\": \"#636efa\"}, \"name\": \"M\", \"offsetgroup\": \"M\", \"orientation\": \"v\", \"showlegend\": true, \"type\": \"histogram\", \"x\": [62, 53, 60, 30, 67, 40, 31, 74, 56, 32, 62, 42, 74, 33, 50, 70, 36, 40, 53, 69, 21, 49, 21, 73, 68, 32, 64, 20, 35, 29, 21, 31, 42, 45, 51, 74, 41, 35, 80, 5, 50, 42, 54, 65, 28, 23, 64, 69, 60, 37, 75, 50, 53, 35, 25, 32, 21, 42, 50, 25, 63, 41, 45, 69, 50, 56, 69, 67, 64, 45, 72, 56, 52, 39, 12, 55, 43, 58, 62, 61, 72, 21, 37, 22, 29, 49, 43, 24, 35, 49, 43, 55, 76, 42, 74, 20, 74, 19, 75, 22, 75, 43, 40, 49, 71, 36, 70, 22, 22, 27, 51, 37, 74, 52, 30, 40, 71, 19, 26, 56, 55, 71, 62, 58, 51, 63, 29, 76, 31, 46, 67, 51, 42, 60, 43, 33, 75, 35, 64, 76, 68, 72, 74, 42, 33, 64, 42, 18, 19, 24, 31, 19, 20, 13, 36, 53, 21, 4, 71, 23, 21, 21, 30, 38, 73, 68, 59, 46, 37, 46, 45, 30, 45, 40, 30, 21, 24, 23, 53, 29, 50, 31, 78, 29, 23, 22, 10, 36, 29, 54, 54, 26, 50, 35, 37, 16, 60, 74, 49, 74, 24, 67, 29, 28, 32, 28, 18, 22, 17, 35, 57, 61, 26, 46, 67, 33, 63, 72, 40, 41, 49, 40, 18, 53, 31, 28, 43, 36, 40, 19, 36, 47, 13, 48, 50, 24, 73, 53, 48, 23, 68, 24, 22, 66, 30, 50, 70, 30, 31, 59, 59, 46, 71, 19, 52, 45, 44, 56, 70, 25, 24, 57, 63, 41, 55, 29, 70, 25, 23, 44, 23, 26, 26, 64, 78, 72, 52, 52, 37, 69, 42, 20, 68, 77, 41, 23, 34, 18, 70, 30, 44, 44, 57, 22, 42, 58, 55, 56, 71, 72, 18, 30, 50, 23, 65, 41, 62, 47, 70, 60, 48, 41, 29, 47, 43, 63, 30, 28, 24, 61, 31, 18, 10, 50, 54, 37, 10, 34, 6, 24, 43, 58, 32, 67, 18, 39, 41, 27, 34, 58, 22, 32, 37, 37, 35, 22, 47, 26, 21, 54, 48, 38, 45, 21, 58, 21, 59, 24, 26, 17, 67, 33, 45, 45, 32, 43, 54, 40, 65, 42, 36, 54, 73, 21, 20, 55, 30, 34, 58, 60, 32, 29, 21, 31, 17, 34, 43, 61, 29, 61, 45, 40, 25, 30, 38, 66, 24, 18, 52, 72, 60, 66, 67, 49, 36, 68, 22, 45, 52, 32, 42, 53, 46, 71, 22, 51, 44, 71, 63, 52, 21, 20, 76, 40, 57, 64, 51, 57, 50, 35, 67, 22, 29, 20, 30, 28, 27, 70, 34, 71, 69, 67, 38, 37, 47, 38, 30, 46, 66, 22, 42, 43, 28, 47, 39, 38, 24, 39, 39, 71, 42, 43, 38, 21, 9, 66, 47, 20, 42, 43, 40, 20, 24, 43, 31, 51, 29, 72, 27, 34, 34, 37, 15, 26, 41, 24, 41, 68, 59, 60, 18, 60, 38, 27, 48, 51, 64, 73, 67, 48, 34, 77, 42], \"xaxis\": \"x\", \"yaxis\": \"y\"}, {\"alignmentgroup\": \"True\", \"customdata\": [[\"Sweden\", \"M\", 62, \"P\", 0], [\"Sweden\", \"M\", 53, \"C\", 0], [\"Sweden\", \"M\", 60, \"P\", 0], [\"Estonia\", \"M\", 30, \"C\", 0], [\"Sweden\", \"M\", 67, \"P\", 0], [\"Estonia\", \"M\", 40, \"C\", 0], [\"Estonia\", \"M\", 31, \"P\", 0], [\"Sweden\", \"M\", 74, \"P\", 0], [\"Sweden\", \"M\", 56, \"P\", 0], [\"Estonia\", \"M\", 32, \"C\", 1], [\"Sweden\", \"M\", 62, \"P\", 0], [\"Sweden\", \"M\", 42, \"P\", 0], [\"Sweden\", \"M\", 74, \"P\", 0], [\"Sweden\", \"M\", 33, \"C\", 0], [\"Sweden\", \"M\", 50, \"P\", 1], [\"Sweden\", \"M\", 70, \"P\", 0], [\"Latvia\", \"M\", 36, \"P\", 1], [\"Estonia\", \"M\", 40, \"C\", 0], [\"Estonia\", \"M\", 53, \"P\", 0], [\"Sweden\", \"M\", 69, \"P\", 0], [\"Estonia\", \"M\", 21, \"P\", 1], [\"Russia\", \"M\", 49, \"P\", 0], [\"Estonia\", \"M\", 21, \"P\", 1], [\"Sweden\", \"M\", 73, \"P\", 0], [\"Germany\", \"M\", 68, \"P\", 0], [\"Estonia\", \"M\", 32, \"P\", 0], [\"Sweden\", \"M\", 64, \"P\", 0], [\"Estonia\", \"M\", 20, \"P\", 0], [\"Great Britain\", \"M\", 35, \"P\", 1], [\"Morocco\", \"M\", 29, \"P\", 0], [\"Morocco\", \"M\", 21, \"P\", 0], [\"Estonia\", \"M\", 31, \"P\", 0], [\"Sweden\", \"M\", 42, \"P\", 0], [\"Finland\", \"M\", 45, \"C\", 0], [\"Sweden\", \"M\", 51, \"P\", 0], [\"Sweden\", \"M\", 74, \"P\", 0], [\"Sweden\", \"M\", 41, \"P\", 1], [\"Latvia\", \"M\", 35, \"P\", 0], [\"Sweden\", \"M\", 80, \"P\", 0], [\"Latvia\", \"M\", 5, \"P\", 0], [\"Sweden\", \"M\", 50, \"P\", 0], [\"Estonia\", \"M\", 42, \"C\", 0], [\"Sweden\", \"M\", 54, \"P\", 1], [\"Sweden\", \"M\", 65, \"P\", 0], [\"Denmark\", \"M\", 28, \"P\", 1], [\"Sweden\", \"M\", 23, \"P\", 0], [\"Sweden\", \"M\", 64, \"P\", 0], [\"Sweden\", \"M\", 69, \"P\", 0], [\"Sweden\", \"M\", 60, \"P\", 0], [\"Sweden\", \"M\", 37, \"P\", 0], [\"Sweden\", \"M\", 75, \"P\", 0], [\"Sweden\", \"M\", 50, \"P\", 0], [\"Sweden\", \"M\", 53, \"P\", 0], [\"Sweden\", \"M\", 35, \"C\", 0], [\"Russia\", \"M\", 25, \"P\", 0], [\"Netherlands\", \"M\", 32, \"P\", 0], [\"Netherlands\", \"M\", 21, \"P\", 1], [\"Sweden\", \"M\", 42, \"P\", 0], [\"Sweden\", \"M\", 50, \"P\", 0], [\"Estonia\", \"M\", 25, \"P\", 0], [\"Sweden\", \"M\", 63, \"P\", 0], [\"Finland\", \"M\", 41, \"P\", 1], [\"Sweden\", \"M\", 45, \"P\", 1], [\"Sweden\", \"M\", 69, \"P\", 0], [\"Sweden\", \"M\", 50, \"P\", 1], [\"Sweden\", \"M\", 56, \"P\", 0], [\"Sweden\", \"M\", 69, \"P\", 0], [\"Sweden\", \"M\", 67, \"P\", 0], [\"Sweden\", \"M\", 64, \"P\", 0], [\"Sweden\", \"M\", 45, \"P\", 1], [\"Sweden\", \"M\", 72, \"P\", 0], [\"Sweden\", \"M\", 56, \"P\", 0], [\"Sweden\", \"M\", 52, \"P\", 0], [\"Norway\", \"M\", 39, \"P\", 0], [\"Norway\", \"M\", 12, \"P\", 1], [\"Sweden\", \"M\", 55, \"P\", 0], [\"Sweden\", \"M\", 43, \"C\", 1], [\"Sweden\", \"M\", 58, \"P\", 0], [\"Sweden\", \"M\", 62, \"P\", 0], [\"Sweden\", \"M\", 61, \"P\", 0], [\"Sweden\", \"M\", 72, \"P\", 0], [\"Estonia\", \"M\", 21, \"C\", 0], [\"Germany\", \"M\", 37, \"P\", 0], [\"Sweden\", \"M\", 22, \"P\", 1], [\"Latvia\", \"M\", 29, \"P\", 0], [\"Sweden\", \"M\", 49, \"C\", 0], [\"Sweden\", \"M\", 43, \"P\", 1], [\"Latvia\", \"M\", 24, \"P\", 1], [\"Sweden\", \"M\", 35, \"P\", 1], [\"Estonia\", \"M\", 49, \"P\", 0], [\"Sweden\", \"M\", 43, \"P\", 1], [\"Sweden\", \"M\", 55, \"P\", 0], [\"Sweden\", \"M\", 76, \"P\", 0], [\"Sweden\", \"M\", 42, \"P\", 0], [\"Sweden\", \"M\", 74, \"P\", 0], [\"Sweden\", \"M\", 20, \"P\", 0], [\"Sweden\", \"M\", 74, \"P\", 0], [\"Sweden\", \"M\", 19, \"P\", 0], [\"Sweden\", \"M\", 75, \"P\", 0], [\"Sweden\", \"M\", 22, \"P\", 0], [\"Sweden\", \"M\", 75, \"P\", 0], [\"Finland\", \"M\", 43, \"P\", 1], [\"Sweden\", \"M\", 40, \"P\", 0], [\"Sweden\", \"M\", 49, \"P\", 0], [\"Sweden\", \"M\", 71, \"P\", 0], [\"Estonia\", \"M\", 36, \"P\", 0], [\"Sweden\", \"M\", 70, \"P\", 0], [\"Sweden\", \"M\", 22, \"C\", 0], [\"Estonia\", \"M\", 22, \"P\", 0], [\"Sweden\", \"M\", 27, \"P\", 0], [\"Sweden\", \"M\", 51, \"P\", 1], [\"Sweden\", \"M\", 37, \"P\", 0], [\"Sweden\", \"M\", 74, \"P\", 0], [\"Sweden\", \"M\", 52, \"P\", 0], [\"Estonia\", \"M\", 30, \"C\", 0], [\"Sweden\", \"M\", 40, \"P\", 0], [\"Sweden\", \"M\", 71, \"P\", 0], [\"Norway\", \"M\", 19, \"P\", 1], [\"Sweden\", \"M\", 26, \"P\", 1], [\"Sweden\", \"M\", 56, \"P\", 0], [\"Sweden\", \"M\", 55, \"P\", 0], [\"Sweden\", \"M\", 71, \"P\", 0], [\"Sweden\", \"M\", 62, \"P\", 0], [\"Sweden\", \"M\", 58, \"P\", 0], [\"Finland\", \"M\", 51, \"P\", 0], [\"Sweden\", \"M\", 63, \"P\", 0], [\"Sweden\", \"M\", 29, \"P\", 1], [\"Sweden\", \"M\", 76, \"P\", 0], [\"Finland\", \"M\", 31, \"P\", 1], [\"Sweden\", \"M\", 46, \"C\", 0], [\"Sweden\", \"M\", 67, \"P\", 0], [\"Sweden\", \"M\", 51, \"P\", 0], [\"Sweden\", \"M\", 42, \"P\", 0], [\"Finland\", \"M\", 60, \"P\", 1], [\"Estonia\", \"M\", 43, \"C\", 0], [\"Nigeria\", \"M\", 33, \"P\", 0], [\"Germany\", \"M\", 75, \"P\", 0], [\"Latvia\", \"M\", 35, \"P\", 0], [\"Sweden\", \"M\", 64, \"P\", 0], [\"Sweden\", \"M\", 76, \"P\", 0], [\"Sweden\", \"M\", 68, \"P\", 0], [\"Sweden\", \"M\", 72, \"P\", 0], [\"Sweden\", \"M\", 74, \"P\", 0], [\"Sweden\", \"M\", 42, \"P\", 0], [\"Sweden\", \"M\", 33, \"P\", 1], [\"Sweden\", \"M\", 64, \"P\", 1], [\"Sweden\", \"M\", 42, \"P\", 0], [\"Estonia\", \"M\", 18, \"P\", 1], [\"Estonia\", \"M\", 19, \"P\", 0], [\"Estonia\", \"M\", 24, \"P\", 1], [\"Finland\", \"M\", 31, \"C\", 1], [\"Sweden\", \"M\", 19, \"P\", 0], [\"Denmark\", \"M\", 20, \"P\", 0], [\"Denmark\", \"M\", 13, \"P\", 0], [\"Estonia\", \"M\", 36, \"P\", 0], [\"Estonia\", \"M\", 53, \"P\", 0], [\"Estonia\", \"M\", 21, \"P\", 1], [\"Latvia\", \"M\", 4, \"P\", 0], [\"Sweden\", \"M\", 71, \"P\", 0], [\"Estonia\", \"M\", 23, \"P\", 1], [\"Estonia\", \"M\", 21, \"P\", 0], [\"Estonia\", \"M\", 21, \"P\", 1], [\"Estonia\", \"M\", 30, \"C\", 0], [\"Sweden\", \"M\", 38, \"P\", 0], [\"Sweden\", \"M\", 73, \"P\", 0], [\"Sweden\", \"M\", 68, \"P\", 0], [\"Sweden\", \"M\", 59, \"P\", 0], [\"Finland\", \"M\", 46, \"P\", 0], [\"Latvia\", \"M\", 37, \"P\", 0], [\"Estonia\", \"M\", 46, \"P\", 0], [\"Estonia\", \"M\", 45, \"P\", 0], [\"Estonia\", \"M\", 30, \"P\", 1], [\"Germany\", \"M\", 45, \"P\", 0], [\"Sweden\", \"M\", 40, \"P\", 0], [\"Estonia\", \"M\", 30, \"P\", 0], [\"Estonia\", \"M\", 21, \"C\", 0], [\"Estonia\", \"M\", 24, \"P\", 1], [\"Latvia\", \"M\", 23, \"P\", 1], [\"Estonia\", \"M\", 53, \"P\", 0], [\"Estonia\", \"M\", 29, \"C\", 0], [\"Sweden\", \"M\", 50, \"P\", 0], [\"Estonia\", \"M\", 31, \"C\", 1], [\"Sweden\", \"M\", 78, \"P\", 0], [\"Estonia\", \"M\", 29, \"P\", 0], [\"Sweden\", \"M\", 23, \"P\", 0], [\"Latvia\", \"M\", 22, \"P\", 1], [\"Estonia\", \"M\", 10, \"P\", 0], [\"Estonia\", \"M\", 36, \"P\", 0], [\"Estonia\", \"M\", 29, \"P\", 0], [\"Sweden\", \"M\", 54, \"P\", 1], [\"Sweden\", \"M\", 54, \"P\", 0], [\"Estonia\", \"M\", 26, \"C\", 0], [\"Estonia\", \"M\", 50, \"P\", 0], [\"Estonia\", \"M\", 35, \"P\", 0], [\"Estonia\", \"M\", 37, \"C\", 1], [\"Estonia\", \"M\", 16, \"P\", 1], [\"Estonia\", \"M\", 60, \"P\", 0], [\"Sweden\", \"M\", 74, \"P\", 0], [\"Russia\", \"M\", 49, \"P\", 0], [\"Sweden\", \"M\", 74, \"P\", 0], [\"Russia\", \"M\", 24, \"P\", 0], [\"Estonia\", \"M\", 67, \"P\", 1], [\"Estonia\", \"M\", 29, \"P\", 0], [\"Estonia\", \"M\", 28, \"P\", 0], [\"Estonia\", \"M\", 32, \"C\", 1], [\"Estonia\", \"M\", 28, \"C\", 0], [\"Estonia\", \"M\", 18, \"P\", 1], [\"Estonia\", \"M\", 22, \"P\", 0], [\"Estonia\", \"M\", 17, \"P\", 0], [\"Estonia\", \"M\", 35, \"P\", 0], [\"Estonia\", \"M\", 57, \"P\", 0], [\"Finland\", \"M\", 61, \"P\", 0], [\"Sweden\", \"M\", 26, \"P\", 1], [\"Estonia\", \"M\", 46, \"P\", 0], [\"Sweden\", \"M\", 67, \"P\", 0], [\"Sweden\", \"M\", 33, \"P\", 1], [\"Sweden\", \"M\", 63, \"P\", 1], [\"Sweden\", \"M\", 72, \"P\", 0], [\"Sweden\", \"M\", 40, \"P\", 0], [\"Estonia\", \"M\", 41, \"P\", 0], [\"Sweden\", \"M\", 49, \"P\", 0], [\"Estonia\", \"M\", 40, \"P\", 0], [\"Estonia\", \"M\", 18, \"P\", 0], [\"Estonia\", \"M\", 53, \"P\", 0], [\"Estonia\", \"M\", 31, \"P\", 1], [\"Estonia\", \"M\", 28, \"P\", 1], [\"Estonia\", \"M\", 43, \"C\", 0], [\"Sweden\", \"M\", 36, \"C\", 0], [\"Estonia\", \"M\", 40, \"P\", 0], [\"Norway\", \"M\", 19, \"P\", 1], [\"Estonia\", \"M\", 36, \"P\", 0], [\"Estonia\", \"M\", 47, \"C\", 0], [\"Estonia\", \"M\", 13, \"P\", 0], [\"Sweden\", \"M\", 48, \"P\", 0], [\"Sweden\", \"M\", 50, \"P\", 0], [\"Estonia\", \"M\", 24, \"C\", 1], [\"Sweden\", \"M\", 73, \"P\", 0], [\"Sweden\", \"M\", 53, \"P\", 0], [\"Sweden\", \"M\", 48, \"P\", 0], [\"Sweden\", \"M\", 23, \"P\", 1], [\"Sweden\", \"M\", 68, \"P\", 0], [\"Sweden\", \"M\", 24, \"P\", 0], [\"Estonia\", \"M\", 22, \"C\", 0], [\"Sweden\", \"M\", 66, \"P\", 0], [\"Estonia\", \"M\", 30, \"P\", 0], [\"Sweden\", \"M\", 50, \"P\", 0], [\"Sweden\", \"M\", 70, \"P\", 0], [\"Estonia\", \"M\", 30, \"P\", 0], [\"Estonia\", \"M\", 31, \"P\", 0], [\"Sweden\", \"M\", 59, \"P\", 0], [\"Sweden\", \"M\", 59, \"P\", 0], [\"Estonia\", \"M\", 46, \"P\", 1], [\"Sweden\", \"M\", 71, \"P\", 0], [\"Estonia\", \"M\", 19, \"P\", 1], [\"Russia\", \"M\", 52, \"C\", 0], [\"Estonia\", \"M\", 45, \"P\", 0], [\"Estonia\", \"M\", 44, \"C\", 0], [\"Sweden\", \"M\", 56, \"P\", 0], [\"Sweden\", \"M\", 70, \"P\", 0], [\"Russia\", \"M\", 25, \"P\", 0], [\"Estonia\", \"M\", 24, \"P\", 0], [\"Sweden\", \"M\", 57, \"P\", 0], [\"Great Britain\", \"M\", 63, \"P\", 0], [\"Estonia\", \"M\", 41, \"P\", 0], [\"Sweden\", \"M\", 55, \"P\", 0], [\"Estonia\", \"M\", 29, \"C\", 1], [\"Sweden\", \"M\", 70, \"P\", 0], [\"Estonia\", \"M\", 25, \"C\", 0], [\"Estonia\", \"M\", 23, \"C\", 0], [\"Lithuania\", \"M\", 44, \"P\", 0], [\"Estonia\", \"M\", 23, \"C\", 1], [\"Estonia\", \"M\", 26, \"P\", 1], [\"Estonia\", \"M\", 26, \"C\", 0], [\"Sweden\", \"M\", 64, \"P\", 0], [\"Sweden\", \"M\", 78, \"P\", 0], [\"Sweden\", \"M\", 72, \"P\", 0], [\"Sweden\", \"M\", 52, \"P\", 0], [\"Sweden\", \"M\", 52, \"P\", 0], [\"Finland\", \"M\", 37, \"P\", 0], [\"Estonia\", \"M\", 69, \"P\", 0], [\"Estonia\", \"M\", 42, \"C\", 1], [\"Denmark\", \"M\", 20, \"P\", 0], [\"Sweden\", \"M\", 68, \"P\", 0], [\"Sweden\", \"M\", 77, \"P\", 0], [\"Estonia\", \"M\", 41, \"P\", 0], [\"Latvia\", \"M\", 23, \"P\", 0], [\"Sweden\", \"M\", 34, \"P\", 1], [\"Sweden\", \"M\", 18, \"P\", 0], [\"Sweden\", \"M\", 70, \"P\", 0], [\"Sweden\", \"M\", 30, \"P\", 0], [\"Sweden\", \"M\", 44, \"P\", 0], [\"Sweden\", \"M\", 44, \"P\", 0], [\"Sweden\", \"M\", 57, \"P\", 0], [\"Sweden\", \"M\", 22, \"P\", 1], [\"Estonia\", \"M\", 42, \"P\", 0], [\"Sweden\", \"M\", 58, \"P\", 0], [\"Sweden\", \"M\", 55, \"P\", 0], [\"Sweden\", \"M\", 56, \"P\", 0], [\"Sweden\", \"M\", 71, \"P\", 0], [\"Sweden\", \"M\", 72, \"P\", 0], [\"Estonia\", \"M\", 18, \"P\", 0], [\"Estonia\", \"M\", 30, \"P\", 0], [\"Estonia\", \"M\", 50, \"P\", 0], [\"Estonia\", \"M\", 23, \"C\", 1], [\"Sweden\", \"M\", 65, \"P\", 0], [\"Sweden\", \"M\", 41, \"P\", 0], [\"Sweden\", \"M\", 62, \"P\", 0], [\"Sweden\", \"M\", 47, \"P\", 0], [\"Sweden\", \"M\", 70, \"P\", 0], [\"Sweden\", \"M\", 60, \"P\", 0], [\"Estonia\", \"M\", 48, \"P\", 0], [\"Estonia\", \"M\", 41, \"P\", 0], [\"Estonia\", \"M\", 29, \"P\", 0], [\"Estonia\", \"M\", 47, \"C\", 1], [\"Sweden\", \"M\", 43, \"P\", 0], [\"Sweden\", \"M\", 63, \"P\", 1], [\"Estonia\", \"M\", 30, \"P\", 0], [\"Estonia\", \"M\", 28, \"P\", 0], [\"Estonia\", \"M\", 24, \"C\", 0], [\"Sweden\", \"M\", 61, \"P\", 0], [\"Estonia\", \"M\", 31, \"P\", 0], [\"Sweden\", \"M\", 18, \"P\", 0], [\"Sweden\", \"M\", 10, \"P\", 0], [\"Sweden\", \"M\", 50, \"P\", 0], [\"Sweden\", \"M\", 54, \"P\", 0], [\"Sweden\", \"M\", 37, \"P\", 1], [\"Sweden\", \"M\", 10, \"P\", 0], [\"Sweden\", \"M\", 34, \"P\", 0], [\"Norway\", \"M\", 6, \"P\", 0], [\"Estonia\", \"M\", 24, \"C\", 0], [\"Sweden\", \"M\", 43, \"P\", 0], [\"Sweden\", \"M\", 58, \"P\", 0], [\"Sweden\", \"M\", 32, \"P\", 0], [\"Sweden\", \"M\", 67, \"P\", 0], [\"Estonia\", \"M\", 18, \"C\", 0], [\"Estonia\", \"M\", 39, \"C\", 0], [\"Estonia\", \"M\", 41, \"C\", 0], [\"Estonia\", \"M\", 27, \"C\", 0], [\"Estonia\", \"M\", 34, \"P\", 0], [\"Sweden\", \"M\", 58, \"P\", 0], [\"Estonia\", \"M\", 22, \"P\", 0], [\"Estonia\", \"M\", 32, \"C\", 0], [\"Russia\", \"M\", 37, \"P\", 0], [\"Russia\", \"M\", 37, \"C\", 1], [\"Estonia\", \"M\", 35, \"P\", 0], [\"Estonia\", \"M\", 22, \"P\", 1], [\"Estonia\", \"M\", 47, \"P\", 0], [\"Finland\", \"M\", 26, \"P\", 1], [\"Estonia\", \"M\", 21, \"P\", 0], [\"Sweden\", \"M\", 54, \"P\", 0], [\"Sweden\", \"M\", 48, \"P\", 0], [\"Estonia\", \"M\", 38, \"P\", 1], [\"Estonia\", \"M\", 45, \"C\", 0], [\"Estonia\", \"M\", 21, \"P\", 1], [\"Estonia\", \"M\", 58, \"P\", 0], [\"Estonia\", \"M\", 21, \"C\", 1], [\"Sweden\", \"M\", 59, \"P\", 0], [\"Estonia\", \"M\", 24, \"P\", 0], [\"Estonia\", \"M\", 26, \"C\", 0], [\"Estonia\", \"M\", 17, \"P\", 0], [\"Sweden\", \"M\", 67, \"P\", 0], [\"Estonia\", \"M\", 33, \"P\", 0], [\"Estonia\", \"M\", 45, \"P\", 0], [\"Estonia\", \"M\", 45, \"P\", 0], [\"Sweden\", \"M\", 32, \"P\", 0], [\"Estonia\", \"M\", 43, \"C\", 1], [\"Estonia\", \"M\", 54, \"C\", 1], [\"Estonia\", \"M\", 40, \"P\", 0], [\"Sweden\", \"M\", 65, \"P\", 1], [\"Sweden\", \"M\", 42, \"P\", 0], [\"Germany\", \"M\", 36, \"P\", 1], [\"Estonia\", \"M\", 54, \"C\", 0], [\"Sweden\", \"M\", 73, \"P\", 0], [\"Estonia\", \"M\", 21, \"C\", 0], [\"Estonia\", \"M\", 20, \"C\", 0], [\"Sweden\", \"M\", 55, \"P\", 0], [\"Estonia\", \"M\", 30, \"P\", 0], [\"Estonia\", \"M\", 34, \"C\", 0], [\"Sweden\", \"M\", 58, \"P\", 0], [\"Sweden\", \"M\", 60, \"P\", 0], [\"Estonia\", \"M\", 32, \"P\", 0], [\"Sweden\", \"M\", 29, \"P\", 0], [\"Estonia\", \"M\", 21, \"P\", 0], [\"Sweden\", \"M\", 31, \"P\", 1], [\"Latvia\", \"M\", 17, \"P\", 0], [\"Estonia\", \"M\", 34, \"P\", 0], [\"Estonia\", \"M\", 43, \"C\", 1], [\"Sweden\", \"M\", 61, \"P\", 0], [\"Estonia\", \"M\", 29, \"P\", 1], [\"Estonia\", \"M\", 61, \"P\", 0], [\"Russia\", \"M\", 45, \"C\", 1], [\"Sweden\", \"M\", 40, \"P\", 0], [\"Estonia\", \"M\", 25, \"C\", 1], [\"Russia\", \"M\", 30, \"C\", 0], [\"Estonia\", \"M\", 38, \"C\", 1], [\"Sweden\", \"M\", 66, \"P\", 0], [\"Estonia\", \"M\", 24, \"C\", 0], [\"Sweden\", \"M\", 18, \"P\", 0], [\"Sweden\", \"M\", 52, \"P\", 0], [\"Sweden\", \"M\", 72, \"P\", 0], [\"Sweden\", \"M\", 60, \"P\", 0], [\"Sweden\", \"M\", 66, \"P\", 0], [\"Sweden\", \"M\", 67, \"P\", 0], [\"Sweden\", \"M\", 49, \"P\", 0], [\"Latvia\", \"M\", 36, \"P\", 1], [\"Sweden\", \"M\", 68, \"P\", 0], [\"Estonia\", \"M\", 22, \"P\", 0], [\"Norway\", \"M\", 45, \"P\", 0], [\"Sweden\", \"M\", 52, \"P\", 1], [\"Latvia\", \"M\", 32, \"P\", 0], [\"Sweden\", \"M\", 42, \"P\", 0], [\"Estonia\", \"M\", 53, \"P\", 1], [\"Sweden\", \"M\", 46, \"P\", 0], [\"Sweden\", \"M\", 71, \"P\", 0], [\"Latvia\", \"M\", 22, \"P\", 0], [\"Estonia\", \"M\", 51, \"C\", 0], [\"Sweden\", \"M\", 44, \"P\", 0], [\"Sweden\", \"M\", 71, \"P\", 0], [\"Sweden\", \"M\", 63, \"P\", 0], [\"Sweden\", \"M\", 52, \"P\", 0], [\"Sweden\", \"M\", 21, \"P\", 0], [\"Sweden\", \"M\", 20, \"P\", 1], [\"Sweden\", \"M\", 76, \"P\", 0], [\"Sweden\", \"M\", 40, \"C\", 0], [\"Sweden\", \"M\", 57, \"P\", 0], [\"Sweden\", \"M\", 64, \"P\", 0], [\"Sweden\", \"M\", 51, \"C\", 0], [\"Sweden\", \"M\", 57, \"P\", 0], [\"Germany\", \"M\", 50, \"P\", 1], [\"Sweden\", \"M\", 35, \"P\", 1], [\"Sweden\", \"M\", 67, \"P\", 0], [\"Estonia\", \"M\", 22, \"C\", 0], [\"Lithuania\", \"M\", 29, \"P\", 1], [\"Estonia\", \"M\", 20, \"P\", 0], [\"Estonia\", \"M\", 30, \"P\", 0], [\"Estonia\", \"M\", 28, \"C\", 0], [\"Estonia\", \"M\", 27, \"C\", 0], [\"Sweden\", \"M\", 70, \"P\", 0], [\"Sweden\", \"M\", 34, \"P\", 1], [\"Sweden\", \"M\", 71, \"P\", 0], [\"Sweden\", \"M\", 69, \"P\", 0], [\"Sweden\", \"M\", 67, \"P\", 0], [\"Estonia\", \"M\", 38, \"C\", 0], [\"Estonia\", \"M\", 37, \"P\", 1], [\"Estonia\", \"M\", 47, \"P\", 0], [\"Estonia\", \"M\", 38, \"P\", 0], [\"Estonia\", \"M\", 30, \"C\", 1], [\"Norway\", \"M\", 46, \"P\", 0], [\"Estonia\", \"M\", 66, \"P\", 0], [\"Estonia\", \"M\", 22, \"P\", 0], [\"Estonia\", \"M\", 42, \"C\", 0], [\"Sweden\", \"M\", 43, \"C\", 1], [\"Estonia\", \"M\", 28, \"P\", 0], [\"Estonia\", \"M\", 47, \"C\", 1], [\"Estonia\", \"M\", 39, \"P\", 1], [\"Estonia\", \"M\", 38, \"P\", 1], [\"Estonia\", \"M\", 24, \"C\", 1], [\"Estonia\", \"M\", 39, \"P\", 0], [\"Estonia\", \"M\", 39, \"P\", 0], [\"Sweden\", \"M\", 71, \"P\", 0], [\"Estonia\", \"M\", 42, \"P\", 0], [\"Estonia\", \"M\", 43, \"C\", 0], [\"Estonia\", \"M\", 38, \"P\", 0], [\"Estonia\", \"M\", 21, \"C\", 0], [\"Latvia\", \"M\", 9, \"P\", 0], [\"Sweden\", \"M\", 66, \"P\", 0], [\"Sweden\", \"M\", 47, \"P\", 0], [\"Estonia\", \"M\", 20, \"C\", 1], [\"Sweden\", \"M\", 42, \"P\", 1], [\"Estonia\", \"M\", 43, \"P\", 0], [\"Latvia\", \"M\", 40, \"P\", 0], [\"Estonia\", \"M\", 20, \"C\", 0], [\"Russia\", \"M\", 24, \"P\", 0], [\"Estonia\", \"M\", 43, \"C\", 1], [\"Estonia\", \"M\", 31, \"P\", 0], [\"Sweden\", \"M\", 51, \"P\", 0], [\"Estonia\", \"M\", 29, \"C\", 1], [\"Sweden\", \"M\", 72, \"P\", 0], [\"Estonia\", \"M\", 27, \"P\", 0], [\"Estonia\", \"M\", 34, \"C\", 0], [\"Latvia\", \"M\", 34, \"P\", 0], [\"Estonia\", \"M\", 37, \"P\", 1], [\"Estonia\", \"M\", 15, \"P\", 1], [\"Estonia\", \"M\", 26, \"C\", 0], [\"Finland\", \"M\", 41, \"P\", 0], [\"Estonia\", \"M\", 24, \"C\", 1], [\"Sweden\", \"M\", 41, \"P\", 1], [\"Sweden\", \"M\", 68, \"P\", 0], [\"Sweden\", \"M\", 59, \"P\", 0], [\"Sweden\", \"M\", 60, \"P\", 0], [\"Sweden\", \"M\", 18, \"P\", 0], [\"Sweden\", \"M\", 60, \"P\", 0], [\"Germany\", \"M\", 38, \"P\", 1], [\"Estonia\", \"M\", 27, \"P\", 0], [\"Sweden\", \"M\", 48, \"P\", 0], [\"Sweden\", \"M\", 51, \"P\", 0], [\"Sweden\", \"M\", 64, \"P\", 0], [\"Sweden\", \"M\", 73, \"P\", 0], [\"Denmark\", \"M\", 67, \"P\", 0], [\"Sweden\", \"M\", 48, \"P\", 1], [\"Sweden\", \"M\", 34, \"P\", 1], [\"Sweden\", \"M\", 77, \"P\", 0], [\"Sweden\", \"M\", 42, \"P\", 1]], \"hovertemplate\": \"Sex=%{customdata[1]}<br>Age=%{customdata[2]}<br>Country=%{customdata[0]}<br>Category=%{customdata[3]}<br>Survived=%{customdata[4]}<extra></extra>\", \"legendgroup\": \"M\", \"marker\": {\"color\": \"#636efa\"}, \"name\": \"M\", \"notched\": true, \"offsetgroup\": \"M\", \"showlegend\": false, \"type\": \"box\", \"x\": [62, 53, 60, 30, 67, 40, 31, 74, 56, 32, 62, 42, 74, 33, 50, 70, 36, 40, 53, 69, 21, 49, 21, 73, 68, 32, 64, 20, 35, 29, 21, 31, 42, 45, 51, 74, 41, 35, 80, 5, 50, 42, 54, 65, 28, 23, 64, 69, 60, 37, 75, 50, 53, 35, 25, 32, 21, 42, 50, 25, 63, 41, 45, 69, 50, 56, 69, 67, 64, 45, 72, 56, 52, 39, 12, 55, 43, 58, 62, 61, 72, 21, 37, 22, 29, 49, 43, 24, 35, 49, 43, 55, 76, 42, 74, 20, 74, 19, 75, 22, 75, 43, 40, 49, 71, 36, 70, 22, 22, 27, 51, 37, 74, 52, 30, 40, 71, 19, 26, 56, 55, 71, 62, 58, 51, 63, 29, 76, 31, 46, 67, 51, 42, 60, 43, 33, 75, 35, 64, 76, 68, 72, 74, 42, 33, 64, 42, 18, 19, 24, 31, 19, 20, 13, 36, 53, 21, 4, 71, 23, 21, 21, 30, 38, 73, 68, 59, 46, 37, 46, 45, 30, 45, 40, 30, 21, 24, 23, 53, 29, 50, 31, 78, 29, 23, 22, 10, 36, 29, 54, 54, 26, 50, 35, 37, 16, 60, 74, 49, 74, 24, 67, 29, 28, 32, 28, 18, 22, 17, 35, 57, 61, 26, 46, 67, 33, 63, 72, 40, 41, 49, 40, 18, 53, 31, 28, 43, 36, 40, 19, 36, 47, 13, 48, 50, 24, 73, 53, 48, 23, 68, 24, 22, 66, 30, 50, 70, 30, 31, 59, 59, 46, 71, 19, 52, 45, 44, 56, 70, 25, 24, 57, 63, 41, 55, 29, 70, 25, 23, 44, 23, 26, 26, 64, 78, 72, 52, 52, 37, 69, 42, 20, 68, 77, 41, 23, 34, 18, 70, 30, 44, 44, 57, 22, 42, 58, 55, 56, 71, 72, 18, 30, 50, 23, 65, 41, 62, 47, 70, 60, 48, 41, 29, 47, 43, 63, 30, 28, 24, 61, 31, 18, 10, 50, 54, 37, 10, 34, 6, 24, 43, 58, 32, 67, 18, 39, 41, 27, 34, 58, 22, 32, 37, 37, 35, 22, 47, 26, 21, 54, 48, 38, 45, 21, 58, 21, 59, 24, 26, 17, 67, 33, 45, 45, 32, 43, 54, 40, 65, 42, 36, 54, 73, 21, 20, 55, 30, 34, 58, 60, 32, 29, 21, 31, 17, 34, 43, 61, 29, 61, 45, 40, 25, 30, 38, 66, 24, 18, 52, 72, 60, 66, 67, 49, 36, 68, 22, 45, 52, 32, 42, 53, 46, 71, 22, 51, 44, 71, 63, 52, 21, 20, 76, 40, 57, 64, 51, 57, 50, 35, 67, 22, 29, 20, 30, 28, 27, 70, 34, 71, 69, 67, 38, 37, 47, 38, 30, 46, 66, 22, 42, 43, 28, 47, 39, 38, 24, 39, 39, 71, 42, 43, 38, 21, 9, 66, 47, 20, 42, 43, 40, 20, 24, 43, 31, 51, 29, 72, 27, 34, 34, 37, 15, 26, 41, 24, 41, 68, 59, 60, 18, 60, 38, 27, 48, 51, 64, 73, 67, 48, 34, 77, 42], \"xaxis\": \"x2\", \"yaxis\": \"y2\"}, {\"alignmentgroup\": \"True\", \"bingroup\": \"x\", \"hovertemplate\": \"Sex=F<br>Age=%{x}<br>count=%{y}<extra></extra>\", \"legendgroup\": \"F\", \"marker\": {\"color\": \"#EF553B\"}, \"name\": \"F\", \"offsetgroup\": \"F\", \"orientation\": \"v\", \"showlegend\": true, \"type\": \"histogram\", \"x\": [22, 21, 55, 71, 18, 63, 61, 68, 36, 23, 68, 63, 28, 72, 75, 33, 41, 65, 39, 69, 65, 38, 52, 63, 43, 27, 31, 49, 68, 49, 67, 45, 31, 46, 29, 41, 26, 49, 67, 31, 53, 66, 44, 28, 36, 55, 45, 33, 41, 74, 32, 57, 39, 37, 17, 48, 30, 69, 54, 21, 27, 29, 49, 71, 49, 50, 59, 60, 56, 59, 49, 50, 65, 45, 49, 45, 37, 81, 72, 57, 51, 24, 74, 70, 72, 37, 64, 60, 14, 67, 59, 47, 46, 35, 43, 53, 69, 48, 34, 44, 72, 76, 44, 57, 26, 40, 14, 50, 59, 24, 49, 57, 68, 33, 52, 69, 45, 24, 26, 47, 70, 71, 26, 78, 80, 62, 55, 42, 48, 35, 43, 47, 18, 39, 20, 39, 33, 24, 49, 67, 65, 56, 63, 32, 65, 45, 37, 48, 69, 62, 65, 49, 16, 67, 27, 29, 68, 36, 72, 63, 72, 41, 65, 67, 82, 55, 44, 50, 57, 30, 63, 39, 21, 50, 47, 53, 41, 27, 23, 33, 62, 21, 21, 54, 30, 21, 55, 37, 64, 46, 56, 70, 18, 19, 34, 68, 30, 40, 56, 20, 20, 51, 36, 48, 44, 40, 23, 20, 35, 69, 29, 38, 20, 54, 21, 23, 36, 31, 65, 49, 67, 51, 43, 41, 42, 21, 53, 74, 17, 18, 73, 19, 24, 23, 41, 55, 49, 36, 30, 74, 34, 27, 36, 26, 29, 45, 27, 44, 47, 60, 30, 44, 52, 35, 70, 41, 49, 5, 47, 18, 43, 61, 46, 66, 51, 47, 56, 54, 48, 49, 30, 29, 59, 27, 78, 69, 57, 39, 30, 31, 55, 54, 67, 16, 58, 34, 55, 44, 41, 47, 22, 18, 40, 31, 34, 67, 22, 32, 48, 31, 51, 23, 22, 23, 36, 38, 50, 38, 39, 74, 28, 58, 25, 71, 64, 18, 25, 51, 53, 51, 48, 39, 56, 57, 46, 41, 63, 59, 39, 58, 25, 42, 30, 19, 61, 33, 31, 38, 44, 37, 67, 29, 63, 50, 55, 45, 28, 37, 27, 33, 25, 59, 19, 42, 37, 59, 52, 46, 38, 46, 44, 50, 62, 47, 41, 19, 22, 19, 44, 63, 21, 31, 53, 63, 28, 51, 25, 49, 54, 36, 35, 36, 50, 19, 20, 53, 63, 45, 25, 25, 38, 61, 29, 51, 45, 69, 53, 28, 50, 66, 64, 71, 45, 45, 53, 69, 64, 82, 62, 61, 64, 57, 69, 34, 65, 43, 62, 65, 23, 45, 69, 69, 35, 47, 30, 39, 74, 34, 30, 73, 64, 23, 56, 34, 45, 67, 33, 27, 37, 34, 51, 43, 21, 67, 71, 69, 50, 49, 21, 46, 64, 64, 24, 24, 18, 23, 48, 48, 48, 67, 37, 32, 35, 50, 47, 64, 57, 51, 18, 40, 46, 51, 63, 49, 67, 0, 2, 62, 45, 45, 56, 54, 24, 51, 60, 87], \"xaxis\": \"x\", \"yaxis\": \"y\"}, {\"alignmentgroup\": \"True\", \"customdata\": [[\"Estonia\", \"F\", 22, \"C\", 0], [\"Estonia\", \"F\", 21, \"C\", 0], [\"Sweden\", \"F\", 55, \"P\", 0], [\"Sweden\", \"F\", 71, \"P\", 0], [\"Estonia\", \"F\", 18, \"P\", 0], [\"Sweden\", \"F\", 63, \"P\", 0], [\"Estonia\", \"F\", 61, \"P\", 0], [\"Sweden\", \"F\", 68, \"P\", 0], [\"Estonia\", \"F\", 36, \"C\", 0], [\"Estonia\", \"F\", 23, \"C\", 0], [\"Sweden\", \"F\", 68, \"P\", 0], [\"Sweden\", \"F\", 63, \"P\", 0], [\"Sweden\", \"F\", 28, \"P\", 0], [\"Sweden\", \"F\", 72, \"P\", 0], [\"Sweden\", \"F\", 75, \"P\", 0], [\"Sweden\", \"F\", 33, \"P\", 0], [\"Sweden\", \"F\", 41, \"P\", 0], [\"Sweden\", \"F\", 65, \"P\", 0], [\"Sweden\", \"F\", 39, \"P\", 0], [\"Sweden\", \"F\", 69, \"P\", 0], [\"Sweden\", \"F\", 65, \"P\", 0], [\"Estonia\", \"F\", 38, \"C\", 0], [\"Estonia\", \"F\", 52, \"C\", 0], [\"Sweden\", \"F\", 63, \"P\", 0], [\"Estonia\", \"F\", 43, \"C\", 0], [\"Estonia\", \"F\", 27, \"C\", 0], [\"Sweden\", \"F\", 31, \"P\", 1], [\"Sweden\", \"F\", 49, \"P\", 0], [\"Sweden\", \"F\", 68, \"P\", 0], [\"Sweden\", \"F\", 49, \"P\", 0], [\"Sweden\", \"F\", 67, \"P\", 0], [\"Estonia\", \"F\", 45, \"C\", 0], [\"Estonia\", \"F\", 31, \"P\", 0], [\"Finland\", \"F\", 46, \"P\", 0], [\"Sweden\", \"F\", 29, \"C\", 0], [\"Sweden\", \"F\", 41, \"P\", 0], [\"Estonia\", \"F\", 26, \"C\", 0], [\"Sweden\", \"F\", 49, \"P\", 0], [\"Sweden\", \"F\", 67, \"P\", 0], [\"Sweden\", \"F\", 31, \"P\", 1], [\"Sweden\", \"F\", 53, \"P\", 0], [\"Sweden\", \"F\", 66, \"P\", 0], [\"Sweden\", \"F\", 44, \"P\", 0], [\"Latvia\", \"F\", 28, \"P\", 0], [\"Latvia\", \"F\", 36, \"P\", 0], [\"Sweden\", \"F\", 55, \"P\", 0], [\"Sweden\", \"F\", 45, \"P\", 0], [\"Estonia\", \"F\", 33, \"C\", 1], [\"Sweden\", \"F\", 41, \"P\", 0], [\"Sweden\", \"F\", 74, \"P\", 0], [\"France\", \"F\", 32, \"P\", 0], [\"Sweden\", \"F\", 57, \"P\", 0], [\"Estonia\", \"F\", 39, \"P\", 0], [\"Sweden\", \"F\", 37, \"P\", 0], [\"Sweden\", \"F\", 17, \"P\", 0], [\"Estonia\", \"F\", 48, \"C\", 0], [\"Sweden\", \"F\", 30, \"P\", 0], [\"Sweden\", \"F\", 69, \"P\", 0], [\"Sweden\", \"F\", 54, \"P\", 0], [\"Latvia\", \"F\", 21, \"P\", 0], [\"Sweden\", \"F\", 27, \"P\", 0], [\"Sweden\", \"F\", 29, \"P\", 0], [\"Sweden\", \"F\", 49, \"P\", 0], [\"Finland\", \"F\", 71, \"P\", 0], [\"Latvia\", \"F\", 49, \"P\", 0], [\"Sweden\", \"F\", 50, \"P\", 0], [\"Sweden\", \"F\", 59, \"P\", 0], [\"Sweden\", \"F\", 60, \"P\", 0], [\"Estonia\", \"F\", 56, \"P\", 0], [\"Sweden\", \"F\", 59, \"P\", 1], [\"Sweden\", \"F\", 49, \"P\", 0], [\"Sweden\", \"F\", 50, \"P\", 0], [\"Sweden\", \"F\", 65, \"P\", 0], [\"Sweden\", \"F\", 45, \"P\", 0], [\"Sweden\", \"F\", 49, \"P\", 0], [\"Sweden\", \"F\", 45, \"P\", 0], [\"Sweden\", \"F\", 37, \"P\", 0], [\"Sweden\", \"F\", 81, \"P\", 0], [\"Sweden\", \"F\", 72, \"P\", 0], [\"Sweden\", \"F\", 57, \"P\", 0], [\"Sweden\", \"F\", 51, \"P\", 1], [\"Sweden\", \"F\", 24, \"P\", 0], [\"Sweden\", \"F\", 74, \"P\", 0], [\"Sweden\", \"F\", 70, \"P\", 0], [\"Sweden\", \"F\", 72, \"P\", 0], [\"Sweden\", \"F\", 37, \"P\", 0], [\"Sweden\", \"F\", 64, \"P\", 0], [\"Sweden\", \"F\", 60, \"P\", 0], [\"Norway\", \"F\", 14, \"P\", 0], [\"Sweden\", \"F\", 67, \"P\", 0], [\"Sweden\", \"F\", 59, \"P\", 0], [\"Sweden\", \"F\", 47, \"P\", 0], [\"Sweden\", \"F\", 46, \"P\", 0], [\"Sweden\", \"F\", 35, \"P\", 0], [\"Sweden\", \"F\", 43, \"P\", 0], [\"Sweden\", \"F\", 53, \"P\", 0], [\"Sweden\", \"F\", 69, \"P\", 0], [\"Sweden\", \"F\", 48, \"P\", 0], [\"Sweden\", \"F\", 34, \"P\", 1], [\"Sweden\", \"F\", 44, \"P\", 0], [\"Sweden\", \"F\", 72, \"P\", 0], [\"Sweden\", \"F\", 76, \"P\", 0], [\"Sweden\", \"F\", 44, \"P\", 0], [\"Sweden\", \"F\", 57, \"P\", 0], [\"Sweden\", \"F\", 26, \"P\", 0], [\"Lithuania\", \"F\", 40, \"P\", 0], [\"Lithuania\", \"F\", 14, \"P\", 0], [\"Sweden\", \"F\", 50, \"P\", 0], [\"Sweden\", \"F\", 59, \"P\", 0], [\"Sweden\", \"F\", 24, \"P\", 0], [\"Sweden\", \"F\", 49, \"P\", 0], [\"Sweden\", \"F\", 57, \"P\", 0], [\"Sweden\", \"F\", 68, \"P\", 0], [\"Sweden\", \"F\", 33, \"P\", 0], [\"Sweden\", \"F\", 52, \"P\", 0], [\"Sweden\", \"F\", 69, \"P\", 0], [\"Sweden\", \"F\", 45, \"P\", 0], [\"Estonia\", \"F\", 24, \"P\", 0], [\"Estonia\", \"F\", 26, \"C\", 0], [\"Sweden\", \"F\", 47, \"P\", 0], [\"Sweden\", \"F\", 70, \"P\", 0], [\"Sweden\", \"F\", 71, \"P\", 0], [\"Sweden\", \"F\", 26, \"P\", 0], [\"Sweden\", \"F\", 78, \"P\", 0], [\"Sweden\", \"F\", 80, \"P\", 0], [\"Sweden\", \"F\", 62, \"P\", 0], [\"Finland\", \"F\", 55, \"P\", 0], [\"Estonia\", \"F\", 42, \"C\", 0], [\"Sweden\", \"F\", 48, \"P\", 0], [\"Sweden\", \"F\", 35, \"P\", 0], [\"Sweden\", \"F\", 43, \"P\", 0], [\"Estonia\", \"F\", 47, \"C\", 0], [\"Sweden\", \"F\", 18, \"P\", 0], [\"Sweden\", \"F\", 39, \"P\", 0], [\"Sweden\", \"F\", 20, \"P\", 1], [\"Estonia\", \"F\", 39, \"C\", 0], [\"Latvia\", \"F\", 33, \"P\", 0], [\"Estonia\", \"F\", 24, \"P\", 0], [\"Sweden\", \"F\", 49, \"P\", 0], [\"Sweden\", \"F\", 67, \"P\", 0], [\"Sweden\", \"F\", 65, \"P\", 0], [\"Sweden\", \"F\", 56, \"P\", 0], [\"Sweden\", \"F\", 63, \"P\", 0], [\"Estonia\", \"F\", 32, \"P\", 0], [\"Sweden\", \"F\", 65, \"P\", 0], [\"Sweden\", \"F\", 45, \"P\", 0], [\"Sweden\", \"F\", 37, \"P\", 0], [\"Sweden\", \"F\", 48, \"P\", 0], [\"Sweden\", \"F\", 69, \"P\", 0], [\"Sweden\", \"F\", 62, \"P\", 0], [\"Sweden\", \"F\", 65, \"P\", 0], [\"Estonia\", \"F\", 49, \"P\", 0], [\"Estonia\", \"F\", 16, \"C\", 0], [\"Sweden\", \"F\", 67, \"P\", 0], [\"Latvia\", \"F\", 27, \"P\", 0], [\"Sweden\", \"F\", 29, \"P\", 0], [\"Sweden\", \"F\", 68, \"P\", 0], [\"Latvia\", \"F\", 36, \"P\", 0], [\"Estonia\", \"F\", 72, \"P\", 0], [\"Sweden\", \"F\", 63, \"P\", 0], [\"Sweden\", \"F\", 72, \"P\", 0], [\"Sweden\", \"F\", 41, \"P\", 0], [\"Sweden\", \"F\", 65, \"P\", 0], [\"Sweden\", \"F\", 67, \"P\", 0], [\"Sweden\", \"F\", 82, \"P\", 0], [\"Sweden\", \"F\", 55, \"P\", 0], [\"Estonia\", \"F\", 44, \"C\", 1], [\"Sweden\", \"F\", 50, \"P\", 0], [\"Sweden\", \"F\", 57, \"P\", 0], [\"Sweden\", \"F\", 30, \"P\", 0], [\"Estonia\", \"F\", 63, \"P\", 0], [\"Estonia\", \"F\", 39, \"C\", 0], [\"Estonia\", \"F\", 21, \"P\", 0], [\"Estonia\", \"F\", 50, \"P\", 1], [\"Sweden\", \"F\", 47, \"P\", 0], [\"Sweden\", \"F\", 53, \"P\", 0], [\"Denmark\", \"F\", 41, \"P\", 0], [\"Latvia\", \"F\", 27, \"P\", 0], [\"Estonia\", \"F\", 23, \"C\", 1], [\"Estonia\", \"F\", 33, \"P\", 0], [\"Sweden\", \"F\", 62, \"P\", 0], [\"Estonia\", \"F\", 21, \"C\", 0], [\"Estonia\", \"F\", 21, \"P\", 0], [\"Sweden\", \"F\", 54, \"P\", 0], [\"Estonia\", \"F\", 30, \"C\", 0], [\"Latvia\", \"F\", 21, \"P\", 1], [\"Sweden\", \"F\", 55, \"P\", 0], [\"Estonia\", \"F\", 37, \"C\", 0], [\"Sweden\", \"F\", 64, \"P\", 0], [\"Sweden\", \"F\", 46, \"P\", 0], [\"Sweden\", \"F\", 56, \"P\", 0], [\"Sweden\", \"F\", 70, \"P\", 0], [\"Sweden\", \"F\", 18, \"P\", 0], [\"Sweden\", \"F\", 19, \"P\", 0], [\"Estonia\", \"F\", 34, \"P\", 0], [\"Canada\", \"F\", 68, \"P\", 0], [\"Estonia\", \"F\", 30, \"C\", 0], [\"Estonia\", \"F\", 40, \"P\", 0], [\"Sweden\", \"F\", 56, \"P\", 0], [\"Estonia\", \"F\", 20, \"P\", 0], [\"Estonia\", \"F\", 20, \"C\", 0], [\"Sweden\", \"F\", 51, \"P\", 0], [\"Estonia\", \"F\", 36, \"C\", 0], [\"Estonia\", \"F\", 48, \"C\", 0], [\"Estonia\", \"F\", 44, \"C\", 0], [\"Russia\", \"F\", 40, \"C\", 0], [\"Estonia\", \"F\", 23, \"C\", 1], [\"Estonia\", \"F\", 20, \"C\", 0], [\"Estonia\", \"F\", 35, \"C\", 0], [\"Sweden\", \"F\", 69, \"P\", 0], [\"Estonia\", \"F\", 29, \"P\", 1], [\"Sweden\", \"F\", 38, \"P\", 0], [\"Estonia\", \"F\", 20, \"P\", 0], [\"Sweden\", \"F\", 54, \"P\", 0], [\"Estonia\", \"F\", 21, \"C\", 0], [\"Estonia\", \"F\", 23, \"C\", 0], [\"Estonia\", \"F\", 36, \"C\", 0], [\"Estonia\", \"F\", 31, \"P\", 0], [\"Sweden\", \"F\", 65, \"P\", 0], [\"Estonia\", \"F\", 49, \"P\", 0], [\"Estonia\", \"F\", 67, \"P\", 0], [\"Sweden\", \"F\", 51, \"P\", 0], [\"Estonia\", \"F\", 43, \"C\", 0], [\"Estonia\", \"F\", 41, \"C\", 0], [\"Estonia\", \"F\", 42, \"C\", 0], [\"Estonia\", \"F\", 21, \"C\", 0], [\"Sweden\", \"F\", 53, \"P\", 0], [\"Sweden\", \"F\", 74, \"P\", 0], [\"Estonia\", \"F\", 17, \"P\", 0], [\"Sweden\", \"F\", 18, \"P\", 0], [\"Sweden\", \"F\", 73, \"P\", 0], [\"Estonia\", \"F\", 19, \"P\", 1], [\"Estonia\", \"F\", 24, \"C\", 0], [\"Estonia\", \"F\", 23, \"P\", 0], [\"Estonia\", \"F\", 41, \"P\", 0], [\"Sweden\", \"F\", 55, \"P\", 0], [\"Sweden\", \"F\", 49, \"P\", 0], [\"Sweden\", \"F\", 36, \"P\", 0], [\"Sweden\", \"F\", 30, \"P\", 0], [\"Sweden\", \"F\", 74, \"P\", 0], [\"Sweden\", \"F\", 34, \"P\", 0], [\"Sweden\", \"F\", 27, \"P\", 0], [\"Estonia\", \"F\", 36, \"C\", 0], [\"Estonia\", \"F\", 26, \"P\", 1], [\"Estonia\", \"F\", 29, \"C\", 0], [\"Sweden\", \"F\", 45, \"P\", 0], [\"Estonia\", \"F\", 27, \"P\", 0], [\"Estonia\", \"F\", 44, \"P\", 0], [\"Estonia\", \"F\", 47, \"P\", 0], [\"Sweden\", \"F\", 60, \"P\", 0], [\"Sweden\", \"F\", 30, \"C\", 1], [\"Estonia\", \"F\", 44, \"C\", 0], [\"Estonia\", \"F\", 52, \"P\", 0], [\"Estonia\", \"F\", 35, \"P\", 0], [\"Sweden\", \"F\", 70, \"P\", 0], [\"Sweden\", \"F\", 41, \"P\", 0], [\"Sweden\", \"F\", 49, \"P\", 0], [\"Sweden\", \"F\", 5, \"P\", 0], [\"Sweden\", \"F\", 47, \"P\", 0], [\"Estonia\", \"F\", 18, \"C\", 0], [\"Sweden\", \"F\", 43, \"P\", 0], [\"Sweden\", \"F\", 61, \"P\", 0], [\"Sweden\", \"F\", 46, \"P\", 0], [\"Sweden\", \"F\", 66, \"P\", 0], [\"Estonia\", \"F\", 51, \"P\", 0], [\"Sweden\", \"F\", 47, \"P\", 0], [\"Sweden\", \"F\", 56, \"P\", 0], [\"Sweden\", \"F\", 54, \"P\", 0], [\"Sweden\", \"F\", 48, \"P\", 0], [\"Sweden\", \"F\", 49, \"P\", 0], [\"Sweden\", \"F\", 30, \"P\", 0], [\"Estonia\", \"F\", 29, \"P\", 0], [\"Sweden\", \"F\", 59, \"P\", 0], [\"Estonia\", \"F\", 27, \"C\", 0], [\"Sweden\", \"F\", 78, \"P\", 0], [\"Sweden\", \"F\", 69, \"P\", 0], [\"Sweden\", \"F\", 57, \"P\", 0], [\"Russia\", \"F\", 39, \"C\", 0], [\"Estonia\", \"F\", 30, \"P\", 0], [\"Estonia\", \"F\", 31, \"C\", 0], [\"Sweden\", \"F\", 55, \"P\", 0], [\"Sweden\", \"F\", 54, \"P\", 0], [\"Sweden\", \"F\", 67, \"P\", 0], [\"Estonia\", \"F\", 16, \"C\", 0], [\"Estonia\", \"F\", 58, \"P\", 0], [\"Sweden\", \"F\", 34, \"P\", 0], [\"Sweden\", \"F\", 55, \"P\", 0], [\"Sweden\", \"F\", 44, \"P\", 0], [\"Sweden\", \"F\", 41, \"P\", 0], [\"Sweden\", \"F\", 47, \"P\", 0], [\"Estonia\", \"F\", 22, \"C\", 0], [\"Estonia\", \"F\", 18, \"P\", 0], [\"Sweden\", \"F\", 40, \"P\", 0], [\"Belarus\", \"F\", 31, \"P\", 0], [\"Estonia\", \"F\", 34, \"C\", 0], [\"Estonia\", \"F\", 67, \"P\", 0], [\"Estonia\", \"F\", 22, \"C\", 0], [\"Estonia\", \"F\", 32, \"C\", 0], [\"Sweden\", \"F\", 48, \"P\", 0], [\"Sweden\", \"F\", 31, \"P\", 0], [\"Sweden\", \"F\", 51, \"P\", 0], [\"Estonia\", \"F\", 23, \"C\", 0], [\"Estonia\", \"F\", 22, \"C\", 1], [\"Estonia\", \"F\", 23, \"C\", 1], [\"Sweden\", \"F\", 36, \"P\", 0], [\"Estonia\", \"F\", 38, \"C\", 0], [\"Estonia\", \"F\", 50, \"C\", 0], [\"Estonia\", \"F\", 38, \"C\", 0], [\"Sweden\", \"F\", 39, \"P\", 0], [\"Sweden\", \"F\", 74, \"P\", 0], [\"Sweden\", \"F\", 28, \"P\", 0], [\"Sweden\", \"F\", 58, \"P\", 0], [\"Estonia\", \"F\", 25, \"C\", 0], [\"Sweden\", \"F\", 71, \"P\", 0], [\"Sweden\", \"F\", 64, \"P\", 0], [\"Estonia\", \"F\", 18, \"P\", 0], [\"Sweden\", \"F\", 25, \"P\", 0], [\"Sweden\", \"F\", 51, \"P\", 0], [\"Sweden\", \"F\", 53, \"P\", 0], [\"Sweden\", \"F\", 51, \"P\", 0], [\"Sweden\", \"F\", 48, \"P\", 0], [\"Estonia\", \"F\", 39, \"C\", 0], [\"Sweden\", \"F\", 56, \"P\", 0], [\"Sweden\", \"F\", 57, \"P\", 0], [\"Sweden\", \"F\", 46, \"P\", 0], [\"Estonia\", \"F\", 41, \"C\", 0], [\"Sweden\", \"F\", 63, \"P\", 0], [\"Sweden\", \"F\", 59, \"P\", 0], [\"Sweden\", \"F\", 39, \"P\", 0], [\"Sweden\", \"F\", 58, \"P\", 0], [\"Estonia\", \"F\", 25, \"C\", 1], [\"Estonia\", \"F\", 42, \"P\", 0], [\"Estonia\", \"F\", 30, \"C\", 0], [\"Estonia\", \"F\", 19, \"C\", 0], [\"Sweden\", \"F\", 61, \"P\", 0], [\"Estonia\", \"F\", 33, \"C\", 0], [\"Estonia\", \"F\", 31, \"C\", 0], [\"Sweden\", \"F\", 38, \"P\", 1], [\"Sweden\", \"F\", 44, \"P\", 0], [\"Sweden\", \"F\", 37, \"P\", 0], [\"Sweden\", \"F\", 67, \"P\", 0], [\"Norway\", \"F\", 29, \"P\", 0], [\"Sweden\", \"F\", 63, \"P\", 0], [\"Sweden\", \"F\", 50, \"P\", 0], [\"Estonia\", \"F\", 55, \"P\", 0], [\"Sweden\", \"F\", 45, \"C\", 0], [\"Estonia\", \"F\", 28, \"C\", 0], [\"Russia\", \"F\", 37, \"C\", 0], [\"Estonia\", \"F\", 27, \"C\", 0], [\"Sweden\", \"F\", 33, \"C\", 0], [\"Estonia\", \"F\", 25, \"C\", 0], [\"Estonia\", \"F\", 59, \"P\", 0], [\"Estonia\", \"F\", 19, \"P\", 0], [\"Estonia\", \"F\", 42, \"C\", 0], [\"Estonia\", \"F\", 37, \"P\", 0], [\"Sweden\", \"F\", 59, \"P\", 0], [\"Estonia\", \"F\", 52, \"C\", 0], [\"Estonia\", \"F\", 46, \"C\", 0], [\"Estonia\", \"F\", 38, \"C\", 0], [\"Sweden\", \"F\", 46, \"P\", 0], [\"Estonia\", \"F\", 44, \"C\", 0], [\"Sweden\", \"F\", 50, \"P\", 0], [\"Sweden\", \"F\", 62, \"P\", 0], [\"Estonia\", \"F\", 47, \"C\", 0], [\"Estonia\", \"F\", 41, \"C\", 0], [\"Estonia\", \"F\", 19, \"C\", 0], [\"Estonia\", \"F\", 22, \"C\", 0], [\"Estonia\", \"F\", 19, \"C\", 0], [\"Sweden\", \"F\", 44, \"P\", 0], [\"Sweden\", \"F\", 63, \"P\", 0], [\"Estonia\", \"F\", 21, \"C\", 0], [\"Estonia\", \"F\", 31, \"P\", 0], [\"Sweden\", \"F\", 53, \"P\", 0], [\"Sweden\", \"F\", 63, \"P\", 0], [\"Estonia\", \"F\", 28, \"P\", 0], [\"Sweden\", \"F\", 51, \"P\", 0], [\"Estonia\", \"F\", 25, \"C\", 1], [\"Sweden\", \"F\", 49, \"P\", 0], [\"Sweden\", \"F\", 54, \"P\", 0], [\"Estonia\", \"F\", 36, \"C\", 0], [\"Estonia\", \"F\", 35, \"C\", 0], [\"Sweden\", \"F\", 36, \"P\", 0], [\"Sweden\", \"F\", 50, \"P\", 0], [\"Estonia\", \"F\", 19, \"P\", 0], [\"Estonia\", \"F\", 20, \"C\", 0], [\"Sweden\", \"F\", 53, \"P\", 0], [\"Estonia\", \"F\", 63, \"P\", 0], [\"Estonia\", \"F\", 45, \"C\", 0], [\"Estonia\", \"F\", 25, \"C\", 0], [\"Estonia\", \"F\", 25, \"C\", 1], [\"Sweden\", \"F\", 38, \"P\", 0], [\"Sweden\", \"F\", 61, \"P\", 0], [\"Estonia\", \"F\", 29, \"C\", 0], [\"Estonia\", \"F\", 51, \"P\", 0], [\"Sweden\", \"F\", 45, \"P\", 0], [\"Germany\", \"F\", 69, \"P\", 0], [\"Sweden\", \"F\", 53, \"P\", 0], [\"Estonia\", \"F\", 28, \"C\", 0], [\"Sweden\", \"F\", 50, \"P\", 0], [\"Sweden\", \"F\", 66, \"P\", 0], [\"Sweden\", \"F\", 64, \"P\", 0], [\"Sweden\", \"F\", 71, \"P\", 0], [\"Estonia\", \"F\", 45, \"C\", 1], [\"Sweden\", \"F\", 45, \"P\", 0], [\"Estonia\", \"F\", 53, \"C\", 0], [\"Sweden\", \"F\", 69, \"P\", 0], [\"Sweden\", \"F\", 64, \"P\", 0], [\"Sweden\", \"F\", 82, \"P\", 0], [\"Sweden\", \"F\", 62, \"P\", 0], [\"Sweden\", \"F\", 61, \"P\", 0], [\"Sweden\", \"F\", 64, \"P\", 0], [\"Sweden\", \"F\", 57, \"P\", 0], [\"Sweden\", \"F\", 69, \"P\", 0], [\"Sweden\", \"F\", 34, \"P\", 0], [\"Sweden\", \"F\", 65, \"P\", 0], [\"Sweden\", \"F\", 43, \"P\", 0], [\"Sweden\", \"F\", 62, \"P\", 0], [\"Sweden\", \"F\", 65, \"P\", 0], [\"Sweden\", \"F\", 23, \"P\", 0], [\"Sweden\", \"F\", 45, \"P\", 0], [\"Sweden\", \"F\", 69, \"P\", 0], [\"Sweden\", \"F\", 69, \"P\", 0], [\"Estonia\", \"F\", 35, \"C\", 0], [\"Estonia\", \"F\", 47, \"C\", 0], [\"Sweden\", \"F\", 30, \"P\", 0], [\"Estonia\", \"F\", 39, \"C\", 0], [\"Sweden\", \"F\", 74, \"P\", 0], [\"Sweden\", \"F\", 34, \"P\", 0], [\"Sweden\", \"F\", 30, \"P\", 1], [\"Sweden\", \"F\", 73, \"P\", 0], [\"Sweden\", \"F\", 64, \"P\", 0], [\"Estonia\", \"F\", 23, \"C\", 0], [\"Sweden\", \"F\", 56, \"P\", 0], [\"Sweden\", \"F\", 34, \"P\", 0], [\"Finland\", \"F\", 45, \"P\", 0], [\"Sweden\", \"F\", 67, \"P\", 0], [\"Sweden\", \"F\", 33, \"P\", 0], [\"Estonia\", \"F\", 27, \"P\", 0], [\"Estonia\", \"F\", 37, \"C\", 0], [\"Estonia\", \"F\", 34, \"P\", 0], [\"Estonia\", \"F\", 51, \"C\", 0], [\"Estonia\", \"F\", 43, \"P\", 0], [\"Estonia\", \"F\", 21, \"C\", 0], [\"Sweden\", \"F\", 67, \"P\", 0], [\"Sweden\", \"F\", 71, \"P\", 0], [\"Sweden\", \"F\", 69, \"P\", 0], [\"Estonia\", \"F\", 50, \"P\", 0], [\"Estonia\", \"F\", 49, \"C\", 0], [\"Estonia\", \"F\", 21, \"C\", 0], [\"Latvia\", \"F\", 46, \"P\", 0], [\"Sweden\", \"F\", 64, \"P\", 0], [\"Sweden\", \"F\", 64, \"P\", 0], [\"Estonia\", \"F\", 24, \"C\", 0], [\"Estonia\", \"F\", 24, \"C\", 0], [\"Sweden\", \"F\", 18, \"P\", 0], [\"Estonia\", \"F\", 23, \"C\", 0], [\"Estonia\", \"F\", 48, \"C\", 0], [\"Sweden\", \"F\", 48, \"P\", 0], [\"Sweden\", \"F\", 48, \"P\", 1], [\"Estonia\", \"F\", 67, \"P\", 0], [\"Estonia\", \"F\", 37, \"P\", 0], [\"Estonia\", \"F\", 32, \"P\", 0], [\"Sweden\", \"F\", 35, \"P\", 1], [\"Sweden\", \"F\", 50, \"P\", 0], [\"Sweden\", \"F\", 47, \"P\", 0], [\"Sweden\", \"F\", 64, \"P\", 0], [\"Sweden\", \"F\", 57, \"P\", 0], [\"Sweden\", \"F\", 51, \"P\", 0], [\"Sweden\", \"F\", 18, \"P\", 1], [\"Sweden\", \"F\", 40, \"P\", 0], [\"Sweden\", \"F\", 46, \"P\", 0], [\"Sweden\", \"F\", 51, \"P\", 0], [\"Sweden\", \"F\", 63, \"P\", 0], [\"Sweden\", \"F\", 49, \"P\", 0], [\"Sweden\", \"F\", 67, \"P\", 0], [\"Estonia\", \"F\", 0, \"P\", 0], [\"Estonia\", \"F\", 2, \"P\", 0], [\"Sweden\", \"F\", 62, \"P\", 0], [\"Sweden\", \"F\", 45, \"P\", 0], [\"Sweden\", \"F\", 45, \"P\", 0], [\"Sweden\", \"F\", 56, \"P\", 0], [\"Sweden\", \"F\", 54, \"P\", 0], [\"Sweden\", \"F\", 24, \"P\", 0], [\"Sweden\", \"F\", 51, \"P\", 0], [\"Sweden\", \"F\", 60, \"P\", 0], [\"Sweden\", \"F\", 87, \"P\", 0]], \"hovertemplate\": \"Sex=%{customdata[1]}<br>Age=%{customdata[2]}<br>Country=%{customdata[0]}<br>Category=%{customdata[3]}<br>Survived=%{customdata[4]}<extra></extra>\", \"legendgroup\": \"F\", \"marker\": {\"color\": \"#EF553B\"}, \"name\": \"F\", \"notched\": true, \"offsetgroup\": \"F\", \"showlegend\": false, \"type\": \"box\", \"x\": [22, 21, 55, 71, 18, 63, 61, 68, 36, 23, 68, 63, 28, 72, 75, 33, 41, 65, 39, 69, 65, 38, 52, 63, 43, 27, 31, 49, 68, 49, 67, 45, 31, 46, 29, 41, 26, 49, 67, 31, 53, 66, 44, 28, 36, 55, 45, 33, 41, 74, 32, 57, 39, 37, 17, 48, 30, 69, 54, 21, 27, 29, 49, 71, 49, 50, 59, 60, 56, 59, 49, 50, 65, 45, 49, 45, 37, 81, 72, 57, 51, 24, 74, 70, 72, 37, 64, 60, 14, 67, 59, 47, 46, 35, 43, 53, 69, 48, 34, 44, 72, 76, 44, 57, 26, 40, 14, 50, 59, 24, 49, 57, 68, 33, 52, 69, 45, 24, 26, 47, 70, 71, 26, 78, 80, 62, 55, 42, 48, 35, 43, 47, 18, 39, 20, 39, 33, 24, 49, 67, 65, 56, 63, 32, 65, 45, 37, 48, 69, 62, 65, 49, 16, 67, 27, 29, 68, 36, 72, 63, 72, 41, 65, 67, 82, 55, 44, 50, 57, 30, 63, 39, 21, 50, 47, 53, 41, 27, 23, 33, 62, 21, 21, 54, 30, 21, 55, 37, 64, 46, 56, 70, 18, 19, 34, 68, 30, 40, 56, 20, 20, 51, 36, 48, 44, 40, 23, 20, 35, 69, 29, 38, 20, 54, 21, 23, 36, 31, 65, 49, 67, 51, 43, 41, 42, 21, 53, 74, 17, 18, 73, 19, 24, 23, 41, 55, 49, 36, 30, 74, 34, 27, 36, 26, 29, 45, 27, 44, 47, 60, 30, 44, 52, 35, 70, 41, 49, 5, 47, 18, 43, 61, 46, 66, 51, 47, 56, 54, 48, 49, 30, 29, 59, 27, 78, 69, 57, 39, 30, 31, 55, 54, 67, 16, 58, 34, 55, 44, 41, 47, 22, 18, 40, 31, 34, 67, 22, 32, 48, 31, 51, 23, 22, 23, 36, 38, 50, 38, 39, 74, 28, 58, 25, 71, 64, 18, 25, 51, 53, 51, 48, 39, 56, 57, 46, 41, 63, 59, 39, 58, 25, 42, 30, 19, 61, 33, 31, 38, 44, 37, 67, 29, 63, 50, 55, 45, 28, 37, 27, 33, 25, 59, 19, 42, 37, 59, 52, 46, 38, 46, 44, 50, 62, 47, 41, 19, 22, 19, 44, 63, 21, 31, 53, 63, 28, 51, 25, 49, 54, 36, 35, 36, 50, 19, 20, 53, 63, 45, 25, 25, 38, 61, 29, 51, 45, 69, 53, 28, 50, 66, 64, 71, 45, 45, 53, 69, 64, 82, 62, 61, 64, 57, 69, 34, 65, 43, 62, 65, 23, 45, 69, 69, 35, 47, 30, 39, 74, 34, 30, 73, 64, 23, 56, 34, 45, 67, 33, 27, 37, 34, 51, 43, 21, 67, 71, 69, 50, 49, 21, 46, 64, 64, 24, 24, 18, 23, 48, 48, 48, 67, 37, 32, 35, 50, 47, 64, 57, 51, 18, 40, 46, 51, 63, 49, 67, 0, 2, 62, 45, 45, 56, 54, 24, 51, 60, 87], \"xaxis\": \"x2\", \"yaxis\": \"y2\"}],\n",
       "                        {\"barmode\": \"relative\", \"legend\": {\"title\": {\"text\": \"Sex\"}, \"tracegroupgap\": 0}, \"template\": {\"data\": {\"bar\": [{\"error_x\": {\"color\": \"#2a3f5f\"}, \"error_y\": {\"color\": \"#2a3f5f\"}, \"marker\": {\"line\": {\"color\": \"#E5ECF6\", \"width\": 0.5}}, \"type\": \"bar\"}], \"barpolar\": [{\"marker\": {\"line\": {\"color\": \"#E5ECF6\", \"width\": 0.5}}, \"type\": \"barpolar\"}], \"carpet\": [{\"aaxis\": {\"endlinecolor\": \"#2a3f5f\", \"gridcolor\": \"white\", \"linecolor\": \"white\", \"minorgridcolor\": \"white\", \"startlinecolor\": \"#2a3f5f\"}, \"baxis\": {\"endlinecolor\": \"#2a3f5f\", \"gridcolor\": \"white\", \"linecolor\": \"white\", \"minorgridcolor\": \"white\", \"startlinecolor\": \"#2a3f5f\"}, \"type\": \"carpet\"}], \"choropleth\": [{\"colorbar\": {\"outlinewidth\": 0, \"ticks\": \"\"}, \"type\": \"choropleth\"}], \"contour\": [{\"colorbar\": {\"outlinewidth\": 0, \"ticks\": \"\"}, \"colorscale\": [[0.0, \"#0d0887\"], [0.1111111111111111, \"#46039f\"], [0.2222222222222222, \"#7201a8\"], [0.3333333333333333, \"#9c179e\"], [0.4444444444444444, \"#bd3786\"], [0.5555555555555556, \"#d8576b\"], [0.6666666666666666, \"#ed7953\"], [0.7777777777777778, \"#fb9f3a\"], [0.8888888888888888, \"#fdca26\"], [1.0, \"#f0f921\"]], \"type\": \"contour\"}], \"contourcarpet\": [{\"colorbar\": {\"outlinewidth\": 0, \"ticks\": \"\"}, \"type\": \"contourcarpet\"}], \"heatmap\": [{\"colorbar\": {\"outlinewidth\": 0, \"ticks\": \"\"}, \"colorscale\": [[0.0, \"#0d0887\"], [0.1111111111111111, \"#46039f\"], [0.2222222222222222, \"#7201a8\"], [0.3333333333333333, \"#9c179e\"], [0.4444444444444444, \"#bd3786\"], [0.5555555555555556, \"#d8576b\"], [0.6666666666666666, \"#ed7953\"], [0.7777777777777778, \"#fb9f3a\"], [0.8888888888888888, \"#fdca26\"], [1.0, \"#f0f921\"]], \"type\": \"heatmap\"}], \"heatmapgl\": [{\"colorbar\": {\"outlinewidth\": 0, \"ticks\": \"\"}, \"colorscale\": [[0.0, \"#0d0887\"], [0.1111111111111111, \"#46039f\"], [0.2222222222222222, \"#7201a8\"], [0.3333333333333333, \"#9c179e\"], [0.4444444444444444, \"#bd3786\"], [0.5555555555555556, \"#d8576b\"], [0.6666666666666666, \"#ed7953\"], [0.7777777777777778, \"#fb9f3a\"], [0.8888888888888888, \"#fdca26\"], [1.0, \"#f0f921\"]], \"type\": \"heatmapgl\"}], \"histogram\": [{\"marker\": {\"colorbar\": {\"outlinewidth\": 0, \"ticks\": \"\"}}, \"type\": \"histogram\"}], \"histogram2d\": [{\"colorbar\": {\"outlinewidth\": 0, \"ticks\": \"\"}, \"colorscale\": [[0.0, \"#0d0887\"], [0.1111111111111111, \"#46039f\"], [0.2222222222222222, \"#7201a8\"], [0.3333333333333333, \"#9c179e\"], [0.4444444444444444, \"#bd3786\"], [0.5555555555555556, \"#d8576b\"], [0.6666666666666666, \"#ed7953\"], [0.7777777777777778, \"#fb9f3a\"], [0.8888888888888888, \"#fdca26\"], [1.0, \"#f0f921\"]], \"type\": \"histogram2d\"}], \"histogram2dcontour\": [{\"colorbar\": {\"outlinewidth\": 0, \"ticks\": \"\"}, \"colorscale\": [[0.0, \"#0d0887\"], [0.1111111111111111, \"#46039f\"], [0.2222222222222222, \"#7201a8\"], [0.3333333333333333, \"#9c179e\"], [0.4444444444444444, \"#bd3786\"], [0.5555555555555556, \"#d8576b\"], [0.6666666666666666, \"#ed7953\"], [0.7777777777777778, \"#fb9f3a\"], [0.8888888888888888, \"#fdca26\"], [1.0, \"#f0f921\"]], \"type\": \"histogram2dcontour\"}], \"mesh3d\": [{\"colorbar\": {\"outlinewidth\": 0, \"ticks\": \"\"}, \"type\": \"mesh3d\"}], \"parcoords\": [{\"line\": {\"colorbar\": {\"outlinewidth\": 0, \"ticks\": \"\"}}, \"type\": \"parcoords\"}], \"pie\": [{\"automargin\": true, \"type\": \"pie\"}], \"scatter\": [{\"marker\": {\"colorbar\": {\"outlinewidth\": 0, \"ticks\": \"\"}}, \"type\": \"scatter\"}], \"scatter3d\": [{\"line\": {\"colorbar\": {\"outlinewidth\": 0, \"ticks\": \"\"}}, \"marker\": {\"colorbar\": {\"outlinewidth\": 0, \"ticks\": \"\"}}, \"type\": \"scatter3d\"}], \"scattercarpet\": [{\"marker\": {\"colorbar\": {\"outlinewidth\": 0, \"ticks\": \"\"}}, \"type\": \"scattercarpet\"}], \"scattergeo\": [{\"marker\": {\"colorbar\": {\"outlinewidth\": 0, \"ticks\": \"\"}}, \"type\": \"scattergeo\"}], \"scattergl\": [{\"marker\": {\"colorbar\": {\"outlinewidth\": 0, \"ticks\": \"\"}}, \"type\": \"scattergl\"}], \"scattermapbox\": [{\"marker\": {\"colorbar\": {\"outlinewidth\": 0, \"ticks\": \"\"}}, \"type\": \"scattermapbox\"}], \"scatterpolar\": [{\"marker\": {\"colorbar\": {\"outlinewidth\": 0, \"ticks\": \"\"}}, \"type\": \"scatterpolar\"}], \"scatterpolargl\": [{\"marker\": {\"colorbar\": {\"outlinewidth\": 0, \"ticks\": \"\"}}, \"type\": \"scatterpolargl\"}], \"scatterternary\": [{\"marker\": {\"colorbar\": {\"outlinewidth\": 0, \"ticks\": \"\"}}, \"type\": \"scatterternary\"}], \"surface\": [{\"colorbar\": {\"outlinewidth\": 0, \"ticks\": \"\"}, \"colorscale\": [[0.0, \"#0d0887\"], [0.1111111111111111, \"#46039f\"], [0.2222222222222222, \"#7201a8\"], [0.3333333333333333, \"#9c179e\"], [0.4444444444444444, \"#bd3786\"], [0.5555555555555556, \"#d8576b\"], [0.6666666666666666, \"#ed7953\"], [0.7777777777777778, \"#fb9f3a\"], [0.8888888888888888, \"#fdca26\"], [1.0, \"#f0f921\"]], \"type\": \"surface\"}], \"table\": [{\"cells\": {\"fill\": {\"color\": \"#EBF0F8\"}, \"line\": {\"color\": \"white\"}}, \"header\": {\"fill\": {\"color\": \"#C8D4E3\"}, \"line\": {\"color\": \"white\"}}, \"type\": \"table\"}]}, \"layout\": {\"annotationdefaults\": {\"arrowcolor\": \"#2a3f5f\", \"arrowhead\": 0, \"arrowwidth\": 1}, \"coloraxis\": {\"colorbar\": {\"outlinewidth\": 0, \"ticks\": \"\"}}, \"colorscale\": {\"diverging\": [[0, \"#8e0152\"], [0.1, \"#c51b7d\"], [0.2, \"#de77ae\"], [0.3, \"#f1b6da\"], [0.4, \"#fde0ef\"], [0.5, \"#f7f7f7\"], [0.6, \"#e6f5d0\"], [0.7, \"#b8e186\"], [0.8, \"#7fbc41\"], [0.9, \"#4d9221\"], [1, \"#276419\"]], \"sequential\": [[0.0, \"#0d0887\"], [0.1111111111111111, \"#46039f\"], [0.2222222222222222, \"#7201a8\"], [0.3333333333333333, \"#9c179e\"], [0.4444444444444444, \"#bd3786\"], [0.5555555555555556, \"#d8576b\"], [0.6666666666666666, \"#ed7953\"], [0.7777777777777778, \"#fb9f3a\"], [0.8888888888888888, \"#fdca26\"], [1.0, \"#f0f921\"]], \"sequentialminus\": [[0.0, \"#0d0887\"], [0.1111111111111111, \"#46039f\"], [0.2222222222222222, \"#7201a8\"], [0.3333333333333333, \"#9c179e\"], [0.4444444444444444, \"#bd3786\"], [0.5555555555555556, \"#d8576b\"], [0.6666666666666666, \"#ed7953\"], [0.7777777777777778, \"#fb9f3a\"], [0.8888888888888888, \"#fdca26\"], [1.0, \"#f0f921\"]]}, \"colorway\": [\"#636efa\", \"#EF553B\", \"#00cc96\", \"#ab63fa\", \"#FFA15A\", \"#19d3f3\", \"#FF6692\", \"#B6E880\", \"#FF97FF\", \"#FECB52\"], \"font\": {\"color\": \"#2a3f5f\"}, \"geo\": {\"bgcolor\": \"white\", \"lakecolor\": \"white\", \"landcolor\": \"#E5ECF6\", \"showlakes\": true, \"showland\": true, \"subunitcolor\": \"white\"}, \"hoverlabel\": {\"align\": \"left\"}, \"hovermode\": \"closest\", \"mapbox\": {\"style\": \"light\"}, \"paper_bgcolor\": \"white\", \"plot_bgcolor\": \"#E5ECF6\", \"polar\": {\"angularaxis\": {\"gridcolor\": \"white\", \"linecolor\": \"white\", \"ticks\": \"\"}, \"bgcolor\": \"#E5ECF6\", \"radialaxis\": {\"gridcolor\": \"white\", \"linecolor\": \"white\", \"ticks\": \"\"}}, \"scene\": {\"xaxis\": {\"backgroundcolor\": \"#E5ECF6\", \"gridcolor\": \"white\", \"gridwidth\": 2, \"linecolor\": \"white\", \"showbackground\": true, \"ticks\": \"\", \"zerolinecolor\": \"white\"}, \"yaxis\": {\"backgroundcolor\": \"#E5ECF6\", \"gridcolor\": \"white\", \"gridwidth\": 2, \"linecolor\": \"white\", \"showbackground\": true, \"ticks\": \"\", \"zerolinecolor\": \"white\"}, \"zaxis\": {\"backgroundcolor\": \"#E5ECF6\", \"gridcolor\": \"white\", \"gridwidth\": 2, \"linecolor\": \"white\", \"showbackground\": true, \"ticks\": \"\", \"zerolinecolor\": \"white\"}}, \"shapedefaults\": {\"line\": {\"color\": \"#2a3f5f\"}}, \"ternary\": {\"aaxis\": {\"gridcolor\": \"white\", \"linecolor\": \"white\", \"ticks\": \"\"}, \"baxis\": {\"gridcolor\": \"white\", \"linecolor\": \"white\", \"ticks\": \"\"}, \"bgcolor\": \"#E5ECF6\", \"caxis\": {\"gridcolor\": \"white\", \"linecolor\": \"white\", \"ticks\": \"\"}}, \"title\": {\"x\": 0.05}, \"xaxis\": {\"automargin\": true, \"gridcolor\": \"white\", \"linecolor\": \"white\", \"ticks\": \"\", \"title\": {\"standoff\": 15}, \"zerolinecolor\": \"white\", \"zerolinewidth\": 2}, \"yaxis\": {\"automargin\": true, \"gridcolor\": \"white\", \"linecolor\": \"white\", \"ticks\": \"\", \"title\": {\"standoff\": 15}, \"zerolinecolor\": \"white\", \"zerolinewidth\": 2}}}, \"title\": {\"text\": \"Age Distribution accross gender\"}, \"xaxis\": {\"anchor\": \"y\", \"domain\": [0.0, 1.0], \"title\": {\"text\": \"Age\"}}, \"xaxis2\": {\"anchor\": \"y2\", \"domain\": [0.0, 1.0], \"matches\": \"x\", \"showgrid\": true, \"showticklabels\": false}, \"yaxis\": {\"anchor\": \"x\", \"domain\": [0.0, 0.7326], \"title\": {\"text\": \"count\"}}, \"yaxis2\": {\"anchor\": \"x2\", \"domain\": [0.7426, 1.0], \"matches\": \"y2\", \"showgrid\": false, \"showline\": false, \"showticklabels\": false, \"ticks\": \"\"}},\n",
       "                        {\"responsive\": true}\n",
       "                    ).then(function(){\n",
       "                            \n",
       "var gd = document.getElementById('0158c5b0-5dcc-4570-8bac-0cfa3ed368ae');\n",
       "var x = new MutationObserver(function (mutations, observer) {{\n",
       "        var display = window.getComputedStyle(gd).display;\n",
       "        if (!display || display === 'none') {{\n",
       "            console.log([gd, 'removed!']);\n",
       "            Plotly.purge(gd);\n",
       "            observer.disconnect();\n",
       "        }}\n",
       "}});\n",
       "\n",
       "// Listen for the removal of the full notebook cells\n",
       "var notebookContainer = gd.closest('#notebook-container');\n",
       "if (notebookContainer) {{\n",
       "    x.observe(notebookContainer, {childList: true});\n",
       "}}\n",
       "\n",
       "// Listen for the clearing of the current output cell\n",
       "var outputEl = gd.closest('.output');\n",
       "if (outputEl) {{\n",
       "    x.observe(outputEl, {childList: true});\n",
       "}}\n",
       "\n",
       "                        })\n",
       "                };\n",
       "                });\n",
       "            </script>\n",
       "        </div>"
      ]
     },
     "metadata": {},
     "output_type": "display_data"
    }
   ],
   "source": [
    "fig = px.histogram(df, x=\"Age\", color=\"Sex\", marginal=\"box\",\n",
    "                   hover_data=df.columns, title=\"Age Distribution accross gender\")\n",
    "fig.show()"
   ]
  },
  {
   "cell_type": "markdown",
   "execution_count": null,
   "metadata": {
    "papermill": {
     "duration": 0.007952,
     "end_time": "2020-08-23T10:44:55.378083",
     "exception": false,
     "start_time": "2020-08-23T10:44:55.370131",
     "status": "completed"
    },
    "tags": []
   },
   "source": [
    "We can see from above distribution plot that average age range for female is 32-59 and for male is 29-58. \n",
    "\n",
    "Let's plot the bar plots for categorical features values against their counts."
   ]
  },
  {
   "cell_type": "code",
   "execution_count": 8,
   "metadata": {
    "execution": {
     "iopub.execute_input": "2020-08-23T10:44:55.402641Z",
     "iopub.status.busy": "2020-08-23T10:44:55.401941Z",
     "iopub.status.idle": "2020-08-23T10:44:55.446264Z",
     "shell.execute_reply": "2020-08-23T10:44:55.445525Z"
    },
    "papermill": {
     "duration": 0.06039,
     "end_time": "2020-08-23T10:44:55.446402",
     "exception": false,
     "start_time": "2020-08-23T10:44:55.386012",
     "status": "completed"
    },
    "tags": []
   },
   "outputs": [
    {
     "data": {
      "text/html": [
       "<div>\n",
       "        \n",
       "        \n",
       "            <div id=\"4eaceaa6-249b-4ad3-917c-19bd4430d5b8\" class=\"plotly-graph-div\" style=\"height:525px; width:100%;\"></div>\n",
       "            <script type=\"text/javascript\">\n",
       "                require([\"plotly\"], function(Plotly) {\n",
       "                    window.PLOTLYENV=window.PLOTLYENV || {};\n",
       "                    \n",
       "                if (document.getElementById(\"4eaceaa6-249b-4ad3-917c-19bd4430d5b8\")) {\n",
       "                    Plotly.newPlot(\n",
       "                        '4eaceaa6-249b-4ad3-917c-19bd4430d5b8',\n",
       "                        [{\"name\": \"Survived\", \"type\": \"bar\", \"x\": [\"Estonia\", \"Sweden\", \"Finland\", \"Latvia\", \"Germany\", \"Norway\", \"Russia\", \"Netherlands\", \"Lithuania\", \"Denmark\", \"Great Britain\"], \"y\": [64, 49, 6, 6, 3, 3, 2, 1, 1, 1, 1]}, {\"name\": \"Not Survived\", \"type\": \"bar\", \"x\": [\"Sweden\", \"Estonia\", \"Latvia\", \"Russia\", \"Finland\", \"Norway\", \"Germany\", \"Denmark\", \"Lithuania\", \"Morocco\", \"France\", \"Great Britain\", \"Belarus\", \"Canada\", \"Netherlands\", \"Nigeria\"], \"y\": [501, 280, 22, 12, 10, 6, 5, 5, 3, 2, 1, 1, 1, 1, 1, 1]}],\n",
       "                        {\"barmode\": \"group\", \"template\": {\"data\": {\"bar\": [{\"error_x\": {\"color\": \"#2a3f5f\"}, \"error_y\": {\"color\": \"#2a3f5f\"}, \"marker\": {\"line\": {\"color\": \"#E5ECF6\", \"width\": 0.5}}, \"type\": \"bar\"}], \"barpolar\": [{\"marker\": {\"line\": {\"color\": \"#E5ECF6\", \"width\": 0.5}}, \"type\": \"barpolar\"}], \"carpet\": [{\"aaxis\": {\"endlinecolor\": \"#2a3f5f\", \"gridcolor\": \"white\", \"linecolor\": \"white\", \"minorgridcolor\": \"white\", \"startlinecolor\": \"#2a3f5f\"}, \"baxis\": {\"endlinecolor\": \"#2a3f5f\", \"gridcolor\": \"white\", \"linecolor\": \"white\", \"minorgridcolor\": \"white\", \"startlinecolor\": \"#2a3f5f\"}, \"type\": \"carpet\"}], \"choropleth\": [{\"colorbar\": {\"outlinewidth\": 0, \"ticks\": \"\"}, \"type\": \"choropleth\"}], \"contour\": [{\"colorbar\": {\"outlinewidth\": 0, \"ticks\": \"\"}, \"colorscale\": [[0.0, \"#0d0887\"], [0.1111111111111111, \"#46039f\"], [0.2222222222222222, \"#7201a8\"], [0.3333333333333333, \"#9c179e\"], [0.4444444444444444, \"#bd3786\"], [0.5555555555555556, \"#d8576b\"], [0.6666666666666666, \"#ed7953\"], [0.7777777777777778, \"#fb9f3a\"], [0.8888888888888888, \"#fdca26\"], [1.0, \"#f0f921\"]], \"type\": \"contour\"}], \"contourcarpet\": [{\"colorbar\": {\"outlinewidth\": 0, \"ticks\": \"\"}, \"type\": \"contourcarpet\"}], \"heatmap\": [{\"colorbar\": {\"outlinewidth\": 0, \"ticks\": \"\"}, \"colorscale\": [[0.0, \"#0d0887\"], [0.1111111111111111, \"#46039f\"], [0.2222222222222222, \"#7201a8\"], [0.3333333333333333, \"#9c179e\"], [0.4444444444444444, \"#bd3786\"], [0.5555555555555556, \"#d8576b\"], [0.6666666666666666, \"#ed7953\"], [0.7777777777777778, \"#fb9f3a\"], [0.8888888888888888, \"#fdca26\"], [1.0, \"#f0f921\"]], \"type\": \"heatmap\"}], \"heatmapgl\": [{\"colorbar\": {\"outlinewidth\": 0, \"ticks\": \"\"}, \"colorscale\": [[0.0, \"#0d0887\"], [0.1111111111111111, \"#46039f\"], [0.2222222222222222, \"#7201a8\"], [0.3333333333333333, \"#9c179e\"], [0.4444444444444444, \"#bd3786\"], [0.5555555555555556, \"#d8576b\"], [0.6666666666666666, \"#ed7953\"], [0.7777777777777778, \"#fb9f3a\"], [0.8888888888888888, \"#fdca26\"], [1.0, \"#f0f921\"]], \"type\": \"heatmapgl\"}], \"histogram\": [{\"marker\": {\"colorbar\": {\"outlinewidth\": 0, \"ticks\": \"\"}}, \"type\": \"histogram\"}], \"histogram2d\": [{\"colorbar\": {\"outlinewidth\": 0, \"ticks\": \"\"}, \"colorscale\": [[0.0, \"#0d0887\"], [0.1111111111111111, \"#46039f\"], [0.2222222222222222, \"#7201a8\"], [0.3333333333333333, \"#9c179e\"], [0.4444444444444444, \"#bd3786\"], [0.5555555555555556, \"#d8576b\"], [0.6666666666666666, \"#ed7953\"], [0.7777777777777778, \"#fb9f3a\"], [0.8888888888888888, \"#fdca26\"], [1.0, \"#f0f921\"]], \"type\": \"histogram2d\"}], \"histogram2dcontour\": [{\"colorbar\": {\"outlinewidth\": 0, \"ticks\": \"\"}, \"colorscale\": [[0.0, \"#0d0887\"], [0.1111111111111111, \"#46039f\"], [0.2222222222222222, \"#7201a8\"], [0.3333333333333333, \"#9c179e\"], [0.4444444444444444, \"#bd3786\"], [0.5555555555555556, \"#d8576b\"], [0.6666666666666666, \"#ed7953\"], [0.7777777777777778, \"#fb9f3a\"], [0.8888888888888888, \"#fdca26\"], [1.0, \"#f0f921\"]], \"type\": \"histogram2dcontour\"}], \"mesh3d\": [{\"colorbar\": {\"outlinewidth\": 0, \"ticks\": \"\"}, \"type\": \"mesh3d\"}], \"parcoords\": [{\"line\": {\"colorbar\": {\"outlinewidth\": 0, \"ticks\": \"\"}}, \"type\": \"parcoords\"}], \"pie\": [{\"automargin\": true, \"type\": \"pie\"}], \"scatter\": [{\"marker\": {\"colorbar\": {\"outlinewidth\": 0, \"ticks\": \"\"}}, \"type\": \"scatter\"}], \"scatter3d\": [{\"line\": {\"colorbar\": {\"outlinewidth\": 0, \"ticks\": \"\"}}, \"marker\": {\"colorbar\": {\"outlinewidth\": 0, \"ticks\": \"\"}}, \"type\": \"scatter3d\"}], \"scattercarpet\": [{\"marker\": {\"colorbar\": {\"outlinewidth\": 0, \"ticks\": \"\"}}, \"type\": \"scattercarpet\"}], \"scattergeo\": [{\"marker\": {\"colorbar\": {\"outlinewidth\": 0, \"ticks\": \"\"}}, \"type\": \"scattergeo\"}], \"scattergl\": [{\"marker\": {\"colorbar\": {\"outlinewidth\": 0, \"ticks\": \"\"}}, \"type\": \"scattergl\"}], \"scattermapbox\": [{\"marker\": {\"colorbar\": {\"outlinewidth\": 0, \"ticks\": \"\"}}, \"type\": \"scattermapbox\"}], \"scatterpolar\": [{\"marker\": {\"colorbar\": {\"outlinewidth\": 0, \"ticks\": \"\"}}, \"type\": \"scatterpolar\"}], \"scatterpolargl\": [{\"marker\": {\"colorbar\": {\"outlinewidth\": 0, \"ticks\": \"\"}}, \"type\": \"scatterpolargl\"}], \"scatterternary\": [{\"marker\": {\"colorbar\": {\"outlinewidth\": 0, \"ticks\": \"\"}}, \"type\": \"scatterternary\"}], \"surface\": [{\"colorbar\": {\"outlinewidth\": 0, \"ticks\": \"\"}, \"colorscale\": [[0.0, \"#0d0887\"], [0.1111111111111111, \"#46039f\"], [0.2222222222222222, \"#7201a8\"], [0.3333333333333333, \"#9c179e\"], [0.4444444444444444, \"#bd3786\"], [0.5555555555555556, \"#d8576b\"], [0.6666666666666666, \"#ed7953\"], [0.7777777777777778, \"#fb9f3a\"], [0.8888888888888888, \"#fdca26\"], [1.0, \"#f0f921\"]], \"type\": \"surface\"}], \"table\": [{\"cells\": {\"fill\": {\"color\": \"#EBF0F8\"}, \"line\": {\"color\": \"white\"}}, \"header\": {\"fill\": {\"color\": \"#C8D4E3\"}, \"line\": {\"color\": \"white\"}}, \"type\": \"table\"}]}, \"layout\": {\"annotationdefaults\": {\"arrowcolor\": \"#2a3f5f\", \"arrowhead\": 0, \"arrowwidth\": 1}, \"coloraxis\": {\"colorbar\": {\"outlinewidth\": 0, \"ticks\": \"\"}}, \"colorscale\": {\"diverging\": [[0, \"#8e0152\"], [0.1, \"#c51b7d\"], [0.2, \"#de77ae\"], [0.3, \"#f1b6da\"], [0.4, \"#fde0ef\"], [0.5, \"#f7f7f7\"], [0.6, \"#e6f5d0\"], [0.7, \"#b8e186\"], [0.8, \"#7fbc41\"], [0.9, \"#4d9221\"], [1, \"#276419\"]], \"sequential\": [[0.0, \"#0d0887\"], [0.1111111111111111, \"#46039f\"], [0.2222222222222222, \"#7201a8\"], [0.3333333333333333, \"#9c179e\"], [0.4444444444444444, \"#bd3786\"], [0.5555555555555556, \"#d8576b\"], [0.6666666666666666, \"#ed7953\"], [0.7777777777777778, \"#fb9f3a\"], [0.8888888888888888, \"#fdca26\"], [1.0, \"#f0f921\"]], \"sequentialminus\": [[0.0, \"#0d0887\"], [0.1111111111111111, \"#46039f\"], [0.2222222222222222, \"#7201a8\"], [0.3333333333333333, \"#9c179e\"], [0.4444444444444444, \"#bd3786\"], [0.5555555555555556, \"#d8576b\"], [0.6666666666666666, \"#ed7953\"], [0.7777777777777778, \"#fb9f3a\"], [0.8888888888888888, \"#fdca26\"], [1.0, \"#f0f921\"]]}, \"colorway\": [\"#636efa\", \"#EF553B\", \"#00cc96\", \"#ab63fa\", \"#FFA15A\", \"#19d3f3\", \"#FF6692\", \"#B6E880\", \"#FF97FF\", \"#FECB52\"], \"font\": {\"color\": \"#2a3f5f\"}, \"geo\": {\"bgcolor\": \"white\", \"lakecolor\": \"white\", \"landcolor\": \"#E5ECF6\", \"showlakes\": true, \"showland\": true, \"subunitcolor\": \"white\"}, \"hoverlabel\": {\"align\": \"left\"}, \"hovermode\": \"closest\", \"mapbox\": {\"style\": \"light\"}, \"paper_bgcolor\": \"white\", \"plot_bgcolor\": \"#E5ECF6\", \"polar\": {\"angularaxis\": {\"gridcolor\": \"white\", \"linecolor\": \"white\", \"ticks\": \"\"}, \"bgcolor\": \"#E5ECF6\", \"radialaxis\": {\"gridcolor\": \"white\", \"linecolor\": \"white\", \"ticks\": \"\"}}, \"scene\": {\"xaxis\": {\"backgroundcolor\": \"#E5ECF6\", \"gridcolor\": \"white\", \"gridwidth\": 2, \"linecolor\": \"white\", \"showbackground\": true, \"ticks\": \"\", \"zerolinecolor\": \"white\"}, \"yaxis\": {\"backgroundcolor\": \"#E5ECF6\", \"gridcolor\": \"white\", \"gridwidth\": 2, \"linecolor\": \"white\", \"showbackground\": true, \"ticks\": \"\", \"zerolinecolor\": \"white\"}, \"zaxis\": {\"backgroundcolor\": \"#E5ECF6\", \"gridcolor\": \"white\", \"gridwidth\": 2, \"linecolor\": \"white\", \"showbackground\": true, \"ticks\": \"\", \"zerolinecolor\": \"white\"}}, \"shapedefaults\": {\"line\": {\"color\": \"#2a3f5f\"}}, \"ternary\": {\"aaxis\": {\"gridcolor\": \"white\", \"linecolor\": \"white\", \"ticks\": \"\"}, \"baxis\": {\"gridcolor\": \"white\", \"linecolor\": \"white\", \"ticks\": \"\"}, \"bgcolor\": \"#E5ECF6\", \"caxis\": {\"gridcolor\": \"white\", \"linecolor\": \"white\", \"ticks\": \"\"}}, \"title\": {\"x\": 0.05}, \"xaxis\": {\"automargin\": true, \"gridcolor\": \"white\", \"linecolor\": \"white\", \"ticks\": \"\", \"title\": {\"standoff\": 15}, \"zerolinecolor\": \"white\", \"zerolinewidth\": 2}, \"yaxis\": {\"automargin\": true, \"gridcolor\": \"white\", \"linecolor\": \"white\", \"ticks\": \"\", \"title\": {\"standoff\": 15}, \"zerolinecolor\": \"white\", \"zerolinewidth\": 2}}}, \"title\": {\"text\": \"Survival count accross countries\"}},\n",
       "                        {\"responsive\": true}\n",
       "                    ).then(function(){\n",
       "                            \n",
       "var gd = document.getElementById('4eaceaa6-249b-4ad3-917c-19bd4430d5b8');\n",
       "var x = new MutationObserver(function (mutations, observer) {{\n",
       "        var display = window.getComputedStyle(gd).display;\n",
       "        if (!display || display === 'none') {{\n",
       "            console.log([gd, 'removed!']);\n",
       "            Plotly.purge(gd);\n",
       "            observer.disconnect();\n",
       "        }}\n",
       "}});\n",
       "\n",
       "// Listen for the removal of the full notebook cells\n",
       "var notebookContainer = gd.closest('#notebook-container');\n",
       "if (notebookContainer) {{\n",
       "    x.observe(notebookContainer, {childList: true});\n",
       "}}\n",
       "\n",
       "// Listen for the clearing of the current output cell\n",
       "var outputEl = gd.closest('.output');\n",
       "if (outputEl) {{\n",
       "    x.observe(outputEl, {childList: true});\n",
       "}}\n",
       "\n",
       "                        })\n",
       "                };\n",
       "                });\n",
       "            </script>\n",
       "        </div>"
      ]
     },
     "metadata": {},
     "output_type": "display_data"
    }
   ],
   "source": [
    "fig = go.Figure(data=[\n",
    "    go.Bar(name='Survived', y=df[df['Survived']==1]['Country'].value_counts().values, x=df[df['Survived']==1]['Country'].value_counts().index),\n",
    "    go.Bar(name='Not Survived', y=df[df['Survived']==0]['Country'].value_counts().values, x=df[df['Survived']==0]['Country'].value_counts().index)\n",
    "])\n",
    "# Change the bar mode\n",
    "fig.update_layout(barmode='group', title_text = 'Survival count accross countries')\n",
    "fig.show()"
   ]
  },
  {
   "cell_type": "markdown",
   "execution_count": null,
   "metadata": {
    "papermill": {
     "duration": 0.01245,
     "end_time": "2020-08-23T10:44:55.472619",
     "exception": false,
     "start_time": "2020-08-23T10:44:55.460169",
     "status": "completed"
    },
    "tags": []
   },
   "source": [
    "We can see that passengers from country Estonia have high survival count."
   ]
  },
  {
   "cell_type": "code",
   "execution_count": 9,
   "metadata": {
    "execution": {
     "iopub.execute_input": "2020-08-23T10:44:55.509164Z",
     "iopub.status.busy": "2020-08-23T10:44:55.508537Z",
     "iopub.status.idle": "2020-08-23T10:44:55.715055Z",
     "shell.execute_reply": "2020-08-23T10:44:55.714319Z"
    },
    "papermill": {
     "duration": 0.229947,
     "end_time": "2020-08-23T10:44:55.715211",
     "exception": false,
     "start_time": "2020-08-23T10:44:55.485264",
     "status": "completed"
    },
    "tags": []
   },
   "outputs": [
    {
     "data": {
      "text/html": [
       "<div>\n",
       "        \n",
       "        \n",
       "            <div id=\"4c654005-d222-4db4-ae7c-12c7bbd7faa6\" class=\"plotly-graph-div\" style=\"height:525px; width:100%;\"></div>\n",
       "            <script type=\"text/javascript\">\n",
       "                require([\"plotly\"], function(Plotly) {\n",
       "                    window.PLOTLYENV=window.PLOTLYENV || {};\n",
       "                    \n",
       "                if (document.getElementById(\"4c654005-d222-4db4-ae7c-12c7bbd7faa6\")) {\n",
       "                    Plotly.newPlot(\n",
       "                        '4c654005-d222-4db4-ae7c-12c7bbd7faa6',\n",
       "                        [{\"branchvalues\": \"total\", \"domain\": {\"x\": [0.0, 1.0], \"y\": [0.0, 1.0]}, \"hovertemplate\": \"labels=%{label}<br>count=%{value}<br>parent=%{parent}<br>id=%{id}<extra></extra>\", \"ids\": [\"C/0\", \"P/0\", \"C/1\", \"P/1\", \"C\", \"P\"], \"labels\": [\"0\", \"0\", \"1\", \"1\", \"C\", \"P\"], \"name\": \"\", \"parents\": [\"C\", \"P\", \"C\", \"P\", \"\", \"\"], \"type\": \"sunburst\", \"values\": [154, 698, 39, 98, 193, 796]}],\n",
       "                        {\"legend\": {\"tracegroupgap\": 0}, \"template\": {\"data\": {\"bar\": [{\"error_x\": {\"color\": \"#2a3f5f\"}, \"error_y\": {\"color\": \"#2a3f5f\"}, \"marker\": {\"line\": {\"color\": \"#E5ECF6\", \"width\": 0.5}}, \"type\": \"bar\"}], \"barpolar\": [{\"marker\": {\"line\": {\"color\": \"#E5ECF6\", \"width\": 0.5}}, \"type\": \"barpolar\"}], \"carpet\": [{\"aaxis\": {\"endlinecolor\": \"#2a3f5f\", \"gridcolor\": \"white\", \"linecolor\": \"white\", \"minorgridcolor\": \"white\", \"startlinecolor\": \"#2a3f5f\"}, \"baxis\": {\"endlinecolor\": \"#2a3f5f\", \"gridcolor\": \"white\", \"linecolor\": \"white\", \"minorgridcolor\": \"white\", \"startlinecolor\": \"#2a3f5f\"}, \"type\": \"carpet\"}], \"choropleth\": [{\"colorbar\": {\"outlinewidth\": 0, \"ticks\": \"\"}, \"type\": \"choropleth\"}], \"contour\": [{\"colorbar\": {\"outlinewidth\": 0, \"ticks\": \"\"}, \"colorscale\": [[0.0, \"#0d0887\"], [0.1111111111111111, \"#46039f\"], [0.2222222222222222, \"#7201a8\"], [0.3333333333333333, \"#9c179e\"], [0.4444444444444444, \"#bd3786\"], [0.5555555555555556, \"#d8576b\"], [0.6666666666666666, \"#ed7953\"], [0.7777777777777778, \"#fb9f3a\"], [0.8888888888888888, \"#fdca26\"], [1.0, \"#f0f921\"]], \"type\": \"contour\"}], \"contourcarpet\": [{\"colorbar\": {\"outlinewidth\": 0, \"ticks\": \"\"}, \"type\": \"contourcarpet\"}], \"heatmap\": [{\"colorbar\": {\"outlinewidth\": 0, \"ticks\": \"\"}, \"colorscale\": [[0.0, \"#0d0887\"], [0.1111111111111111, \"#46039f\"], [0.2222222222222222, \"#7201a8\"], [0.3333333333333333, \"#9c179e\"], [0.4444444444444444, \"#bd3786\"], [0.5555555555555556, \"#d8576b\"], [0.6666666666666666, \"#ed7953\"], [0.7777777777777778, \"#fb9f3a\"], [0.8888888888888888, \"#fdca26\"], [1.0, \"#f0f921\"]], \"type\": \"heatmap\"}], \"heatmapgl\": [{\"colorbar\": {\"outlinewidth\": 0, \"ticks\": \"\"}, \"colorscale\": [[0.0, \"#0d0887\"], [0.1111111111111111, \"#46039f\"], [0.2222222222222222, \"#7201a8\"], [0.3333333333333333, \"#9c179e\"], [0.4444444444444444, \"#bd3786\"], [0.5555555555555556, \"#d8576b\"], [0.6666666666666666, \"#ed7953\"], [0.7777777777777778, \"#fb9f3a\"], [0.8888888888888888, \"#fdca26\"], [1.0, \"#f0f921\"]], \"type\": \"heatmapgl\"}], \"histogram\": [{\"marker\": {\"colorbar\": {\"outlinewidth\": 0, \"ticks\": \"\"}}, \"type\": \"histogram\"}], \"histogram2d\": [{\"colorbar\": {\"outlinewidth\": 0, \"ticks\": \"\"}, \"colorscale\": [[0.0, \"#0d0887\"], [0.1111111111111111, \"#46039f\"], [0.2222222222222222, \"#7201a8\"], [0.3333333333333333, \"#9c179e\"], [0.4444444444444444, \"#bd3786\"], [0.5555555555555556, \"#d8576b\"], [0.6666666666666666, \"#ed7953\"], [0.7777777777777778, \"#fb9f3a\"], [0.8888888888888888, \"#fdca26\"], [1.0, \"#f0f921\"]], \"type\": \"histogram2d\"}], \"histogram2dcontour\": [{\"colorbar\": {\"outlinewidth\": 0, \"ticks\": \"\"}, \"colorscale\": [[0.0, \"#0d0887\"], [0.1111111111111111, \"#46039f\"], [0.2222222222222222, \"#7201a8\"], [0.3333333333333333, \"#9c179e\"], [0.4444444444444444, \"#bd3786\"], [0.5555555555555556, \"#d8576b\"], [0.6666666666666666, \"#ed7953\"], [0.7777777777777778, \"#fb9f3a\"], [0.8888888888888888, \"#fdca26\"], [1.0, \"#f0f921\"]], \"type\": \"histogram2dcontour\"}], \"mesh3d\": [{\"colorbar\": {\"outlinewidth\": 0, \"ticks\": \"\"}, \"type\": \"mesh3d\"}], \"parcoords\": [{\"line\": {\"colorbar\": {\"outlinewidth\": 0, \"ticks\": \"\"}}, \"type\": \"parcoords\"}], \"pie\": [{\"automargin\": true, \"type\": \"pie\"}], \"scatter\": [{\"marker\": {\"colorbar\": {\"outlinewidth\": 0, \"ticks\": \"\"}}, \"type\": \"scatter\"}], \"scatter3d\": [{\"line\": {\"colorbar\": {\"outlinewidth\": 0, \"ticks\": \"\"}}, \"marker\": {\"colorbar\": {\"outlinewidth\": 0, \"ticks\": \"\"}}, \"type\": \"scatter3d\"}], \"scattercarpet\": [{\"marker\": {\"colorbar\": {\"outlinewidth\": 0, \"ticks\": \"\"}}, \"type\": \"scattercarpet\"}], \"scattergeo\": [{\"marker\": {\"colorbar\": {\"outlinewidth\": 0, \"ticks\": \"\"}}, \"type\": \"scattergeo\"}], \"scattergl\": [{\"marker\": {\"colorbar\": {\"outlinewidth\": 0, \"ticks\": \"\"}}, \"type\": \"scattergl\"}], \"scattermapbox\": [{\"marker\": {\"colorbar\": {\"outlinewidth\": 0, \"ticks\": \"\"}}, \"type\": \"scattermapbox\"}], \"scatterpolar\": [{\"marker\": {\"colorbar\": {\"outlinewidth\": 0, \"ticks\": \"\"}}, \"type\": \"scatterpolar\"}], \"scatterpolargl\": [{\"marker\": {\"colorbar\": {\"outlinewidth\": 0, \"ticks\": \"\"}}, \"type\": \"scatterpolargl\"}], \"scatterternary\": [{\"marker\": {\"colorbar\": {\"outlinewidth\": 0, \"ticks\": \"\"}}, \"type\": \"scatterternary\"}], \"surface\": [{\"colorbar\": {\"outlinewidth\": 0, \"ticks\": \"\"}, \"colorscale\": [[0.0, \"#0d0887\"], [0.1111111111111111, \"#46039f\"], [0.2222222222222222, \"#7201a8\"], [0.3333333333333333, \"#9c179e\"], [0.4444444444444444, \"#bd3786\"], [0.5555555555555556, \"#d8576b\"], [0.6666666666666666, \"#ed7953\"], [0.7777777777777778, \"#fb9f3a\"], [0.8888888888888888, \"#fdca26\"], [1.0, \"#f0f921\"]], \"type\": \"surface\"}], \"table\": [{\"cells\": {\"fill\": {\"color\": \"#EBF0F8\"}, \"line\": {\"color\": \"white\"}}, \"header\": {\"fill\": {\"color\": \"#C8D4E3\"}, \"line\": {\"color\": \"white\"}}, \"type\": \"table\"}]}, \"layout\": {\"annotationdefaults\": {\"arrowcolor\": \"#2a3f5f\", \"arrowhead\": 0, \"arrowwidth\": 1}, \"coloraxis\": {\"colorbar\": {\"outlinewidth\": 0, \"ticks\": \"\"}}, \"colorscale\": {\"diverging\": [[0, \"#8e0152\"], [0.1, \"#c51b7d\"], [0.2, \"#de77ae\"], [0.3, \"#f1b6da\"], [0.4, \"#fde0ef\"], [0.5, \"#f7f7f7\"], [0.6, \"#e6f5d0\"], [0.7, \"#b8e186\"], [0.8, \"#7fbc41\"], [0.9, \"#4d9221\"], [1, \"#276419\"]], \"sequential\": [[0.0, \"#0d0887\"], [0.1111111111111111, \"#46039f\"], [0.2222222222222222, \"#7201a8\"], [0.3333333333333333, \"#9c179e\"], [0.4444444444444444, \"#bd3786\"], [0.5555555555555556, \"#d8576b\"], [0.6666666666666666, \"#ed7953\"], [0.7777777777777778, \"#fb9f3a\"], [0.8888888888888888, \"#fdca26\"], [1.0, \"#f0f921\"]], \"sequentialminus\": [[0.0, \"#0d0887\"], [0.1111111111111111, \"#46039f\"], [0.2222222222222222, \"#7201a8\"], [0.3333333333333333, \"#9c179e\"], [0.4444444444444444, \"#bd3786\"], [0.5555555555555556, \"#d8576b\"], [0.6666666666666666, \"#ed7953\"], [0.7777777777777778, \"#fb9f3a\"], [0.8888888888888888, \"#fdca26\"], [1.0, \"#f0f921\"]]}, \"colorway\": [\"#636efa\", \"#EF553B\", \"#00cc96\", \"#ab63fa\", \"#FFA15A\", \"#19d3f3\", \"#FF6692\", \"#B6E880\", \"#FF97FF\", \"#FECB52\"], \"font\": {\"color\": \"#2a3f5f\"}, \"geo\": {\"bgcolor\": \"white\", \"lakecolor\": \"white\", \"landcolor\": \"#E5ECF6\", \"showlakes\": true, \"showland\": true, \"subunitcolor\": \"white\"}, \"hoverlabel\": {\"align\": \"left\"}, \"hovermode\": \"closest\", \"mapbox\": {\"style\": \"light\"}, \"paper_bgcolor\": \"white\", \"plot_bgcolor\": \"#E5ECF6\", \"polar\": {\"angularaxis\": {\"gridcolor\": \"white\", \"linecolor\": \"white\", \"ticks\": \"\"}, \"bgcolor\": \"#E5ECF6\", \"radialaxis\": {\"gridcolor\": \"white\", \"linecolor\": \"white\", \"ticks\": \"\"}}, \"scene\": {\"xaxis\": {\"backgroundcolor\": \"#E5ECF6\", \"gridcolor\": \"white\", \"gridwidth\": 2, \"linecolor\": \"white\", \"showbackground\": true, \"ticks\": \"\", \"zerolinecolor\": \"white\"}, \"yaxis\": {\"backgroundcolor\": \"#E5ECF6\", \"gridcolor\": \"white\", \"gridwidth\": 2, \"linecolor\": \"white\", \"showbackground\": true, \"ticks\": \"\", \"zerolinecolor\": \"white\"}, \"zaxis\": {\"backgroundcolor\": \"#E5ECF6\", \"gridcolor\": \"white\", \"gridwidth\": 2, \"linecolor\": \"white\", \"showbackground\": true, \"ticks\": \"\", \"zerolinecolor\": \"white\"}}, \"shapedefaults\": {\"line\": {\"color\": \"#2a3f5f\"}}, \"ternary\": {\"aaxis\": {\"gridcolor\": \"white\", \"linecolor\": \"white\", \"ticks\": \"\"}, \"baxis\": {\"gridcolor\": \"white\", \"linecolor\": \"white\", \"ticks\": \"\"}, \"bgcolor\": \"#E5ECF6\", \"caxis\": {\"gridcolor\": \"white\", \"linecolor\": \"white\", \"ticks\": \"\"}}, \"title\": {\"x\": 0.05}, \"xaxis\": {\"automargin\": true, \"gridcolor\": \"white\", \"linecolor\": \"white\", \"ticks\": \"\", \"title\": {\"standoff\": 15}, \"zerolinecolor\": \"white\", \"zerolinewidth\": 2}, \"yaxis\": {\"automargin\": true, \"gridcolor\": \"white\", \"linecolor\": \"white\", \"ticks\": \"\", \"title\": {\"standoff\": 15}, \"zerolinecolor\": \"white\", \"zerolinewidth\": 2}}}, \"title\": {\"text\": \"Survival count accross category\"}},\n",
       "                        {\"responsive\": true}\n",
       "                    ).then(function(){\n",
       "                            \n",
       "var gd = document.getElementById('4c654005-d222-4db4-ae7c-12c7bbd7faa6');\n",
       "var x = new MutationObserver(function (mutations, observer) {{\n",
       "        var display = window.getComputedStyle(gd).display;\n",
       "        if (!display || display === 'none') {{\n",
       "            console.log([gd, 'removed!']);\n",
       "            Plotly.purge(gd);\n",
       "            observer.disconnect();\n",
       "        }}\n",
       "}});\n",
       "\n",
       "// Listen for the removal of the full notebook cells\n",
       "var notebookContainer = gd.closest('#notebook-container');\n",
       "if (notebookContainer) {{\n",
       "    x.observe(notebookContainer, {childList: true});\n",
       "}}\n",
       "\n",
       "// Listen for the clearing of the current output cell\n",
       "var outputEl = gd.closest('.output');\n",
       "if (outputEl) {{\n",
       "    x.observe(outputEl, {childList: true});\n",
       "}}\n",
       "\n",
       "                        })\n",
       "                };\n",
       "                });\n",
       "            </script>\n",
       "        </div>"
      ]
     },
     "metadata": {},
     "output_type": "display_data"
    }
   ],
   "source": [
    "fig = px.sunburst(df, path=['Category', 'Survived'], title='Survival count accross category')\n",
    "fig.show()"
   ]
  },
  {
   "cell_type": "markdown",
   "execution_count": null,
   "metadata": {
    "papermill": {
     "duration": 0.012515,
     "end_time": "2020-08-23T10:44:55.741580",
     "exception": false,
     "start_time": "2020-08-23T10:44:55.729065",
     "status": "completed"
    },
    "tags": []
   },
   "source": [
    "Looks like Crew members have high survival_count/total value than Passengers."
   ]
  },
  {
   "cell_type": "code",
   "execution_count": 10,
   "metadata": {
    "execution": {
     "iopub.execute_input": "2020-08-23T10:44:55.789622Z",
     "iopub.status.busy": "2020-08-23T10:44:55.780003Z",
     "iopub.status.idle": "2020-08-23T10:44:55.797787Z",
     "shell.execute_reply": "2020-08-23T10:44:55.797096Z"
    },
    "papermill": {
     "duration": 0.04357,
     "end_time": "2020-08-23T10:44:55.797905",
     "exception": false,
     "start_time": "2020-08-23T10:44:55.754335",
     "status": "completed"
    },
    "tags": []
   },
   "outputs": [
    {
     "data": {
      "text/html": [
       "<div>\n",
       "        \n",
       "        \n",
       "            <div id=\"3598753a-da7f-4b47-a90a-f5ce590d6a93\" class=\"plotly-graph-div\" style=\"height:525px; width:100%;\"></div>\n",
       "            <script type=\"text/javascript\">\n",
       "                require([\"plotly\"], function(Plotly) {\n",
       "                    window.PLOTLYENV=window.PLOTLYENV || {};\n",
       "                    \n",
       "                if (document.getElementById(\"3598753a-da7f-4b47-a90a-f5ce590d6a93\")) {\n",
       "                    Plotly.newPlot(\n",
       "                        '3598753a-da7f-4b47-a90a-f5ce590d6a93',\n",
       "                        [{\"name\": \"Survived\", \"type\": \"bar\", \"x\": [\"M\", \"F\"], \"y\": [110, 27]}, {\"name\": \"Not Survived\", \"type\": \"bar\", \"x\": [\"F\", \"M\"], \"y\": [459, 393]}],\n",
       "                        {\"barmode\": \"group\", \"template\": {\"data\": {\"bar\": [{\"error_x\": {\"color\": \"#2a3f5f\"}, \"error_y\": {\"color\": \"#2a3f5f\"}, \"marker\": {\"line\": {\"color\": \"#E5ECF6\", \"width\": 0.5}}, \"type\": \"bar\"}], \"barpolar\": [{\"marker\": {\"line\": {\"color\": \"#E5ECF6\", \"width\": 0.5}}, \"type\": \"barpolar\"}], \"carpet\": [{\"aaxis\": {\"endlinecolor\": \"#2a3f5f\", \"gridcolor\": \"white\", \"linecolor\": \"white\", \"minorgridcolor\": \"white\", \"startlinecolor\": \"#2a3f5f\"}, \"baxis\": {\"endlinecolor\": \"#2a3f5f\", \"gridcolor\": \"white\", \"linecolor\": \"white\", \"minorgridcolor\": \"white\", \"startlinecolor\": \"#2a3f5f\"}, \"type\": \"carpet\"}], \"choropleth\": [{\"colorbar\": {\"outlinewidth\": 0, \"ticks\": \"\"}, \"type\": \"choropleth\"}], \"contour\": [{\"colorbar\": {\"outlinewidth\": 0, \"ticks\": \"\"}, \"colorscale\": [[0.0, \"#0d0887\"], [0.1111111111111111, \"#46039f\"], [0.2222222222222222, \"#7201a8\"], [0.3333333333333333, \"#9c179e\"], [0.4444444444444444, \"#bd3786\"], [0.5555555555555556, \"#d8576b\"], [0.6666666666666666, \"#ed7953\"], [0.7777777777777778, \"#fb9f3a\"], [0.8888888888888888, \"#fdca26\"], [1.0, \"#f0f921\"]], \"type\": \"contour\"}], \"contourcarpet\": [{\"colorbar\": {\"outlinewidth\": 0, \"ticks\": \"\"}, \"type\": \"contourcarpet\"}], \"heatmap\": [{\"colorbar\": {\"outlinewidth\": 0, \"ticks\": \"\"}, \"colorscale\": [[0.0, \"#0d0887\"], [0.1111111111111111, \"#46039f\"], [0.2222222222222222, \"#7201a8\"], [0.3333333333333333, \"#9c179e\"], [0.4444444444444444, \"#bd3786\"], [0.5555555555555556, \"#d8576b\"], [0.6666666666666666, \"#ed7953\"], [0.7777777777777778, \"#fb9f3a\"], [0.8888888888888888, \"#fdca26\"], [1.0, \"#f0f921\"]], \"type\": \"heatmap\"}], \"heatmapgl\": [{\"colorbar\": {\"outlinewidth\": 0, \"ticks\": \"\"}, \"colorscale\": [[0.0, \"#0d0887\"], [0.1111111111111111, \"#46039f\"], [0.2222222222222222, \"#7201a8\"], [0.3333333333333333, \"#9c179e\"], [0.4444444444444444, \"#bd3786\"], [0.5555555555555556, \"#d8576b\"], [0.6666666666666666, \"#ed7953\"], [0.7777777777777778, \"#fb9f3a\"], [0.8888888888888888, \"#fdca26\"], [1.0, \"#f0f921\"]], \"type\": \"heatmapgl\"}], \"histogram\": [{\"marker\": {\"colorbar\": {\"outlinewidth\": 0, \"ticks\": \"\"}}, \"type\": \"histogram\"}], \"histogram2d\": [{\"colorbar\": {\"outlinewidth\": 0, \"ticks\": \"\"}, \"colorscale\": [[0.0, \"#0d0887\"], [0.1111111111111111, \"#46039f\"], [0.2222222222222222, \"#7201a8\"], [0.3333333333333333, \"#9c179e\"], [0.4444444444444444, \"#bd3786\"], [0.5555555555555556, \"#d8576b\"], [0.6666666666666666, \"#ed7953\"], [0.7777777777777778, \"#fb9f3a\"], [0.8888888888888888, \"#fdca26\"], [1.0, \"#f0f921\"]], \"type\": \"histogram2d\"}], \"histogram2dcontour\": [{\"colorbar\": {\"outlinewidth\": 0, \"ticks\": \"\"}, \"colorscale\": [[0.0, \"#0d0887\"], [0.1111111111111111, \"#46039f\"], [0.2222222222222222, \"#7201a8\"], [0.3333333333333333, \"#9c179e\"], [0.4444444444444444, \"#bd3786\"], [0.5555555555555556, \"#d8576b\"], [0.6666666666666666, \"#ed7953\"], [0.7777777777777778, \"#fb9f3a\"], [0.8888888888888888, \"#fdca26\"], [1.0, \"#f0f921\"]], \"type\": \"histogram2dcontour\"}], \"mesh3d\": [{\"colorbar\": {\"outlinewidth\": 0, \"ticks\": \"\"}, \"type\": \"mesh3d\"}], \"parcoords\": [{\"line\": {\"colorbar\": {\"outlinewidth\": 0, \"ticks\": \"\"}}, \"type\": \"parcoords\"}], \"pie\": [{\"automargin\": true, \"type\": \"pie\"}], \"scatter\": [{\"marker\": {\"colorbar\": {\"outlinewidth\": 0, \"ticks\": \"\"}}, \"type\": \"scatter\"}], \"scatter3d\": [{\"line\": {\"colorbar\": {\"outlinewidth\": 0, \"ticks\": \"\"}}, \"marker\": {\"colorbar\": {\"outlinewidth\": 0, \"ticks\": \"\"}}, \"type\": \"scatter3d\"}], \"scattercarpet\": [{\"marker\": {\"colorbar\": {\"outlinewidth\": 0, \"ticks\": \"\"}}, \"type\": \"scattercarpet\"}], \"scattergeo\": [{\"marker\": {\"colorbar\": {\"outlinewidth\": 0, \"ticks\": \"\"}}, \"type\": \"scattergeo\"}], \"scattergl\": [{\"marker\": {\"colorbar\": {\"outlinewidth\": 0, \"ticks\": \"\"}}, \"type\": \"scattergl\"}], \"scattermapbox\": [{\"marker\": {\"colorbar\": {\"outlinewidth\": 0, \"ticks\": \"\"}}, \"type\": \"scattermapbox\"}], \"scatterpolar\": [{\"marker\": {\"colorbar\": {\"outlinewidth\": 0, \"ticks\": \"\"}}, \"type\": \"scatterpolar\"}], \"scatterpolargl\": [{\"marker\": {\"colorbar\": {\"outlinewidth\": 0, \"ticks\": \"\"}}, \"type\": \"scatterpolargl\"}], \"scatterternary\": [{\"marker\": {\"colorbar\": {\"outlinewidth\": 0, \"ticks\": \"\"}}, \"type\": \"scatterternary\"}], \"surface\": [{\"colorbar\": {\"outlinewidth\": 0, \"ticks\": \"\"}, \"colorscale\": [[0.0, \"#0d0887\"], [0.1111111111111111, \"#46039f\"], [0.2222222222222222, \"#7201a8\"], [0.3333333333333333, \"#9c179e\"], [0.4444444444444444, \"#bd3786\"], [0.5555555555555556, \"#d8576b\"], [0.6666666666666666, \"#ed7953\"], [0.7777777777777778, \"#fb9f3a\"], [0.8888888888888888, \"#fdca26\"], [1.0, \"#f0f921\"]], \"type\": \"surface\"}], \"table\": [{\"cells\": {\"fill\": {\"color\": \"#EBF0F8\"}, \"line\": {\"color\": \"white\"}}, \"header\": {\"fill\": {\"color\": \"#C8D4E3\"}, \"line\": {\"color\": \"white\"}}, \"type\": \"table\"}]}, \"layout\": {\"annotationdefaults\": {\"arrowcolor\": \"#2a3f5f\", \"arrowhead\": 0, \"arrowwidth\": 1}, \"coloraxis\": {\"colorbar\": {\"outlinewidth\": 0, \"ticks\": \"\"}}, \"colorscale\": {\"diverging\": [[0, \"#8e0152\"], [0.1, \"#c51b7d\"], [0.2, \"#de77ae\"], [0.3, \"#f1b6da\"], [0.4, \"#fde0ef\"], [0.5, \"#f7f7f7\"], [0.6, \"#e6f5d0\"], [0.7, \"#b8e186\"], [0.8, \"#7fbc41\"], [0.9, \"#4d9221\"], [1, \"#276419\"]], \"sequential\": [[0.0, \"#0d0887\"], [0.1111111111111111, \"#46039f\"], [0.2222222222222222, \"#7201a8\"], [0.3333333333333333, \"#9c179e\"], [0.4444444444444444, \"#bd3786\"], [0.5555555555555556, \"#d8576b\"], [0.6666666666666666, \"#ed7953\"], [0.7777777777777778, \"#fb9f3a\"], [0.8888888888888888, \"#fdca26\"], [1.0, \"#f0f921\"]], \"sequentialminus\": [[0.0, \"#0d0887\"], [0.1111111111111111, \"#46039f\"], [0.2222222222222222, \"#7201a8\"], [0.3333333333333333, \"#9c179e\"], [0.4444444444444444, \"#bd3786\"], [0.5555555555555556, \"#d8576b\"], [0.6666666666666666, \"#ed7953\"], [0.7777777777777778, \"#fb9f3a\"], [0.8888888888888888, \"#fdca26\"], [1.0, \"#f0f921\"]]}, \"colorway\": [\"#636efa\", \"#EF553B\", \"#00cc96\", \"#ab63fa\", \"#FFA15A\", \"#19d3f3\", \"#FF6692\", \"#B6E880\", \"#FF97FF\", \"#FECB52\"], \"font\": {\"color\": \"#2a3f5f\"}, \"geo\": {\"bgcolor\": \"white\", \"lakecolor\": \"white\", \"landcolor\": \"#E5ECF6\", \"showlakes\": true, \"showland\": true, \"subunitcolor\": \"white\"}, \"hoverlabel\": {\"align\": \"left\"}, \"hovermode\": \"closest\", \"mapbox\": {\"style\": \"light\"}, \"paper_bgcolor\": \"white\", \"plot_bgcolor\": \"#E5ECF6\", \"polar\": {\"angularaxis\": {\"gridcolor\": \"white\", \"linecolor\": \"white\", \"ticks\": \"\"}, \"bgcolor\": \"#E5ECF6\", \"radialaxis\": {\"gridcolor\": \"white\", \"linecolor\": \"white\", \"ticks\": \"\"}}, \"scene\": {\"xaxis\": {\"backgroundcolor\": \"#E5ECF6\", \"gridcolor\": \"white\", \"gridwidth\": 2, \"linecolor\": \"white\", \"showbackground\": true, \"ticks\": \"\", \"zerolinecolor\": \"white\"}, \"yaxis\": {\"backgroundcolor\": \"#E5ECF6\", \"gridcolor\": \"white\", \"gridwidth\": 2, \"linecolor\": \"white\", \"showbackground\": true, \"ticks\": \"\", \"zerolinecolor\": \"white\"}, \"zaxis\": {\"backgroundcolor\": \"#E5ECF6\", \"gridcolor\": \"white\", \"gridwidth\": 2, \"linecolor\": \"white\", \"showbackground\": true, \"ticks\": \"\", \"zerolinecolor\": \"white\"}}, \"shapedefaults\": {\"line\": {\"color\": \"#2a3f5f\"}}, \"ternary\": {\"aaxis\": {\"gridcolor\": \"white\", \"linecolor\": \"white\", \"ticks\": \"\"}, \"baxis\": {\"gridcolor\": \"white\", \"linecolor\": \"white\", \"ticks\": \"\"}, \"bgcolor\": \"#E5ECF6\", \"caxis\": {\"gridcolor\": \"white\", \"linecolor\": \"white\", \"ticks\": \"\"}}, \"title\": {\"x\": 0.05}, \"xaxis\": {\"automargin\": true, \"gridcolor\": \"white\", \"linecolor\": \"white\", \"ticks\": \"\", \"title\": {\"standoff\": 15}, \"zerolinecolor\": \"white\", \"zerolinewidth\": 2}, \"yaxis\": {\"automargin\": true, \"gridcolor\": \"white\", \"linecolor\": \"white\", \"ticks\": \"\", \"title\": {\"standoff\": 15}, \"zerolinecolor\": \"white\", \"zerolinewidth\": 2}}}, \"title\": {\"text\": \"Survival count accross gender\"}},\n",
       "                        {\"responsive\": true}\n",
       "                    ).then(function(){\n",
       "                            \n",
       "var gd = document.getElementById('3598753a-da7f-4b47-a90a-f5ce590d6a93');\n",
       "var x = new MutationObserver(function (mutations, observer) {{\n",
       "        var display = window.getComputedStyle(gd).display;\n",
       "        if (!display || display === 'none') {{\n",
       "            console.log([gd, 'removed!']);\n",
       "            Plotly.purge(gd);\n",
       "            observer.disconnect();\n",
       "        }}\n",
       "}});\n",
       "\n",
       "// Listen for the removal of the full notebook cells\n",
       "var notebookContainer = gd.closest('#notebook-container');\n",
       "if (notebookContainer) {{\n",
       "    x.observe(notebookContainer, {childList: true});\n",
       "}}\n",
       "\n",
       "// Listen for the clearing of the current output cell\n",
       "var outputEl = gd.closest('.output');\n",
       "if (outputEl) {{\n",
       "    x.observe(outputEl, {childList: true});\n",
       "}}\n",
       "\n",
       "                        })\n",
       "                };\n",
       "                });\n",
       "            </script>\n",
       "        </div>"
      ]
     },
     "metadata": {},
     "output_type": "display_data"
    }
   ],
   "source": [
    "fig = go.Figure(data=[\n",
    "    go.Bar(name='Survived', y=df[df['Survived']==1]['Sex'].value_counts().values, x=df[df['Survived']==1]['Sex'].value_counts().index),\n",
    "    go.Bar(name='Not Survived', y=df[df['Survived']==0]['Sex'].value_counts().values, x=df[df['Survived']==0]['Sex'].value_counts().index)\n",
    "])\n",
    "# Change the bar mode\n",
    "fig.update_layout(barmode='group', title_text='Survival count accross gender')\n",
    "fig.show()"
   ]
  },
  {
   "cell_type": "markdown",
   "execution_count": null,
   "metadata": {
    "papermill": {
     "duration": 0.008972,
     "end_time": "2020-08-23T10:44:55.816547",
     "exception": false,
     "start_time": "2020-08-23T10:44:55.807575",
     "status": "completed"
    },
    "tags": []
   },
   "source": [
    "Survival count for male is clearly higher than that of females."
   ]
  },
  {
   "cell_type": "code",
   "execution_count": 11,
   "metadata": {
    "execution": {
     "iopub.execute_input": "2020-08-23T10:44:55.846472Z",
     "iopub.status.busy": "2020-08-23T10:44:55.845784Z",
     "iopub.status.idle": "2020-08-23T10:44:55.921270Z",
     "shell.execute_reply": "2020-08-23T10:44:55.921783Z"
    },
    "papermill": {
     "duration": 0.096413,
     "end_time": "2020-08-23T10:44:55.921939",
     "exception": false,
     "start_time": "2020-08-23T10:44:55.825526",
     "status": "completed"
    },
    "tags": []
   },
   "outputs": [
    {
     "data": {
      "text/html": [
       "<div>\n",
       "        \n",
       "        \n",
       "            <div id=\"65487f9b-ac68-43eb-a4d2-ad34f722e8fa\" class=\"plotly-graph-div\" style=\"height:525px; width:100%;\"></div>\n",
       "            <script type=\"text/javascript\">\n",
       "                require([\"plotly\"], function(Plotly) {\n",
       "                    window.PLOTLYENV=window.PLOTLYENV || {};\n",
       "                    \n",
       "                if (document.getElementById(\"65487f9b-ac68-43eb-a4d2-ad34f722e8fa\")) {\n",
       "                    Plotly.newPlot(\n",
       "                        '65487f9b-ac68-43eb-a4d2-ad34f722e8fa',\n",
       "                        [{\"domain\": {\"x\": [0.0, 1.0], \"y\": [0.0, 1.0]}, \"hovertemplate\": \"Survived=%{label}<extra></extra>\", \"labels\": [0, 0, 0, 0, 0, 0, 0, 0, 0, 0, 0, 0, 0, 0, 0, 0, 0, 0, 0, 0, 0, 1, 0, 0, 0, 0, 0, 0, 0, 0, 0, 1, 0, 0, 0, 0, 0, 1, 0, 0, 0, 0, 0, 0, 1, 0, 0, 0, 1, 1, 0, 0, 0, 0, 0, 0, 0, 0, 0, 0, 0, 0, 0, 1, 0, 0, 0, 0, 0, 0, 0, 0, 0, 0, 0, 1, 1, 0, 0, 0, 0, 0, 0, 0, 0, 0, 0, 1, 0, 0, 1, 0, 0, 1, 0, 0, 0, 0, 0, 0, 0, 0, 0, 0, 0, 0, 0, 0, 0, 0, 0, 0, 0, 0, 0, 0, 0, 0, 0, 0, 0, 0, 1, 0, 0, 0, 0, 0, 0, 1, 0, 0, 1, 1, 0, 1, 0, 0, 0, 0, 0, 0, 0, 0, 0, 1, 0, 0, 0, 0, 1, 0, 0, 0, 0, 0, 0, 0, 0, 0, 0, 0, 0, 1, 0, 0, 0, 1, 0, 0, 0, 0, 0, 0, 0, 0, 0, 0, 0, 0, 0, 1, 0, 0, 0, 1, 0, 0, 0, 0, 1, 1, 1, 0, 1, 0, 0, 0, 0, 0, 0, 0, 0, 0, 0, 0, 0, 0, 0, 0, 0, 0, 0, 0, 0, 0, 0, 0, 0, 0, 0, 0, 0, 0, 0, 0, 1, 0, 0, 0, 0, 0, 0, 0, 0, 0, 0, 0, 0, 0, 0, 1, 0, 0, 0, 0, 1, 0, 0, 0, 0, 0, 0, 0, 0, 0, 0, 1, 1, 0, 0, 0, 0, 0, 0, 0, 0, 0, 0, 0, 0, 0, 0, 0, 0, 1, 0, 0, 0, 1, 0, 0, 0, 0, 1, 0, 0, 0, 0, 0, 0, 0, 0, 0, 0, 0, 0, 0, 0, 0, 0, 0, 0, 0, 0, 0, 0, 0, 0, 0, 1, 1, 1, 0, 0, 0, 0, 1, 0, 0, 0, 1, 0, 1, 1, 0, 0, 0, 0, 0, 0, 0, 0, 1, 0, 0, 1, 0, 0, 0, 0, 0, 1, 0, 0, 0, 1, 1, 0, 0, 0, 0, 0, 0, 0, 0, 0, 0, 0, 0, 0, 0, 0, 0, 0, 0, 0, 0, 0, 1, 0, 0, 0, 0, 0, 0, 1, 1, 0, 0, 0, 0, 0, 1, 0, 0, 0, 0, 0, 0, 1, 0, 0, 0, 1, 0, 0, 0, 1, 0, 0, 0, 0, 1, 1, 0, 0, 0, 0, 1, 0, 0, 0, 0, 1, 0, 0, 0, 0, 0, 0, 1, 0, 0, 1, 0, 0, 0, 0, 0, 0, 0, 0, 0, 0, 0, 0, 0, 0, 0, 0, 0, 1, 0, 0, 1, 0, 0, 0, 0, 0, 1, 1, 0, 0, 0, 0, 0, 0, 0, 0, 0, 0, 0, 0, 0, 0, 1, 1, 1, 0, 0, 0, 0, 0, 0, 0, 0, 0, 1, 0, 1, 0, 0, 0, 0, 0, 0, 0, 0, 0, 0, 0, 1, 0, 0, 0, 0, 0, 0, 0, 1, 0, 0, 0, 0, 0, 0, 0, 0, 0, 0, 0, 0, 0, 0, 0, 0, 0, 0, 0, 0, 0, 0, 0, 1, 0, 0, 0, 0, 1, 0, 0, 0, 0, 0, 0, 0, 0, 0, 0, 0, 0, 0, 0, 0, 0, 0, 0, 0, 1, 0, 0, 0, 0, 0, 0, 0, 0, 0, 0, 0, 0, 0, 0, 1, 0, 1, 0, 0, 0, 0, 0, 0, 0, 0, 0, 0, 0, 0, 0, 0, 1, 1, 0, 0, 0, 1, 0, 0, 0, 0, 0, 0, 1, 0, 0, 0, 0, 0, 0, 0, 0, 0, 0, 1, 0, 0, 0, 0, 0, 0, 0, 0, 0, 0, 0, 0, 0, 0, 0, 0, 0, 0, 0, 0, 0, 0, 0, 1, 0, 0, 0, 0, 0, 0, 0, 0, 0, 1, 0, 0, 0, 0, 0, 0, 1, 0, 0, 0, 1, 0, 0, 0, 0, 0, 0, 0, 1, 0, 0, 0, 0, 0, 1, 0, 0, 0, 0, 0, 0, 0, 0, 0, 0, 0, 0, 0, 0, 0, 0, 0, 0, 0, 0, 0, 0, 0, 0, 0, 0, 0, 1, 0, 0, 1, 0, 1, 0, 0, 0, 0, 0, 1, 0, 0, 0, 0, 1, 0, 0, 1, 0, 0, 0, 0, 0, 0, 0, 0, 0, 0, 0, 0, 0, 0, 0, 0, 0, 0, 0, 0, 0, 0, 0, 1, 0, 1, 0, 0, 1, 0, 0, 0, 1, 0, 0, 0, 1, 0, 0, 0, 0, 0, 0, 0, 0, 0, 0, 0, 0, 0, 0, 0, 0, 0, 0, 1, 0, 0, 0, 0, 0, 0, 0, 0, 0, 0, 0, 0, 1, 0, 0, 1, 0, 1, 0, 1, 0, 0, 1, 0, 1, 0, 0, 0, 0, 0, 0, 0, 0, 0, 0, 0, 0, 0, 1, 1, 0, 0, 0, 0, 0, 0, 1, 0, 0, 0, 0, 0, 1, 0, 0, 0, 0, 0, 0, 0, 0, 0, 0, 0, 0, 0, 0, 0, 0, 0, 0, 1, 0, 0, 0, 0, 0, 0, 0, 0, 0, 1, 1, 0, 0, 0, 1, 0, 0, 0, 0, 0, 0, 0, 0, 0, 0, 0, 1, 1, 0, 0, 0, 0, 0, 0, 0, 0, 0, 0, 0, 0, 0, 0, 0, 1, 0, 0, 0, 1, 0, 0, 0, 0, 0, 0, 1, 0, 1, 1, 0, 1, 1, 0, 0, 0, 0, 0, 0, 0, 0, 0, 0, 0, 0, 0, 0, 0, 0, 0, 1, 0, 1, 0, 0, 0, 0, 0, 0, 0, 1, 0, 0, 0, 1, 0, 0, 0, 0, 0, 0, 1, 1, 1, 0, 0, 0, 0, 0, 1, 1, 1, 0, 0, 0, 0, 0, 0, 0, 0, 1, 0, 0, 0, 0, 0, 0, 1, 0, 0, 0, 0, 0, 0, 0, 0, 0, 0, 0, 0, 0, 0, 0, 1, 0, 0, 0, 1, 0, 0, 1], \"legendgroup\": \"\", \"name\": \"\", \"showlegend\": true, \"type\": \"pie\"}],\n",
       "                        {\"legend\": {\"tracegroupgap\": 0}, \"template\": {\"data\": {\"bar\": [{\"error_x\": {\"color\": \"#2a3f5f\"}, \"error_y\": {\"color\": \"#2a3f5f\"}, \"marker\": {\"line\": {\"color\": \"#E5ECF6\", \"width\": 0.5}}, \"type\": \"bar\"}], \"barpolar\": [{\"marker\": {\"line\": {\"color\": \"#E5ECF6\", \"width\": 0.5}}, \"type\": \"barpolar\"}], \"carpet\": [{\"aaxis\": {\"endlinecolor\": \"#2a3f5f\", \"gridcolor\": \"white\", \"linecolor\": \"white\", \"minorgridcolor\": \"white\", \"startlinecolor\": \"#2a3f5f\"}, \"baxis\": {\"endlinecolor\": \"#2a3f5f\", \"gridcolor\": \"white\", \"linecolor\": \"white\", \"minorgridcolor\": \"white\", \"startlinecolor\": \"#2a3f5f\"}, \"type\": \"carpet\"}], \"choropleth\": [{\"colorbar\": {\"outlinewidth\": 0, \"ticks\": \"\"}, \"type\": \"choropleth\"}], \"contour\": [{\"colorbar\": {\"outlinewidth\": 0, \"ticks\": \"\"}, \"colorscale\": [[0.0, \"#0d0887\"], [0.1111111111111111, \"#46039f\"], [0.2222222222222222, \"#7201a8\"], [0.3333333333333333, \"#9c179e\"], [0.4444444444444444, \"#bd3786\"], [0.5555555555555556, \"#d8576b\"], [0.6666666666666666, \"#ed7953\"], [0.7777777777777778, \"#fb9f3a\"], [0.8888888888888888, \"#fdca26\"], [1.0, \"#f0f921\"]], \"type\": \"contour\"}], \"contourcarpet\": [{\"colorbar\": {\"outlinewidth\": 0, \"ticks\": \"\"}, \"type\": \"contourcarpet\"}], \"heatmap\": [{\"colorbar\": {\"outlinewidth\": 0, \"ticks\": \"\"}, \"colorscale\": [[0.0, \"#0d0887\"], [0.1111111111111111, \"#46039f\"], [0.2222222222222222, \"#7201a8\"], [0.3333333333333333, \"#9c179e\"], [0.4444444444444444, \"#bd3786\"], [0.5555555555555556, \"#d8576b\"], [0.6666666666666666, \"#ed7953\"], [0.7777777777777778, \"#fb9f3a\"], [0.8888888888888888, \"#fdca26\"], [1.0, \"#f0f921\"]], \"type\": \"heatmap\"}], \"heatmapgl\": [{\"colorbar\": {\"outlinewidth\": 0, \"ticks\": \"\"}, \"colorscale\": [[0.0, \"#0d0887\"], [0.1111111111111111, \"#46039f\"], [0.2222222222222222, \"#7201a8\"], [0.3333333333333333, \"#9c179e\"], [0.4444444444444444, \"#bd3786\"], [0.5555555555555556, \"#d8576b\"], [0.6666666666666666, \"#ed7953\"], [0.7777777777777778, \"#fb9f3a\"], [0.8888888888888888, \"#fdca26\"], [1.0, \"#f0f921\"]], \"type\": \"heatmapgl\"}], \"histogram\": [{\"marker\": {\"colorbar\": {\"outlinewidth\": 0, \"ticks\": \"\"}}, \"type\": \"histogram\"}], \"histogram2d\": [{\"colorbar\": {\"outlinewidth\": 0, \"ticks\": \"\"}, \"colorscale\": [[0.0, \"#0d0887\"], [0.1111111111111111, \"#46039f\"], [0.2222222222222222, \"#7201a8\"], [0.3333333333333333, \"#9c179e\"], [0.4444444444444444, \"#bd3786\"], [0.5555555555555556, \"#d8576b\"], [0.6666666666666666, \"#ed7953\"], [0.7777777777777778, \"#fb9f3a\"], [0.8888888888888888, \"#fdca26\"], [1.0, \"#f0f921\"]], \"type\": \"histogram2d\"}], \"histogram2dcontour\": [{\"colorbar\": {\"outlinewidth\": 0, \"ticks\": \"\"}, \"colorscale\": [[0.0, \"#0d0887\"], [0.1111111111111111, \"#46039f\"], [0.2222222222222222, \"#7201a8\"], [0.3333333333333333, \"#9c179e\"], [0.4444444444444444, \"#bd3786\"], [0.5555555555555556, \"#d8576b\"], [0.6666666666666666, \"#ed7953\"], [0.7777777777777778, \"#fb9f3a\"], [0.8888888888888888, \"#fdca26\"], [1.0, \"#f0f921\"]], \"type\": \"histogram2dcontour\"}], \"mesh3d\": [{\"colorbar\": {\"outlinewidth\": 0, \"ticks\": \"\"}, \"type\": \"mesh3d\"}], \"parcoords\": [{\"line\": {\"colorbar\": {\"outlinewidth\": 0, \"ticks\": \"\"}}, \"type\": \"parcoords\"}], \"pie\": [{\"automargin\": true, \"type\": \"pie\"}], \"scatter\": [{\"marker\": {\"colorbar\": {\"outlinewidth\": 0, \"ticks\": \"\"}}, \"type\": \"scatter\"}], \"scatter3d\": [{\"line\": {\"colorbar\": {\"outlinewidth\": 0, \"ticks\": \"\"}}, \"marker\": {\"colorbar\": {\"outlinewidth\": 0, \"ticks\": \"\"}}, \"type\": \"scatter3d\"}], \"scattercarpet\": [{\"marker\": {\"colorbar\": {\"outlinewidth\": 0, \"ticks\": \"\"}}, \"type\": \"scattercarpet\"}], \"scattergeo\": [{\"marker\": {\"colorbar\": {\"outlinewidth\": 0, \"ticks\": \"\"}}, \"type\": \"scattergeo\"}], \"scattergl\": [{\"marker\": {\"colorbar\": {\"outlinewidth\": 0, \"ticks\": \"\"}}, \"type\": \"scattergl\"}], \"scattermapbox\": [{\"marker\": {\"colorbar\": {\"outlinewidth\": 0, \"ticks\": \"\"}}, \"type\": \"scattermapbox\"}], \"scatterpolar\": [{\"marker\": {\"colorbar\": {\"outlinewidth\": 0, \"ticks\": \"\"}}, \"type\": \"scatterpolar\"}], \"scatterpolargl\": [{\"marker\": {\"colorbar\": {\"outlinewidth\": 0, \"ticks\": \"\"}}, \"type\": \"scatterpolargl\"}], \"scatterternary\": [{\"marker\": {\"colorbar\": {\"outlinewidth\": 0, \"ticks\": \"\"}}, \"type\": \"scatterternary\"}], \"surface\": [{\"colorbar\": {\"outlinewidth\": 0, \"ticks\": \"\"}, \"colorscale\": [[0.0, \"#0d0887\"], [0.1111111111111111, \"#46039f\"], [0.2222222222222222, \"#7201a8\"], [0.3333333333333333, \"#9c179e\"], [0.4444444444444444, \"#bd3786\"], [0.5555555555555556, \"#d8576b\"], [0.6666666666666666, \"#ed7953\"], [0.7777777777777778, \"#fb9f3a\"], [0.8888888888888888, \"#fdca26\"], [1.0, \"#f0f921\"]], \"type\": \"surface\"}], \"table\": [{\"cells\": {\"fill\": {\"color\": \"#EBF0F8\"}, \"line\": {\"color\": \"white\"}}, \"header\": {\"fill\": {\"color\": \"#C8D4E3\"}, \"line\": {\"color\": \"white\"}}, \"type\": \"table\"}]}, \"layout\": {\"annotationdefaults\": {\"arrowcolor\": \"#2a3f5f\", \"arrowhead\": 0, \"arrowwidth\": 1}, \"coloraxis\": {\"colorbar\": {\"outlinewidth\": 0, \"ticks\": \"\"}}, \"colorscale\": {\"diverging\": [[0, \"#8e0152\"], [0.1, \"#c51b7d\"], [0.2, \"#de77ae\"], [0.3, \"#f1b6da\"], [0.4, \"#fde0ef\"], [0.5, \"#f7f7f7\"], [0.6, \"#e6f5d0\"], [0.7, \"#b8e186\"], [0.8, \"#7fbc41\"], [0.9, \"#4d9221\"], [1, \"#276419\"]], \"sequential\": [[0.0, \"#0d0887\"], [0.1111111111111111, \"#46039f\"], [0.2222222222222222, \"#7201a8\"], [0.3333333333333333, \"#9c179e\"], [0.4444444444444444, \"#bd3786\"], [0.5555555555555556, \"#d8576b\"], [0.6666666666666666, \"#ed7953\"], [0.7777777777777778, \"#fb9f3a\"], [0.8888888888888888, \"#fdca26\"], [1.0, \"#f0f921\"]], \"sequentialminus\": [[0.0, \"#0d0887\"], [0.1111111111111111, \"#46039f\"], [0.2222222222222222, \"#7201a8\"], [0.3333333333333333, \"#9c179e\"], [0.4444444444444444, \"#bd3786\"], [0.5555555555555556, \"#d8576b\"], [0.6666666666666666, \"#ed7953\"], [0.7777777777777778, \"#fb9f3a\"], [0.8888888888888888, \"#fdca26\"], [1.0, \"#f0f921\"]]}, \"colorway\": [\"#636efa\", \"#EF553B\", \"#00cc96\", \"#ab63fa\", \"#FFA15A\", \"#19d3f3\", \"#FF6692\", \"#B6E880\", \"#FF97FF\", \"#FECB52\"], \"font\": {\"color\": \"#2a3f5f\"}, \"geo\": {\"bgcolor\": \"white\", \"lakecolor\": \"white\", \"landcolor\": \"#E5ECF6\", \"showlakes\": true, \"showland\": true, \"subunitcolor\": \"white\"}, \"hoverlabel\": {\"align\": \"left\"}, \"hovermode\": \"closest\", \"mapbox\": {\"style\": \"light\"}, \"paper_bgcolor\": \"white\", \"plot_bgcolor\": \"#E5ECF6\", \"polar\": {\"angularaxis\": {\"gridcolor\": \"white\", \"linecolor\": \"white\", \"ticks\": \"\"}, \"bgcolor\": \"#E5ECF6\", \"radialaxis\": {\"gridcolor\": \"white\", \"linecolor\": \"white\", \"ticks\": \"\"}}, \"scene\": {\"xaxis\": {\"backgroundcolor\": \"#E5ECF6\", \"gridcolor\": \"white\", \"gridwidth\": 2, \"linecolor\": \"white\", \"showbackground\": true, \"ticks\": \"\", \"zerolinecolor\": \"white\"}, \"yaxis\": {\"backgroundcolor\": \"#E5ECF6\", \"gridcolor\": \"white\", \"gridwidth\": 2, \"linecolor\": \"white\", \"showbackground\": true, \"ticks\": \"\", \"zerolinecolor\": \"white\"}, \"zaxis\": {\"backgroundcolor\": \"#E5ECF6\", \"gridcolor\": \"white\", \"gridwidth\": 2, \"linecolor\": \"white\", \"showbackground\": true, \"ticks\": \"\", \"zerolinecolor\": \"white\"}}, \"shapedefaults\": {\"line\": {\"color\": \"#2a3f5f\"}}, \"ternary\": {\"aaxis\": {\"gridcolor\": \"white\", \"linecolor\": \"white\", \"ticks\": \"\"}, \"baxis\": {\"gridcolor\": \"white\", \"linecolor\": \"white\", \"ticks\": \"\"}, \"bgcolor\": \"#E5ECF6\", \"caxis\": {\"gridcolor\": \"white\", \"linecolor\": \"white\", \"ticks\": \"\"}}, \"title\": {\"x\": 0.05}, \"xaxis\": {\"automargin\": true, \"gridcolor\": \"white\", \"linecolor\": \"white\", \"ticks\": \"\", \"title\": {\"standoff\": 15}, \"zerolinecolor\": \"white\", \"zerolinewidth\": 2}, \"yaxis\": {\"automargin\": true, \"gridcolor\": \"white\", \"linecolor\": \"white\", \"ticks\": \"\", \"title\": {\"standoff\": 15}, \"zerolinecolor\": \"white\", \"zerolinewidth\": 2}}}, \"title\": {\"text\": \"Survival class distribution\"}},\n",
       "                        {\"responsive\": true}\n",
       "                    ).then(function(){\n",
       "                            \n",
       "var gd = document.getElementById('65487f9b-ac68-43eb-a4d2-ad34f722e8fa');\n",
       "var x = new MutationObserver(function (mutations, observer) {{\n",
       "        var display = window.getComputedStyle(gd).display;\n",
       "        if (!display || display === 'none') {{\n",
       "            console.log([gd, 'removed!']);\n",
       "            Plotly.purge(gd);\n",
       "            observer.disconnect();\n",
       "        }}\n",
       "}});\n",
       "\n",
       "// Listen for the removal of the full notebook cells\n",
       "var notebookContainer = gd.closest('#notebook-container');\n",
       "if (notebookContainer) {{\n",
       "    x.observe(notebookContainer, {childList: true});\n",
       "}}\n",
       "\n",
       "// Listen for the clearing of the current output cell\n",
       "var outputEl = gd.closest('.output');\n",
       "if (outputEl) {{\n",
       "    x.observe(outputEl, {childList: true});\n",
       "}}\n",
       "\n",
       "                        })\n",
       "                };\n",
       "                });\n",
       "            </script>\n",
       "        </div>"
      ]
     },
     "metadata": {},
     "output_type": "display_data"
    }
   ],
   "source": [
    "fig = px.pie(df, names='Survived', title='Survival class distribution')\n",
    "fig.show()"
   ]
  },
  {
   "cell_type": "markdown",
   "execution_count": null,
   "metadata": {
    "papermill": {
     "duration": 0.0089,
     "end_time": "2020-08-23T10:44:55.941782",
     "exception": false,
     "start_time": "2020-08-23T10:44:55.932882",
     "status": "completed"
    },
    "tags": []
   },
   "source": [
    "We can clearly see the class imbalance.\n",
    "\n",
    "Let's prepare data for prediction by LabelEncoding the values."
   ]
  },
  {
   "cell_type": "code",
   "execution_count": 12,
   "metadata": {
    "execution": {
     "iopub.execute_input": "2020-08-23T10:44:55.972253Z",
     "iopub.status.busy": "2020-08-23T10:44:55.971663Z",
     "iopub.status.idle": "2020-08-23T10:44:55.975398Z",
     "shell.execute_reply": "2020-08-23T10:44:55.974902Z"
    },
    "papermill": {
     "duration": 0.024747,
     "end_time": "2020-08-23T10:44:55.975532",
     "exception": false,
     "start_time": "2020-08-23T10:44:55.950785",
     "status": "completed"
    },
    "tags": []
   },
   "outputs": [],
   "source": [
    "features = ['Country','Sex','Category']\n",
    "df[features] = df[features].apply(preprocessing.LabelEncoder().fit_transform)"
   ]
  },
  {
   "cell_type": "code",
   "execution_count": 13,
   "metadata": {
    "execution": {
     "iopub.execute_input": "2020-08-23T10:44:56.010256Z",
     "iopub.status.busy": "2020-08-23T10:44:56.009290Z",
     "iopub.status.idle": "2020-08-23T10:44:56.014798Z",
     "shell.execute_reply": "2020-08-23T10:44:56.013911Z"
    },
    "papermill": {
     "duration": 0.030045,
     "end_time": "2020-08-23T10:44:56.014964",
     "exception": false,
     "start_time": "2020-08-23T10:44:55.984919",
     "status": "completed"
    },
    "tags": []
   },
   "outputs": [
    {
     "data": {
      "text/html": [
       "<div>\n",
       "<style scoped>\n",
       "    .dataframe tbody tr th:only-of-type {\n",
       "        vertical-align: middle;\n",
       "    }\n",
       "\n",
       "    .dataframe tbody tr th {\n",
       "        vertical-align: top;\n",
       "    }\n",
       "\n",
       "    .dataframe thead th {\n",
       "        text-align: right;\n",
       "    }\n",
       "</style>\n",
       "<table border=\"1\" class=\"dataframe\">\n",
       "  <thead>\n",
       "    <tr style=\"text-align: right;\">\n",
       "      <th></th>\n",
       "      <th>Country</th>\n",
       "      <th>Sex</th>\n",
       "      <th>Age</th>\n",
       "      <th>Category</th>\n",
       "      <th>Survived</th>\n",
       "    </tr>\n",
       "  </thead>\n",
       "  <tbody>\n",
       "    <tr>\n",
       "      <th>0</th>\n",
       "      <td>15</td>\n",
       "      <td>1</td>\n",
       "      <td>62</td>\n",
       "      <td>1</td>\n",
       "      <td>0</td>\n",
       "    </tr>\n",
       "    <tr>\n",
       "      <th>1</th>\n",
       "      <td>3</td>\n",
       "      <td>0</td>\n",
       "      <td>22</td>\n",
       "      <td>0</td>\n",
       "      <td>0</td>\n",
       "    </tr>\n",
       "    <tr>\n",
       "      <th>2</th>\n",
       "      <td>3</td>\n",
       "      <td>0</td>\n",
       "      <td>21</td>\n",
       "      <td>0</td>\n",
       "      <td>0</td>\n",
       "    </tr>\n",
       "    <tr>\n",
       "      <th>3</th>\n",
       "      <td>15</td>\n",
       "      <td>1</td>\n",
       "      <td>53</td>\n",
       "      <td>0</td>\n",
       "      <td>0</td>\n",
       "    </tr>\n",
       "    <tr>\n",
       "      <th>4</th>\n",
       "      <td>15</td>\n",
       "      <td>0</td>\n",
       "      <td>55</td>\n",
       "      <td>1</td>\n",
       "      <td>0</td>\n",
       "    </tr>\n",
       "  </tbody>\n",
       "</table>\n",
       "</div>"
      ],
      "text/plain": [
       "   Country  Sex  Age  Category  Survived\n",
       "0       15    1   62         1         0\n",
       "1        3    0   22         0         0\n",
       "2        3    0   21         0         0\n",
       "3       15    1   53         0         0\n",
       "4       15    0   55         1         0"
      ]
     },
     "execution_count": 13,
     "metadata": {},
     "output_type": "execute_result"
    }
   ],
   "source": [
    "df.head()"
   ]
  },
  {
   "cell_type": "code",
   "execution_count": 14,
   "metadata": {
    "execution": {
     "iopub.execute_input": "2020-08-23T10:44:56.050834Z",
     "iopub.status.busy": "2020-08-23T10:44:56.049668Z",
     "iopub.status.idle": "2020-08-23T10:44:56.105240Z",
     "shell.execute_reply": "2020-08-23T10:44:56.105746Z"
    },
    "papermill": {
     "duration": 0.075811,
     "end_time": "2020-08-23T10:44:56.105911",
     "exception": false,
     "start_time": "2020-08-23T10:44:56.030100",
     "status": "completed"
    },
    "tags": []
   },
   "outputs": [
    {
     "data": {
      "text/html": [
       "<div>\n",
       "        \n",
       "        \n",
       "            <div id=\"1a15ce00-994e-4a7e-aa81-717b9cd8393f\" class=\"plotly-graph-div\" style=\"height:525px; width:100%;\"></div>\n",
       "            <script type=\"text/javascript\">\n",
       "                require([\"plotly\"], function(Plotly) {\n",
       "                    window.PLOTLYENV=window.PLOTLYENV || {};\n",
       "                    \n",
       "                if (document.getElementById(\"1a15ce00-994e-4a7e-aa81-717b9cd8393f\")) {\n",
       "                    Plotly.newPlot(\n",
       "                        '1a15ce00-994e-4a7e-aa81-717b9cd8393f',\n",
       "                        [{\"coloraxis\": \"coloraxis\", \"hovertemplate\": \"x: %{x}<br>y: %{y}<br>color: %{z}<extra></extra>\", \"type\": \"heatmap\", \"x\": [\"Country\", \"Sex\", \"Age\", \"Category\", \"Survived\"], \"y\": [\"Country\", \"Sex\", \"Age\", \"Category\", \"Survived\"], \"z\": [[1.0, -0.07921888558742586, 0.5106681219751339, 0.501570834537472, -0.1431528645626343], [-0.07921888558742586, 1.0, -0.05381929499257351, 0.07225764004454552, 0.23608155188980268], [0.5106681219751339, -0.05381929499257351, 1.0, 0.3250960235024056, -0.24583241507673037], [0.501570834537472, 0.07225764004454552, 0.3250960235024056, 1.0, -0.09058275630879989], [-0.1431528645626343, 0.23608155188980268, -0.24583241507673037, -0.09058275630879989, 1.0]]}],\n",
       "                        {\"coloraxis\": {\"colorscale\": [[0.0, \"#0d0887\"], [0.1111111111111111, \"#46039f\"], [0.2222222222222222, \"#7201a8\"], [0.3333333333333333, \"#9c179e\"], [0.4444444444444444, \"#bd3786\"], [0.5555555555555556, \"#d8576b\"], [0.6666666666666666, \"#ed7953\"], [0.7777777777777778, \"#fb9f3a\"], [0.8888888888888888, \"#fdca26\"], [1.0, \"#f0f921\"]]}, \"margin\": {\"t\": 60}, \"template\": {\"data\": {\"bar\": [{\"error_x\": {\"color\": \"#2a3f5f\"}, \"error_y\": {\"color\": \"#2a3f5f\"}, \"marker\": {\"line\": {\"color\": \"#E5ECF6\", \"width\": 0.5}}, \"type\": \"bar\"}], \"barpolar\": [{\"marker\": {\"line\": {\"color\": \"#E5ECF6\", \"width\": 0.5}}, \"type\": \"barpolar\"}], \"carpet\": [{\"aaxis\": {\"endlinecolor\": \"#2a3f5f\", \"gridcolor\": \"white\", \"linecolor\": \"white\", \"minorgridcolor\": \"white\", \"startlinecolor\": \"#2a3f5f\"}, \"baxis\": {\"endlinecolor\": \"#2a3f5f\", \"gridcolor\": \"white\", \"linecolor\": \"white\", \"minorgridcolor\": \"white\", \"startlinecolor\": \"#2a3f5f\"}, \"type\": \"carpet\"}], \"choropleth\": [{\"colorbar\": {\"outlinewidth\": 0, \"ticks\": \"\"}, \"type\": \"choropleth\"}], \"contour\": [{\"colorbar\": {\"outlinewidth\": 0, \"ticks\": \"\"}, \"colorscale\": [[0.0, \"#0d0887\"], [0.1111111111111111, \"#46039f\"], [0.2222222222222222, \"#7201a8\"], [0.3333333333333333, \"#9c179e\"], [0.4444444444444444, \"#bd3786\"], [0.5555555555555556, \"#d8576b\"], [0.6666666666666666, \"#ed7953\"], [0.7777777777777778, \"#fb9f3a\"], [0.8888888888888888, \"#fdca26\"], [1.0, \"#f0f921\"]], \"type\": \"contour\"}], \"contourcarpet\": [{\"colorbar\": {\"outlinewidth\": 0, \"ticks\": \"\"}, \"type\": \"contourcarpet\"}], \"heatmap\": [{\"colorbar\": {\"outlinewidth\": 0, \"ticks\": \"\"}, \"colorscale\": [[0.0, \"#0d0887\"], [0.1111111111111111, \"#46039f\"], [0.2222222222222222, \"#7201a8\"], [0.3333333333333333, \"#9c179e\"], [0.4444444444444444, \"#bd3786\"], [0.5555555555555556, \"#d8576b\"], [0.6666666666666666, \"#ed7953\"], [0.7777777777777778, \"#fb9f3a\"], [0.8888888888888888, \"#fdca26\"], [1.0, \"#f0f921\"]], \"type\": \"heatmap\"}], \"heatmapgl\": [{\"colorbar\": {\"outlinewidth\": 0, \"ticks\": \"\"}, \"colorscale\": [[0.0, \"#0d0887\"], [0.1111111111111111, \"#46039f\"], [0.2222222222222222, \"#7201a8\"], [0.3333333333333333, \"#9c179e\"], [0.4444444444444444, \"#bd3786\"], [0.5555555555555556, \"#d8576b\"], [0.6666666666666666, \"#ed7953\"], [0.7777777777777778, \"#fb9f3a\"], [0.8888888888888888, \"#fdca26\"], [1.0, \"#f0f921\"]], \"type\": \"heatmapgl\"}], \"histogram\": [{\"marker\": {\"colorbar\": {\"outlinewidth\": 0, \"ticks\": \"\"}}, \"type\": \"histogram\"}], \"histogram2d\": [{\"colorbar\": {\"outlinewidth\": 0, \"ticks\": \"\"}, \"colorscale\": [[0.0, \"#0d0887\"], [0.1111111111111111, \"#46039f\"], [0.2222222222222222, \"#7201a8\"], [0.3333333333333333, \"#9c179e\"], [0.4444444444444444, \"#bd3786\"], [0.5555555555555556, \"#d8576b\"], [0.6666666666666666, \"#ed7953\"], [0.7777777777777778, \"#fb9f3a\"], [0.8888888888888888, \"#fdca26\"], [1.0, \"#f0f921\"]], \"type\": \"histogram2d\"}], \"histogram2dcontour\": [{\"colorbar\": {\"outlinewidth\": 0, \"ticks\": \"\"}, \"colorscale\": [[0.0, \"#0d0887\"], [0.1111111111111111, \"#46039f\"], [0.2222222222222222, \"#7201a8\"], [0.3333333333333333, \"#9c179e\"], [0.4444444444444444, \"#bd3786\"], [0.5555555555555556, \"#d8576b\"], [0.6666666666666666, \"#ed7953\"], [0.7777777777777778, \"#fb9f3a\"], [0.8888888888888888, \"#fdca26\"], [1.0, \"#f0f921\"]], \"type\": \"histogram2dcontour\"}], \"mesh3d\": [{\"colorbar\": {\"outlinewidth\": 0, \"ticks\": \"\"}, \"type\": \"mesh3d\"}], \"parcoords\": [{\"line\": {\"colorbar\": {\"outlinewidth\": 0, \"ticks\": \"\"}}, \"type\": \"parcoords\"}], \"pie\": [{\"automargin\": true, \"type\": \"pie\"}], \"scatter\": [{\"marker\": {\"colorbar\": {\"outlinewidth\": 0, \"ticks\": \"\"}}, \"type\": \"scatter\"}], \"scatter3d\": [{\"line\": {\"colorbar\": {\"outlinewidth\": 0, \"ticks\": \"\"}}, \"marker\": {\"colorbar\": {\"outlinewidth\": 0, \"ticks\": \"\"}}, \"type\": \"scatter3d\"}], \"scattercarpet\": [{\"marker\": {\"colorbar\": {\"outlinewidth\": 0, \"ticks\": \"\"}}, \"type\": \"scattercarpet\"}], \"scattergeo\": [{\"marker\": {\"colorbar\": {\"outlinewidth\": 0, \"ticks\": \"\"}}, \"type\": \"scattergeo\"}], \"scattergl\": [{\"marker\": {\"colorbar\": {\"outlinewidth\": 0, \"ticks\": \"\"}}, \"type\": \"scattergl\"}], \"scattermapbox\": [{\"marker\": {\"colorbar\": {\"outlinewidth\": 0, \"ticks\": \"\"}}, \"type\": \"scattermapbox\"}], \"scatterpolar\": [{\"marker\": {\"colorbar\": {\"outlinewidth\": 0, \"ticks\": \"\"}}, \"type\": \"scatterpolar\"}], \"scatterpolargl\": [{\"marker\": {\"colorbar\": {\"outlinewidth\": 0, \"ticks\": \"\"}}, \"type\": \"scatterpolargl\"}], \"scatterternary\": [{\"marker\": {\"colorbar\": {\"outlinewidth\": 0, \"ticks\": \"\"}}, \"type\": \"scatterternary\"}], \"surface\": [{\"colorbar\": {\"outlinewidth\": 0, \"ticks\": \"\"}, \"colorscale\": [[0.0, \"#0d0887\"], [0.1111111111111111, \"#46039f\"], [0.2222222222222222, \"#7201a8\"], [0.3333333333333333, \"#9c179e\"], [0.4444444444444444, \"#bd3786\"], [0.5555555555555556, \"#d8576b\"], [0.6666666666666666, \"#ed7953\"], [0.7777777777777778, \"#fb9f3a\"], [0.8888888888888888, \"#fdca26\"], [1.0, \"#f0f921\"]], \"type\": \"surface\"}], \"table\": [{\"cells\": {\"fill\": {\"color\": \"#EBF0F8\"}, \"line\": {\"color\": \"white\"}}, \"header\": {\"fill\": {\"color\": \"#C8D4E3\"}, \"line\": {\"color\": \"white\"}}, \"type\": \"table\"}]}, \"layout\": {\"annotationdefaults\": {\"arrowcolor\": \"#2a3f5f\", \"arrowhead\": 0, \"arrowwidth\": 1}, \"coloraxis\": {\"colorbar\": {\"outlinewidth\": 0, \"ticks\": \"\"}}, \"colorscale\": {\"diverging\": [[0, \"#8e0152\"], [0.1, \"#c51b7d\"], [0.2, \"#de77ae\"], [0.3, \"#f1b6da\"], [0.4, \"#fde0ef\"], [0.5, \"#f7f7f7\"], [0.6, \"#e6f5d0\"], [0.7, \"#b8e186\"], [0.8, \"#7fbc41\"], [0.9, \"#4d9221\"], [1, \"#276419\"]], \"sequential\": [[0.0, \"#0d0887\"], [0.1111111111111111, \"#46039f\"], [0.2222222222222222, \"#7201a8\"], [0.3333333333333333, \"#9c179e\"], [0.4444444444444444, \"#bd3786\"], [0.5555555555555556, \"#d8576b\"], [0.6666666666666666, \"#ed7953\"], [0.7777777777777778, \"#fb9f3a\"], [0.8888888888888888, \"#fdca26\"], [1.0, \"#f0f921\"]], \"sequentialminus\": [[0.0, \"#0d0887\"], [0.1111111111111111, \"#46039f\"], [0.2222222222222222, \"#7201a8\"], [0.3333333333333333, \"#9c179e\"], [0.4444444444444444, \"#bd3786\"], [0.5555555555555556, \"#d8576b\"], [0.6666666666666666, \"#ed7953\"], [0.7777777777777778, \"#fb9f3a\"], [0.8888888888888888, \"#fdca26\"], [1.0, \"#f0f921\"]]}, \"colorway\": [\"#636efa\", \"#EF553B\", \"#00cc96\", \"#ab63fa\", \"#FFA15A\", \"#19d3f3\", \"#FF6692\", \"#B6E880\", \"#FF97FF\", \"#FECB52\"], \"font\": {\"color\": \"#2a3f5f\"}, \"geo\": {\"bgcolor\": \"white\", \"lakecolor\": \"white\", \"landcolor\": \"#E5ECF6\", \"showlakes\": true, \"showland\": true, \"subunitcolor\": \"white\"}, \"hoverlabel\": {\"align\": \"left\"}, \"hovermode\": \"closest\", \"mapbox\": {\"style\": \"light\"}, \"paper_bgcolor\": \"white\", \"plot_bgcolor\": \"#E5ECF6\", \"polar\": {\"angularaxis\": {\"gridcolor\": \"white\", \"linecolor\": \"white\", \"ticks\": \"\"}, \"bgcolor\": \"#E5ECF6\", \"radialaxis\": {\"gridcolor\": \"white\", \"linecolor\": \"white\", \"ticks\": \"\"}}, \"scene\": {\"xaxis\": {\"backgroundcolor\": \"#E5ECF6\", \"gridcolor\": \"white\", \"gridwidth\": 2, \"linecolor\": \"white\", \"showbackground\": true, \"ticks\": \"\", \"zerolinecolor\": \"white\"}, \"yaxis\": {\"backgroundcolor\": \"#E5ECF6\", \"gridcolor\": \"white\", \"gridwidth\": 2, \"linecolor\": \"white\", \"showbackground\": true, \"ticks\": \"\", \"zerolinecolor\": \"white\"}, \"zaxis\": {\"backgroundcolor\": \"#E5ECF6\", \"gridcolor\": \"white\", \"gridwidth\": 2, \"linecolor\": \"white\", \"showbackground\": true, \"ticks\": \"\", \"zerolinecolor\": \"white\"}}, \"shapedefaults\": {\"line\": {\"color\": \"#2a3f5f\"}}, \"ternary\": {\"aaxis\": {\"gridcolor\": \"white\", \"linecolor\": \"white\", \"ticks\": \"\"}, \"baxis\": {\"gridcolor\": \"white\", \"linecolor\": \"white\", \"ticks\": \"\"}, \"bgcolor\": \"#E5ECF6\", \"caxis\": {\"gridcolor\": \"white\", \"linecolor\": \"white\", \"ticks\": \"\"}}, \"title\": {\"x\": 0.05}, \"xaxis\": {\"automargin\": true, \"gridcolor\": \"white\", \"linecolor\": \"white\", \"ticks\": \"\", \"title\": {\"standoff\": 15}, \"zerolinecolor\": \"white\", \"zerolinewidth\": 2}, \"yaxis\": {\"automargin\": true, \"gridcolor\": \"white\", \"linecolor\": \"white\", \"ticks\": \"\", \"title\": {\"standoff\": 15}, \"zerolinecolor\": \"white\", \"zerolinewidth\": 2}}}, \"xaxis\": {\"constrain\": \"domain\", \"scaleanchor\": \"y\"}, \"yaxis\": {\"autorange\": \"reversed\", \"constrain\": \"domain\"}},\n",
       "                        {\"responsive\": true}\n",
       "                    ).then(function(){\n",
       "                            \n",
       "var gd = document.getElementById('1a15ce00-994e-4a7e-aa81-717b9cd8393f');\n",
       "var x = new MutationObserver(function (mutations, observer) {{\n",
       "        var display = window.getComputedStyle(gd).display;\n",
       "        if (!display || display === 'none') {{\n",
       "            console.log([gd, 'removed!']);\n",
       "            Plotly.purge(gd);\n",
       "            observer.disconnect();\n",
       "        }}\n",
       "}});\n",
       "\n",
       "// Listen for the removal of the full notebook cells\n",
       "var notebookContainer = gd.closest('#notebook-container');\n",
       "if (notebookContainer) {{\n",
       "    x.observe(notebookContainer, {childList: true});\n",
       "}}\n",
       "\n",
       "// Listen for the clearing of the current output cell\n",
       "var outputEl = gd.closest('.output');\n",
       "if (outputEl) {{\n",
       "    x.observe(outputEl, {childList: true});\n",
       "}}\n",
       "\n",
       "                        })\n",
       "                };\n",
       "                });\n",
       "            </script>\n",
       "        </div>"
      ]
     },
     "metadata": {},
     "output_type": "display_data"
    }
   ],
   "source": [
    "corr = df.corr()\n",
    "fig = px.imshow(corr)\n",
    "fig.show()"
   ]
  },
  {
   "cell_type": "markdown",
   "execution_count": null,
   "metadata": {
    "papermill": {
     "duration": 0.00979,
     "end_time": "2020-08-23T10:44:56.125852",
     "exception": false,
     "start_time": "2020-08-23T10:44:56.116062",
     "status": "completed"
    },
    "tags": []
   },
   "source": [
    "## Prediction\n",
    "\n",
    "Let's start with dividing data into train and test sets."
   ]
  },
  {
   "cell_type": "code",
   "execution_count": 15,
   "metadata": {
    "execution": {
     "iopub.execute_input": "2020-08-23T10:44:56.154082Z",
     "iopub.status.busy": "2020-08-23T10:44:56.153495Z",
     "iopub.status.idle": "2020-08-23T10:44:56.157171Z",
     "shell.execute_reply": "2020-08-23T10:44:56.156582Z"
    },
    "papermill": {
     "duration": 0.021502,
     "end_time": "2020-08-23T10:44:56.157267",
     "exception": false,
     "start_time": "2020-08-23T10:44:56.135765",
     "status": "completed"
    },
    "tags": []
   },
   "outputs": [],
   "source": [
    "X = df.drop(columns=['Survived'])\n",
    "y = df['Survived']\n",
    "train_x, test_x, train_y, test_y = train_test_split(X, y, test_size=0.3, random_state=seed)"
   ]
  },
  {
   "cell_type": "markdown",
   "execution_count": null,
   "metadata": {
    "papermill": {
     "duration": 0.009743,
     "end_time": "2020-08-23T10:44:56.176777",
     "exception": false,
     "start_time": "2020-08-23T10:44:56.167034",
     "status": "completed"
    },
    "tags": []
   },
   "source": [
    "Let's define the models that we are going to use for prediction. On top of base classifiers, I am using VotingClassifier to get final prediction."
   ]
  },
  {
   "cell_type": "code",
   "execution_count": 16,
   "metadata": {
    "execution": {
     "iopub.execute_input": "2020-08-23T10:44:56.206103Z",
     "iopub.status.busy": "2020-08-23T10:44:56.205407Z",
     "iopub.status.idle": "2020-08-23T10:44:56.209382Z",
     "shell.execute_reply": "2020-08-23T10:44:56.209878Z"
    },
    "papermill": {
     "duration": 0.023463,
     "end_time": "2020-08-23T10:44:56.210036",
     "exception": false,
     "start_time": "2020-08-23T10:44:56.186573",
     "status": "completed"
    },
    "tags": []
   },
   "outputs": [],
   "source": [
    "rf_model = RandomForestClassifier(n_estimators=10, class_weight={0:1, 1:5})\n",
    "gb_model = GradientBoostingClassifier(n_estimators=10)\n",
    "svm_model = SVC(class_weight={0:1, 1:6},probability=True)\n",
    "logreg_model = LogisticRegression(class_weight={0:1, 1:5})\n",
    "ensemble = VotingClassifier([('rf',rf_model),('gb',gb_model),('svc',svm_model),('lg',logreg_model)], voting='soft')\n",
    "\n",
    "models = {'Random Forest':rf_model, 'Gradient Boosting' :gb_model, 'SVC' :svm_model, 'Logistic Regression': logreg_model, 'Ensemble': ensemble}\n",
    "names = ['Random Forest','Gradient Boosting','SVC','Logistic Regression','Ensemble']\n"
   ]
  },
  {
   "cell_type": "code",
   "execution_count": 17,
   "metadata": {
    "execution": {
     "iopub.execute_input": "2020-08-23T10:44:56.236508Z",
     "iopub.status.busy": "2020-08-23T10:44:56.235824Z",
     "iopub.status.idle": "2020-08-23T10:44:56.239789Z",
     "shell.execute_reply": "2020-08-23T10:44:56.239126Z"
    },
    "papermill": {
     "duration": 0.019273,
     "end_time": "2020-08-23T10:44:56.239909",
     "exception": false,
     "start_time": "2020-08-23T10:44:56.220636",
     "status": "completed"
    },
    "tags": []
   },
   "outputs": [],
   "source": [
    "n_repeats = 10\n",
    "rskf = RepeatedStratifiedKFold(n_splits=4, n_repeats=n_repeats, random_state=seed)"
   ]
  },
  {
   "cell_type": "code",
   "execution_count": 18,
   "metadata": {
    "execution": {
     "iopub.execute_input": "2020-08-23T10:44:56.271662Z",
     "iopub.status.busy": "2020-08-23T10:44:56.269202Z",
     "iopub.status.idle": "2020-08-23T10:44:58.995612Z",
     "shell.execute_reply": "2020-08-23T10:44:58.994570Z"
    },
    "papermill": {
     "duration": 2.745544,
     "end_time": "2020-08-23T10:44:58.995768",
     "exception": false,
     "start_time": "2020-08-23T10:44:56.250224",
     "status": "completed"
    },
    "tags": []
   },
   "outputs": [
    {
     "name": "stdout",
     "output_type": "stream",
     "text": [
      "Validation ROC AUC score for Random Forest: 0.6921621621621621\n",
      "Validation ROC AUC score for Gradient Boosting: 0.7549831081081081\n",
      "Validation ROC AUC score for SVC: 0.7033952702702703\n",
      "Validation ROC AUC score for Logistic Regression: 0.7517060810810811\n",
      "Validation ROC AUC score for Ensemble: 0.7584459459459459\n"
     ]
    }
   ],
   "source": [
    "i=0\n",
    "roc_auc_scores = np.zeros(5)\n",
    "for train_index, val_index in rskf.split(train_x, train_y):\n",
    "    \n",
    "    x_train, x_val = train_x.iloc[train_index], train_x.iloc[val_index]\n",
    "    y_train, y_val = train_y.iloc[train_index], train_y.iloc[val_index]\n",
    "    \n",
    "    models[names[i]].fit(x_train, y_train)\n",
    "    y_pred = models[names[i]].predict_proba(x_val)   \n",
    "    y_proba = [p[1] for p in y_pred]\n",
    "    roc_auc_scores[i] += roc_auc_score(y_val, y_proba)\n",
    "  \n",
    "    i += 1\n",
    "    \n",
    "    if i == 5:\n",
    "        i=0\n",
    "\n",
    "roc_auc_scores = roc_auc_scores/(n_repeats-2)\n",
    "for i in range(len(names)):\n",
    "    print(f\"Validation ROC AUC score for {names[i]}: {roc_auc_scores[i]}\")"
   ]
  },
  {
   "cell_type": "markdown",
   "execution_count": null,
   "metadata": {
    "papermill": {
     "duration": 0.024502,
     "end_time": "2020-08-23T10:44:59.035973",
     "exception": false,
     "start_time": "2020-08-23T10:44:59.011471",
     "status": "completed"
    },
    "tags": []
   },
   "source": [
    "Let's apply the trained models on test data to see how it performs on unseen data."
   ]
  },
  {
   "cell_type": "code",
   "execution_count": 19,
   "metadata": {
    "execution": {
     "iopub.execute_input": "2020-08-23T10:44:59.078401Z",
     "iopub.status.busy": "2020-08-23T10:44:59.077170Z",
     "iopub.status.idle": "2020-08-23T10:44:59.354769Z",
     "shell.execute_reply": "2020-08-23T10:44:59.354191Z"
    },
    "papermill": {
     "duration": 0.303619,
     "end_time": "2020-08-23T10:44:59.354881",
     "exception": false,
     "start_time": "2020-08-23T10:44:59.051262",
     "status": "completed"
    },
    "tags": []
   },
   "outputs": [
    {
     "data": {
      "image/png": "[encoded data removed]",
      "text/plain": [
       "<Figure size 432x288 with 1 Axes>"
      ]
     },
     "metadata": {
      "needs_background": "light"
     },
     "output_type": "display_data"
    }
   ],
   "source": [
    "for i in names:\n",
    "    y_pred = models[i].predict_proba(test_x)\n",
    "    fpr1, tpr1, thresh1 = roc_curve(test_y, y_pred[:,1], pos_label=1)\n",
    "    plt.plot(fpr1, tpr1, linestyle='--', label=i)\n",
    "\n",
    "plt.plot([0,1],[0,1], linestyle='--', color='blue')\n",
    "plt.title('ROC curve')\n",
    "plt.xlabel('False Positive Rate')\n",
    "plt.ylabel('True Positive rate')\n",
    "plt.legend(loc='best')\n",
    "plt.show()\n",
    "    "
   ]
  },
  {
   "cell_type": "code",
   "execution_count": 20,
   "metadata": {
    "execution": {
     "iopub.execute_input": "2020-08-23T10:44:59.385021Z",
     "iopub.status.busy": "2020-08-23T10:44:59.384379Z",
     "iopub.status.idle": "2020-08-23T10:44:59.419918Z",
     "shell.execute_reply": "2020-08-23T10:44:59.419142Z"
    },
    "papermill": {
     "duration": 0.05439,
     "end_time": "2020-08-23T10:44:59.420055",
     "exception": false,
     "start_time": "2020-08-23T10:44:59.365665",
     "status": "completed"
    },
    "tags": []
   },
   "outputs": [
    {
     "name": "stdout",
     "output_type": "stream",
     "text": [
      "ROC AUC score:  0.8464656964656965\n",
      "Confusion matrix: \n",
      " [[258   2]\n",
      " [ 32   5]]\n",
      "Accuracy : 0.8855218855218855\n"
     ]
    }
   ],
   "source": [
    "pred_y = ensemble.predict_proba(test_x)\n",
    "prob_y = [p[1] for p in pred_y]\n",
    "print(\"ROC AUC score: \",roc_auc_score(test_y, prob_y))\n",
    "\n",
    "pred_y = ensemble.predict(test_x)\n",
    "print(\"Confusion matrix: \\n\", confusion_matrix(test_y, pred_y))\n",
    "print(\"Accuracy :\", accuracy_score(test_y, pred_y))\n"
   ]
  },
  {
   "cell_type": "code",
   "execution_count": null,
   "metadata": {
    "papermill": {
     "duration": 0.015664,
     "end_time": "2020-08-23T10:44:59.451977",
     "exception": false,
     "start_time": "2020-08-23T10:44:59.436313",
     "status": "completed"
    },
    "tags": []
   },
   "outputs": [],
   "source": []
  }
 ],
 "metadata": {
  "kernelspec": {
   "display_name": "Python 3",
   "language": "python",
   "name": "python3"
  },
  "language_info": {
   "codemirror_mode": {
    "name": "ipython",
    "version": 3
   },
   "file_extension": ".py",
   "mimetype": "text/x-python",
   "name": "python",
   "nbconvert_exporter": "python",
   "pygments_lexer": "ipython3",
   "version": "3.7.6"
  },
  "papermill": {
   "duration": 12.639545,
   "end_time": "2020-08-23T10:44:59.577377",
   "environment_variables": {},
   "exception": null,
   "input_path": "__notebook__.ipynb",
   "output_path": "__notebook__.ipynb",
   "parameters": {},
   "start_time": "2020-08-23T10:44:46.937832",
   "version": "2.1.0"
  }
 },
 "nbformat": 4,
 "nbformat_minor": 4
}
